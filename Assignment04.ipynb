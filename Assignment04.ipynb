{
  "nbformat": 4,
  "nbformat_minor": 0,
  "metadata": {
    "kernelspec": {
      "display_name": "Python 3",
      "language": "python",
      "name": "python3"
    },
    "language_info": {
      "codemirror_mode": {
        "name": "ipython",
        "version": 3
      },
      "file_extension": ".py",
      "mimetype": "text/x-python",
      "name": "python",
      "nbconvert_exporter": "python",
      "pygments_lexer": "ipython3",
      "version": "3.6.8"
    },
    "latex_envs": {
      "LaTeX_envs_menu_present": true,
      "autoclose": false,
      "autocomplete": true,
      "bibliofile": "biblio.bib",
      "cite_by": "apalike",
      "current_citInitial": 1,
      "eqLabelWithNumbers": true,
      "eqNumInitial": 1,
      "hotkeys": {
        "equation": "Ctrl-E",
        "itemize": "Ctrl-I"
      },
      "labels_anchors": false,
      "latex_user_defs": false,
      "report_style_numbering": false,
      "user_envs_cfg": true
    },
    "colab": {
      "name": "Assignment04.ipynb",
      "provenance": [],
      "collapsed_sections": [],
      "include_colab_link": true
    }
  },
  "cells": [
    {
      "cell_type": "markdown",
      "metadata": {
        "id": "view-in-github",
        "colab_type": "text"
      },
      "source": [
        "<a href=\"https://colab.research.google.com/github/nneguss1/DATA-690-WANG/blob/master/Assignment04.ipynb\" target=\"_parent\"><img src=\"https://colab.research.google.com/assets/colab-badge.svg\" alt=\"Open In Colab\"/></a>"
      ]
    },
    {
      "cell_type": "markdown",
      "metadata": {
        "id": "4arXRMYtfjmf",
        "colab_type": "text"
      },
      "source": [
        "# Assignment 04"
      ]
    },
    {
      "cell_type": "code",
      "metadata": {
        "id": "lSae7J0gfjmg",
        "colab_type": "code",
        "colab": {}
      },
      "source": [
        "fileNameIn= r\"C:\\Users\\nnegussie\\Downloads\\census_cost.txt\"\n",
        "fileNameOut= r\"C:\\Users\\nnegussie\\Downloads\\census_cost.csv\""
      ],
      "execution_count": null,
      "outputs": []
    },
    {
      "cell_type": "markdown",
      "metadata": {
        "id": "q9C5RYCSfjmk",
        "colab_type": "text"
      },
      "source": [
        "1. Write code to open the text file census_cost.txt and read all lines into a list named \"line_list\". Print line_list."
      ]
    },
    {
      "cell_type": "code",
      "metadata": {
        "id": "BwkUv9yAfjml",
        "colab_type": "code",
        "colab": {},
        "outputId": "5370c07f-fa79-4e95-cdb6-054c7e2d9e27"
      },
      "source": [
        "file = open(fileNameIn, 'r') \n",
        "line_list = file.readlines() \n",
        "print(line_list) \n",
        "file.close() "
      ],
      "execution_count": null,
      "outputs": [
        {
          "output_type": "stream",
          "text": [
            "['Source: https://www.genealogybranches.com/censuscosts.html\\n', 'Census Year\\tTotal Population\\tCensus Cost\\tAverage Cost Per Person\\n', '1790\\t3,929,214\\t$44,377\\t1.13 cents\\n', '1800\\t5,308,483\\t$66,109\\t1.24 cents\\n', '1810\\t7,239,881\\t$178,445\\t2.46 cents\\n', '1820\\t9,633,822\\t$208,526\\t2.16 cents\\n', '1830\\t12,866,020\\t$378,545\\t2.94 cents\\n', '1840\\t17,069,458\\t$833,371\\t4.88 cents\\n', '1850\\t23,191,876\\t$1,423,351\\t6.14 cents\\n', '1860\\t31,443,321\\t$1,969,377\\t6.26 cents\\n', '1870\\t38,558,371\\t$3,421,198\\t8.87 cents\\n', '1880\\t50,155,783\\t$5,790,678\\t11.54 cents\\n', '1890\\t62,979,766\\t$11,547,127\\t18.33 cents\\n', '1900\\t76,303,387\\t$11,854,000\\t15.54 cents\\n', '1910\\t91,972,266\\t$15,968,000\\t17.07 cents\\n', '1920\\t105,710,620\\t$25,117,000\\t23.76 cents\\n', '1930\\t122,775,046\\t$40,156,000\\t32.71 cents\\n', '1940\\t131,669,275\\t$67,527,000\\t51.29 cents\\n', '1950\\t151,325,798\\t$91,462,000\\t60.44 cents\\n', '1960\\t179,323,175\\t$127,934,000\\t71.34 cents\\n', '1970\\t203,302,031\\t$247,653,000\\t$1.22\\n', '1980\\t226,542,199\\t$1,078,488,000\\t$4.76\\n', '1990\\t248,718,301\\t$2,492,830,000\\t$10.02\\n', '2000\\t281,421,906\\t$4.5 Billion\\t$15.99\\n', '2010*\\t308,745,538\\t$13 Billion\\t$42.11\\n']\n"
          ],
          "name": "stdout"
        }
      ]
    },
    {
      "cell_type": "markdown",
      "metadata": {
        "id": "XP0E5dVPfjmp",
        "colab_type": "text"
      },
      "source": [
        "2. Extract the first two lines and put them in a different list named \"top2_list\". You will need to use them later. Print the top2_list."
      ]
    },
    {
      "cell_type": "code",
      "metadata": {
        "id": "HLwkp9DMfjmr",
        "colab_type": "code",
        "colab": {},
        "outputId": "36843023-fa8d-4cf2-8f0b-6977ab97eff6"
      },
      "source": [
        "top2_list=line_list[:2]\n",
        "print(top2_list)"
      ],
      "execution_count": null,
      "outputs": [
        {
          "output_type": "stream",
          "text": [
            "['Source: https://www.genealogybranches.com/censuscosts.html\\n', 'Census Year\\tTotal Population\\tCensus Cost\\tAverage Cost Per Person\\n']\n"
          ],
          "name": "stdout"
        }
      ]
    },
    {
      "cell_type": "markdown",
      "metadata": {
        "id": "tnaWPHMMfjmu",
        "colab_type": "text"
      },
      "source": [
        "3. Put the rest of the lines (containing useful data elements) in a new list named \"data_list\". Print data_list."
      ]
    },
    {
      "cell_type": "code",
      "metadata": {
        "id": "jI5vIul_fjmu",
        "colab_type": "code",
        "colab": {},
        "outputId": "a2bd239a-635a-4184-8027-f8b82571b373"
      },
      "source": [
        "data_list= line_list[2:]\n",
        "print(data_list)"
      ],
      "execution_count": null,
      "outputs": [
        {
          "output_type": "stream",
          "text": [
            "['1790\\t3,929,214\\t$44,377\\t1.13 cents\\n', '1800\\t5,308,483\\t$66,109\\t1.24 cents\\n', '1810\\t7,239,881\\t$178,445\\t2.46 cents\\n', '1820\\t9,633,822\\t$208,526\\t2.16 cents\\n', '1830\\t12,866,020\\t$378,545\\t2.94 cents\\n', '1840\\t17,069,458\\t$833,371\\t4.88 cents\\n', '1850\\t23,191,876\\t$1,423,351\\t6.14 cents\\n', '1860\\t31,443,321\\t$1,969,377\\t6.26 cents\\n', '1870\\t38,558,371\\t$3,421,198\\t8.87 cents\\n', '1880\\t50,155,783\\t$5,790,678\\t11.54 cents\\n', '1890\\t62,979,766\\t$11,547,127\\t18.33 cents\\n', '1900\\t76,303,387\\t$11,854,000\\t15.54 cents\\n', '1910\\t91,972,266\\t$15,968,000\\t17.07 cents\\n', '1920\\t105,710,620\\t$25,117,000\\t23.76 cents\\n', '1930\\t122,775,046\\t$40,156,000\\t32.71 cents\\n', '1940\\t131,669,275\\t$67,527,000\\t51.29 cents\\n', '1950\\t151,325,798\\t$91,462,000\\t60.44 cents\\n', '1960\\t179,323,175\\t$127,934,000\\t71.34 cents\\n', '1970\\t203,302,031\\t$247,653,000\\t$1.22\\n', '1980\\t226,542,199\\t$1,078,488,000\\t$4.76\\n', '1990\\t248,718,301\\t$2,492,830,000\\t$10.02\\n', '2000\\t281,421,906\\t$4.5 Billion\\t$15.99\\n', '2010*\\t308,745,538\\t$13 Billion\\t$42.11\\n']\n"
          ],
          "name": "stdout"
        }
      ]
    },
    {
      "cell_type": "markdown",
      "metadata": {
        "id": "x57MHL23fjmx",
        "colab_type": "text"
      },
      "source": [
        "4. Extract the column \"Census Year\" from data_list and assign them to a list named year_list. Remove the \"\" from the last element \"2010\". Print the cleansed year_list."
      ]
    },
    {
      "cell_type": "code",
      "metadata": {
        "id": "lw4aTPNbfjmx",
        "colab_type": "code",
        "colab": {},
        "outputId": "f4081a90-79e2-4c29-ad06-fab8802966f3"
      },
      "source": [
        "year_list=[]\n",
        "for line in data_list:\n",
        "    year=line.split('\\t')[0]\n",
        "    yearStrip= year.replace('*','')\n",
        "    year_list.append(yearStrip)\n",
        "    \n",
        "print(year_list)"
      ],
      "execution_count": null,
      "outputs": [
        {
          "output_type": "stream",
          "text": [
            "['1790', '1800', '1810', '1820', '1830', '1840', '1850', '1860', '1870', '1880', '1890', '1900', '1910', '1920', '1930', '1940', '1950', '1960', '1970', '1980', '1990', '2000', '2010']\n"
          ],
          "name": "stdout"
        }
      ]
    },
    {
      "cell_type": "markdown",
      "metadata": {
        "id": "CQsyoITBfjm0",
        "colab_type": "text"
      },
      "source": [
        "5. Extract the \"Total Population\" column from the data_list and assign them to a list named \"pop_list\". Remove the \",\" from the numbers since Python doesn't recognize them. Print the cleansed \"pop_list\".\n"
      ]
    },
    {
      "cell_type": "code",
      "metadata": {
        "id": "FgRiSljwfjm0",
        "colab_type": "code",
        "colab": {},
        "outputId": "738035a1-131f-4daa-f5d9-561853ffd309"
      },
      "source": [
        "pop_list=[]\n",
        "for line in data_list:\n",
        "    pop=line.split('\\t')[1]\n",
        "    popStrip= pop.replace(',','')\n",
        "    pop_list.append(popStrip)\n",
        "    \n",
        "print(pop_list)"
      ],
      "execution_count": null,
      "outputs": [
        {
          "output_type": "stream",
          "text": [
            "['3929214', '5308483', '7239881', '9633822', '12866020', '17069458', '23191876', '31443321', '38558371', '50155783', '62979766', '76303387', '91972266', '105710620', '122775046', '131669275', '151325798', '179323175', '203302031', '226542199', '248718301', '281421906', '308745538']\n"
          ],
          "name": "stdout"
        }
      ]
    },
    {
      "cell_type": "markdown",
      "metadata": {
        "id": "Po3_Nzcsfjm5",
        "colab_type": "text"
      },
      "source": [
        "6. Extract the \"Census Cost\" column from the data_list and assign them to a list named \"cost_list\". Remove the \",\", and \"$\", and \"Billion\". Make sure to add the \"0\"s to the numbers from which you removed \"Billion\". Print the cleansed cost_list."
      ]
    },
    {
      "cell_type": "code",
      "metadata": {
        "id": "5vEwLGWrfjm5",
        "colab_type": "code",
        "colab": {},
        "outputId": "03ca7d7e-69d6-4279-9c15-bc6e6830276b"
      },
      "source": [
        "cost_list=[]\n",
        "for line in data_list:\n",
        "    cost=line.split('\\t')[2]\n",
        "    costStrip= cost.replace(',','').replace('$','')\n",
        "    if(-1 !=costStrip.find(\"Billion\")):\n",
        "        costStrip= int(float(costStrip.split(' ')[0])*1000000000)\n",
        "    cost_list.append(costStrip)\n",
        "    \n",
        "print(cost_list)"
      ],
      "execution_count": null,
      "outputs": [
        {
          "output_type": "stream",
          "text": [
            "['44377', '66109', '178445', '208526', '378545', '833371', '1423351', '1969377', '3421198', '5790678', '11547127', '11854000', '15968000', '25117000', '40156000', '67527000', '91462000', '127934000', '247653000', '1078488000', '2492830000', 4500000000, 13000000000]\n"
          ],
          "name": "stdout"
        }
      ]
    },
    {
      "cell_type": "markdown",
      "metadata": {
        "id": "MKJtl3e0fjm8",
        "colab_type": "text"
      },
      "source": [
        "7. Extract the \"Average Cost per Person\" column from the data_list and assign them to a list named \"avg_list\". Remove the \"cents\", and \"$\". Make sure to divide the numbers in cents by 100 so that all numbers are measured in dollar. Print the cleansed avg_list."
      ]
    },
    {
      "cell_type": "code",
      "metadata": {
        "id": "99FP5gvVfjm8",
        "colab_type": "code",
        "colab": {},
        "outputId": "d1e044fb-1142-46af-a57a-5669081706cf"
      },
      "source": [
        "avg_list=[]\n",
        "for line in data_list:\n",
        "    avg=line.split('\\t')[3]\n",
        "    avgStrip= avg.replace('$','')\n",
        "    if(-1 != avgStrip.find('cent')):\n",
        "        avgStrip= float(avgStrip.split(' ')[0])/100\n",
        "    avg_list.append(float(avgStrip))\n",
        "    \n",
        "print(avg_list)"
      ],
      "execution_count": null,
      "outputs": [
        {
          "output_type": "stream",
          "text": [
            "[0.0113, 0.0124, 0.0246, 0.0216, 0.0294, 0.048799999999999996, 0.061399999999999996, 0.0626, 0.08869999999999999, 0.11539999999999999, 0.1833, 0.15539999999999998, 0.1707, 0.2376, 0.3271, 0.5129, 0.6043999999999999, 0.7134, 1.22, 4.76, 10.02, 15.99, 42.11]\n"
          ],
          "name": "stdout"
        }
      ]
    },
    {
      "cell_type": "markdown",
      "metadata": {
        "id": "dnAB7p53fjm-",
        "colab_type": "text"
      },
      "source": [
        "8. Coalesce the cleansed data and save them to a text file named \"census_cost.csv\". The new file should look similar to the original source file except that it is in comma-delimited format and the numbers have been cleansed. The top two lines from the original file should be retained in the new file.\n"
      ]
    },
    {
      "cell_type": "code",
      "metadata": {
        "id": "REH9hL_Gfjm_",
        "colab_type": "code",
        "colab": {}
      },
      "source": [
        "fileOut = open(fileNameOut, 'w') \n",
        "fileOut.writelines(top2_list) \n",
        "length= len(avg_list)\n",
        "for index in range(0,length):\n",
        "    line= year_list[index] + \",\" + pop_list[index] + \",\" + str(cost_list[index]) + \",\" + str(avg_list[index]) + \"\\n\"\n",
        "    fileOut.writelines(line)\n",
        "fileOut.close() "
      ],
      "execution_count": null,
      "outputs": []
    },
    {
      "cell_type": "markdown",
      "metadata": {
        "id": "aT04QirSfjnA",
        "colab_type": "text"
      },
      "source": [
        "9. Open the newly-created file \"census_cost.csv\", read all lines and display them. How does it look?"
      ]
    },
    {
      "cell_type": "code",
      "metadata": {
        "id": "vFy9MnR7fjnB",
        "colab_type": "code",
        "colab": {},
        "outputId": "281b99a3-a2c9-4cb9-cf8a-a35451cc26c7"
      },
      "source": [
        "file = open(fileNameOut, 'r') \n",
        "line_list_csv = file.readlines() \n",
        "print(line_list_csv) \n",
        "file.close() "
      ],
      "execution_count": null,
      "outputs": [
        {
          "output_type": "stream",
          "text": [
            "['Source: https://www.genealogybranches.com/censuscosts.html\\n', 'Census Year\\tTotal Population\\tCensus Cost\\tAverage Cost Per Person\\n', '1790,3929214,44377,0.0113\\n', '1800,5308483,66109,0.0124\\n', '1810,7239881,178445,0.0246\\n', '1820,9633822,208526,0.0216\\n', '1830,12866020,378545,0.0294\\n', '1840,17069458,833371,0.048799999999999996\\n', '1850,23191876,1423351,0.061399999999999996\\n', '1860,31443321,1969377,0.0626\\n', '1870,38558371,3421198,0.08869999999999999\\n', '1880,50155783,5790678,0.11539999999999999\\n', '1890,62979766,11547127,0.1833\\n', '1900,76303387,11854000,0.15539999999999998\\n', '1910,91972266,15968000,0.1707\\n', '1920,105710620,25117000,0.2376\\n', '1930,122775046,40156000,0.3271\\n', '1940,131669275,67527000,0.5129\\n', '1950,151325798,91462000,0.6043999999999999\\n', '1960,179323175,127934000,0.7134\\n', '1970,203302031,247653000,1.22\\n', '1980,226542199,1078488000,4.76\\n', '1990,248718301,2492830000,10.02\\n', '2000,281421906,4500000000,15.99\\n', '2010,308745538,13000000000,42.11\\n']\n"
          ],
          "name": "stdout"
        }
      ]
    },
    {
      "cell_type": "code",
      "metadata": {
        "id": "Xs7HFCl2fjnD",
        "colab_type": "code",
        "colab": {}
      },
      "source": [
        ""
      ],
      "execution_count": null,
      "outputs": []
    }
  ]
}