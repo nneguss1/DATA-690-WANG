{
  "nbformat": 4,
  "nbformat_minor": 0,
  "metadata": {
    "colab": {
      "name": "Assignment2.ipynb",
      "provenance": []
    },
    "kernelspec": {
      "name": "python3",
      "display_name": "Python 3"
    }
  },
  "cells": [
    {
      "cell_type": "markdown",
      "metadata": {
        "id": "KmcJ4Puz6Ko2",
        "colab_type": "text"
      },
      "source": [
        "## Collect Data\n"
      ]
    },
    {
      "cell_type": "code",
      "metadata": {
        "id": "_uRKX3OxWaTr",
        "colab_type": "code",
        "colab": {}
      },
      "source": [
        "mylist = []        #Start out with an empty list. This will be used to store the ten numbers.\n",
        "count = 0          #I am using a while loop and I want to stop the loop when the count reach ten. \n",
        "while True:\n",
        "  if count == 10: \n",
        "    break\n",
        "\n",
        "  mynumber = input(f\"Please enter an integer:  \")\n",
        "  try:\n",
        "    mynumber = int(mynumber)\n",
        "    mylist.append(mynumber)\n",
        "    count = count + 1\n",
        "  except:\n",
        "    print(\"You have entered a non-integer. Please try again!\")\n",
        "#for i in range(0, 3):\n",
        "#  mynumber = int(input())\n",
        "#  mylist.append(mynumber)\n",
        "list_sort =sorted (mylist)     #I decided to use the sort function to sort out my list members. I figured it may be easier to than comparing one member with the other. \n",
        "print(mylist)\n",
        "print(list_sort)\n",
        "#Max = list_sort[-1]\n",
        "#Min = list_sort[0]\n",
        "\n"
      ],
      "execution_count": null,
      "outputs": []
    },
    {
      "cell_type": "markdown",
      "metadata": {
        "id": "AsTs0c1j6nLo",
        "colab_type": "text"
      },
      "source": [
        "## Calculate Mean, Max and Min and Range"
      ]
    },
    {
      "cell_type": "code",
      "metadata": {
        "id": "qPq86cNZ6xRO",
        "colab_type": "code",
        "colab": {}
      },
      "source": [
        "print(\"Average: \", sum(list_sort)/len(list_sort))\n",
        "print(\"Maximum : \", list_sort[-1])\n",
        "print(\"Minimum : \", list_sort[0])\n",
        "print(\"Range : \", list_sort[-1] - list_sort[0])    #The difference between the first in the sort list and the last in th sorted list. \n"
      ],
      "execution_count": null,
      "outputs": []
    },
    {
      "cell_type": "markdown",
      "metadata": {
        "id": "A25Nvi2GAA1F",
        "colab_type": "text"
      },
      "source": [
        "## Calculating Standard Deviation and Variance"
      ]
    },
    {
      "cell_type": "code",
      "metadata": {
        "id": "bv2cUH2gALc4",
        "colab_type": "code",
        "colab": {}
      },
      "source": [
        "MyMean = sum(list_sort)/len(list_sort)\n",
        "Variance = sum([((x-MyMean)**2) for x in list_sort])/len(list_sort)\n",
        "Standard_dev = Variance**0.5\n",
        "print(\"Variance : \", Variance)\n",
        "print(\"Standard Deviation : \", Standard_dev)"
      ],
      "execution_count": null,
      "outputs": []
    }
  ]
}