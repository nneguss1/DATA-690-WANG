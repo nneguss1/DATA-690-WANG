{
 "cells": [
  {
   "cell_type": "markdown",
   "metadata": {},
   "source": [
    "# Practice run before attempting to solve the homework questions. "
   ]
  },
  {
   "cell_type": "code",
   "execution_count": 2,
   "metadata": {},
   "outputs": [
    {
     "name": "stdout",
     "output_type": "stream",
     "text": [
      "[1, 1, 1, 1, 1, 1, 1, 1, 1, 1]\n"
     ]
    }
   ],
   "source": [
    "import random\n",
    "e = 0\n",
    "first_row = []\n",
    "for i in range(0,10):\n",
    "    x = random.randint(0, 10)\n",
    "for e in range (0, 10):\n",
    "    first_row.append(x)\n",
    "    \n",
    "print(first_row)"
   ]
  },
  {
   "cell_type": "markdown",
   "metadata": {},
   "source": [
    "# First question, generate a matrix of 10X10 in range of 0 & 10. You should be able to do this without using the numpy function. My solution applies the use of two nested for loops running in range of 10. "
   ]
  },
  {
   "cell_type": "code",
   "execution_count": 3,
   "metadata": {},
   "outputs": [
    {
     "name": "stdout",
     "output_type": "stream",
     "text": [
      "1 5 5 0 3 5 3 0 7 3\n",
      "5 7 5 3 9 3 6 9 4 2\n",
      "6 8 0 7 1 1 0 3 8 0\n",
      "2 3 5 0 9 9 4 1 5 7\n",
      "0 3 5 3 4 9 2 4 8 5\n",
      "5 7 1 7 0 5 3 6 3 6\n",
      "6 7 9 1 7 2 0 1 7 0\n",
      "5 3 1 1 9 9 6 8 0 8\n",
      "0 7 4 9 7 0 5 6 2 8\n",
      "9 8 4 9 1 6 3 6 5 2\n"
     ]
    }
   ],
   "source": [
    "import random\n",
    "matrixA = [[random.randrange(0, 10) for e in range(10)] for e in range(10)]\n",
    "for x in  matrixA:\n",
    "    print (*x)"
   ]
  },
  {
   "cell_type": "markdown",
   "metadata": {},
   "source": [
    "# Second Question, check the row and column for matrixA to see if there are any odd numbers and replaces them with \"@\" "
   ]
  },
  {
   "cell_type": "code",
   "execution_count": 4,
   "metadata": {},
   "outputs": [
    {
     "name": "stdout",
     "output_type": "stream",
     "text": [
      "@ @ @ 0 @ @ @ 0 @ @\n",
      "@ @ @ @ @ @ 6 @ 4 2\n",
      "6 8 0 @ @ @ 0 @ 8 0\n",
      "2 @ @ 0 @ @ 4 @ @ @\n",
      "0 @ @ @ 4 @ 2 4 8 @\n",
      "@ @ @ @ 0 @ @ 6 @ 6\n",
      "6 @ @ @ @ 2 0 @ @ 0\n",
      "@ @ @ @ @ @ 6 8 0 8\n",
      "0 @ 4 @ @ 0 @ 6 2 8\n",
      "@ 8 4 @ @ 6 @ 6 @ 2\n"
     ]
    }
   ],
   "source": [
    "for row in range(10):\n",
    "    for column in range(10):\n",
    "        if(matrixA[row][column] % 2 != 0):\n",
    "            matrixA[row][column] = \"@\"\n",
    "\n",
    "for x in matrixA:\n",
    "    print (*x)\n"
   ]
  },
  {
   "cell_type": "markdown",
   "metadata": {},
   "source": [
    "# Third Question, adding a new column for storing the sum along the row. I had to make a new 2D array since the original matrix is already modified in question 2. I also used a built in function in python \"sum\" to add values along the row. I also applied a couple of print statements to append and print the sum at the end.  "
   ]
  },
  {
   "cell_type": "code",
   "execution_count": 2,
   "metadata": {},
   "outputs": [
    {
     "name": "stdout",
     "output_type": "stream",
     "text": [
      "1 7 7 0 4 3 8 2 0 6 * 38\n",
      "9 0 5 5 5 3 5 0 5 6 * 43\n",
      "2 9 2 7 1 7 7 1 1 3 * 40\n",
      "1 1 1 3 9 2 2 7 8 4 * 38\n",
      "5 9 1 3 0 0 5 1 0 2 * 26\n",
      "3 6 9 3 2 5 9 1 7 1 * 46\n",
      "1 8 0 6 4 0 9 8 8 1 * 45\n",
      "2 0 7 8 8 0 9 4 5 9 * 52\n",
      "4 9 1 7 6 5 8 1 2 2 * 45\n",
      "3 8 9 3 4 0 3 8 6 3 * 47\n"
     ]
    }
   ],
   "source": [
    "import random\n",
    "matrixB = [[random.randrange(0, 10) for e in range(10)] for e in range(10)]\n",
    "for row in  matrixB:\n",
    "    total = sum(row)\n",
    "    for x in row:\n",
    "        print(x, end = ' ')\n",
    "    print (f'* {sum(row)}')"
   ]
  }
 ],
 "metadata": {
  "kernelspec": {
   "display_name": "Python 3",
   "language": "python",
   "name": "python3"
  },
  "language_info": {
   "codemirror_mode": {
    "name": "ipython",
    "version": 3
   },
   "file_extension": ".py",
   "mimetype": "text/x-python",
   "name": "python",
   "nbconvert_exporter": "python",
   "pygments_lexer": "ipython3",
   "version": "3.8.1"
  }
 },
 "nbformat": 4,
 "nbformat_minor": 4
}
