{
  "nbformat": 4,
  "nbformat_minor": 0,
  "metadata": {
    "colab": {
      "name": "Data690_Assignment07.ipynb",
      "provenance": [],
      "collapsed_sections": [],
      "toc_visible": true,
      "mount_file_id": "1Ea13lB5ZARNeBZ_NfLbD9di_9135hfiH",
      "authorship_tag": "ABX9TyNiMx+VMAdjnXPVibyw6F10",
      "include_colab_link": true
    },
    "kernelspec": {
      "name": "python3",
      "display_name": "Python 3"
    }
  },
  "cells": [
    {
      "cell_type": "markdown",
      "metadata": {
        "id": "view-in-github",
        "colab_type": "text"
      },
      "source": [
        "<a href=\"https://colab.research.google.com/github/nneguss1/DATA-690-WANG/blob/master/Assignment_07/Data690_Assignment07.ipynb\" target=\"_parent\"><img src=\"https://colab.research.google.com/assets/colab-badge.svg\" alt=\"Open In Colab\"/></a>"
      ]
    },
    {
      "cell_type": "code",
      "metadata": {
        "id": "iR1guE2UFqL9"
      },
      "source": [
        "# <1> \n",
        "# Import libraries\n",
        "\n",
        "#(Write code here)\n",
        "import pandas as pd\n",
        "import matplotlib.pyplot as plt\n",
        "import numpy as np\n",
        "import os \n",
        "import fnmatch\n",
        "import re"
      ],
      "execution_count": null,
      "outputs": []
    },
    {
      "cell_type": "code",
      "metadata": {
        "id": "lFvSOdLjGC_0",
        "colab": {
          "base_uri": "https://localhost:8080/",
          "height": 35
        },
        "outputId": "6951df32-d440-415f-e378-f50e213d6269"
      },
      "source": [
        "# <2> \n",
        "# Display the current workin directory using os.getcwd()\n",
        "# you would need to import a standard Python library called os which stands for operating system,\n",
        "# so place that import statement in the previous cell.\n",
        "# Since your notebook and your data files are not in # the same folder, \n",
        "# you want to make sure what is the current working folder and \n",
        "# how to access a data file in a different folder\n",
        "\n",
        "#(Write code here)\n",
        "cwd = os.getcwd()\n",
        "#if I want to change the working directory to my personal desktop\n",
        "#os.chdir('/Users/neftalemnegussie/Desktop/DATA_690/CollegeScorecard_Raw_Data')\n",
        "cwd"
      ],
      "execution_count": null,
      "outputs": [
        {
          "output_type": "execute_result",
          "data": {
            "application/vnd.google.colaboratory.intrinsic+json": {
              "type": "string"
            },
            "text/plain": [
              "'/content'"
            ]
          },
          "metadata": {
            "tags": []
          },
          "execution_count": 2
        }
      ]
    },
    {
      "cell_type": "code",
      "metadata": {
        "id": "bEG3AVsjGPRi",
        "colab": {
          "base_uri": "https://localhost:8080/"
        },
        "outputId": "6ec9fbe8-2ccc-406f-e043-bd8dc86c58e3"
      },
      "source": [
        "# <3> \n",
        "# os library has a method call listdir which generates a list of files in a directory/folder.\n",
        "# use this method to assign the contents (list of file names) of the data folder to a variable and display it.\n",
        "# # You can use ../ construct to traverse to the parent folder and then to another foloder parallel to the current folder\n",
        "\n",
        "#(Write code here)\n",
        "# The path for listing items\n",
        "path = '/content/drive/My Drive/Colab Notebooks'\n",
        "data_files = os.listdir(path)\n",
        "# List of files in complete directory\n",
        "file_list = []\n",
        " \n",
        "for path, folders, files in os.walk(path):\n",
        "    for file in files:\n",
        "        if fnmatch.fnmatch(file, '*MERGED*'):\n",
        "            file_list.append(os.path.join(path, file))\n",
        " \n",
        "# Loop to print each filename separately\n",
        "#for filename in file_list:\n",
        "#   print(filename)\n",
        "print(file_list)\n",
        "np.size(file_list)\n"
      ],
      "execution_count": null,
      "outputs": [
        {
          "output_type": "stream",
          "text": [
            "['/content/drive/My Drive/Colab Notebooks/MERGED1996_97_PP.csv', '/content/drive/My Drive/Colab Notebooks/MERGED1997_98_PP.csv', '/content/drive/My Drive/Colab Notebooks/MERGED1998_99_PP.csv', '/content/drive/My Drive/Colab Notebooks/MERGED1999_00_PP.csv', '/content/drive/My Drive/Colab Notebooks/MERGED2000_01_PP.csv', '/content/drive/My Drive/Colab Notebooks/MERGED2001_02_PP.csv', '/content/drive/My Drive/Colab Notebooks/MERGED2002_03_PP.csv', '/content/drive/My Drive/Colab Notebooks/MERGED2003_04_PP.csv', '/content/drive/My Drive/Colab Notebooks/MERGED2004_05_PP.csv', '/content/drive/My Drive/Colab Notebooks/MERGED2005_06_PP.csv', '/content/drive/My Drive/Colab Notebooks/MERGED2006_07_PP.csv', '/content/drive/My Drive/Colab Notebooks/MERGED2007_08_PP.csv', '/content/drive/My Drive/Colab Notebooks/MERGED2008_09_PP.csv', '/content/drive/My Drive/Colab Notebooks/MERGED2009_10_PP.csv', '/content/drive/My Drive/Colab Notebooks/MERGED2010_11_PP.csv', '/content/drive/My Drive/Colab Notebooks/MERGED2011_12_PP.csv', '/content/drive/My Drive/Colab Notebooks/MERGED2012_13_PP.csv', '/content/drive/My Drive/Colab Notebooks/MERGED2013_14_PP.csv', '/content/drive/My Drive/Colab Notebooks/MERGED2014_15_PP.csv', '/content/drive/My Drive/Colab Notebooks/MERGED2015_16_PP.csv', '/content/drive/My Drive/Colab Notebooks/MERGED2016_17_PP.csv', '/content/drive/My Drive/Colab Notebooks/MERGED2017_18_PP.csv', '/content/drive/My Drive/Colab Notebooks/MERGED2018_19_PP.csv']\n"
          ],
          "name": "stdout"
        },
        {
          "output_type": "execute_result",
          "data": {
            "text/plain": [
              "23"
            ]
          },
          "metadata": {
            "tags": []
          },
          "execution_count": 2
        }
      ]
    },
    {
      "cell_type": "code",
      "metadata": {
        "colab": {
          "base_uri": "https://localhost:8080/"
        },
        "id": "TKC-0rp2kksd",
        "outputId": "5992f9d8-528a-4456-84d2-8886049055d0"
      },
      "source": [
        "print(file_list)"
      ],
      "execution_count": null,
      "outputs": [
        {
          "output_type": "stream",
          "text": [
            "['/content/drive/My Drive/Colab Notebooks/MERGED1996_97_PP.csv', '/content/drive/My Drive/Colab Notebooks/MERGED1997_98_PP.csv', '/content/drive/My Drive/Colab Notebooks/MERGED1998_99_PP.csv', '/content/drive/My Drive/Colab Notebooks/MERGED1999_00_PP.csv', '/content/drive/My Drive/Colab Notebooks/MERGED2000_01_PP.csv', '/content/drive/My Drive/Colab Notebooks/MERGED2001_02_PP.csv', '/content/drive/My Drive/Colab Notebooks/MERGED2002_03_PP.csv', '/content/drive/My Drive/Colab Notebooks/MERGED2003_04_PP.csv', '/content/drive/My Drive/Colab Notebooks/MERGED2004_05_PP.csv', '/content/drive/My Drive/Colab Notebooks/MERGED2005_06_PP.csv', '/content/drive/My Drive/Colab Notebooks/MERGED2006_07_PP.csv', '/content/drive/My Drive/Colab Notebooks/MERGED2007_08_PP.csv', '/content/drive/My Drive/Colab Notebooks/MERGED2008_09_PP.csv', '/content/drive/My Drive/Colab Notebooks/MERGED2009_10_PP.csv', '/content/drive/My Drive/Colab Notebooks/MERGED2010_11_PP.csv', '/content/drive/My Drive/Colab Notebooks/MERGED2011_12_PP.csv', '/content/drive/My Drive/Colab Notebooks/MERGED2012_13_PP.csv', '/content/drive/My Drive/Colab Notebooks/MERGED2013_14_PP.csv', '/content/drive/My Drive/Colab Notebooks/MERGED2014_15_PP.csv', '/content/drive/My Drive/Colab Notebooks/MERGED2015_16_PP.csv', '/content/drive/My Drive/Colab Notebooks/MERGED2016_17_PP.csv', '/content/drive/My Drive/Colab Notebooks/MERGED2017_18_PP.csv', '/content/drive/My Drive/Colab Notebooks/MERGED2018_19_PP.csv']\n"
          ],
          "name": "stdout"
        }
      ]
    },
    {
      "cell_type": "code",
      "metadata": {
        "id": "UG5yXLyLqUTH",
        "colab": {
          "base_uri": "https://localhost:8080/",
          "height": 197
        },
        "outputId": "ed5f0fc7-0f6c-4a3b-8b17-19b3830e3590"
      },
      "source": [
        "import re\n",
        "DF_List = []\n",
        "for f in file_list:\n",
        "  matchObj = re.match( r'(.*)/MERGED(\\d{4})', f, re.M|re.I)\n",
        "  DF_List.append(pd.read_csv(f, usecols=['UNITID', 'INSTNM', 'STABBR', 'REGION', 'ADM_RATE', 'TUITIONFEE_IN']).assign(YEAR = matchObj.group(2)))\n",
        "dfFinal = pd.concat(DF_List)\n",
        "  \n",
        "len(DF_List)\n",
        "dfFinal.head()\n",
        "\n"
      ],
      "execution_count": null,
      "outputs": [
        {
          "output_type": "execute_result",
          "data": {
            "text/html": [
              "<div>\n",
              "<style scoped>\n",
              "    .dataframe tbody tr th:only-of-type {\n",
              "        vertical-align: middle;\n",
              "    }\n",
              "\n",
              "    .dataframe tbody tr th {\n",
              "        vertical-align: top;\n",
              "    }\n",
              "\n",
              "    .dataframe thead th {\n",
              "        text-align: right;\n",
              "    }\n",
              "</style>\n",
              "<table border=\"1\" class=\"dataframe\">\n",
              "  <thead>\n",
              "    <tr style=\"text-align: right;\">\n",
              "      <th></th>\n",
              "      <th>UNITID</th>\n",
              "      <th>INSTNM</th>\n",
              "      <th>STABBR</th>\n",
              "      <th>REGION</th>\n",
              "      <th>ADM_RATE</th>\n",
              "      <th>TUITIONFEE_IN</th>\n",
              "      <th>YEAR</th>\n",
              "    </tr>\n",
              "  </thead>\n",
              "  <tbody>\n",
              "    <tr>\n",
              "      <th>0</th>\n",
              "      <td>100636</td>\n",
              "      <td>Community College of the Air Force</td>\n",
              "      <td>AL</td>\n",
              "      <td>0.0</td>\n",
              "      <td>NaN</td>\n",
              "      <td>NaN</td>\n",
              "      <td>1996</td>\n",
              "    </tr>\n",
              "    <tr>\n",
              "      <th>1</th>\n",
              "      <td>100654</td>\n",
              "      <td>Alabama A &amp; M University</td>\n",
              "      <td>AL</td>\n",
              "      <td>5.0</td>\n",
              "      <td>NaN</td>\n",
              "      <td>NaN</td>\n",
              "      <td>1996</td>\n",
              "    </tr>\n",
              "    <tr>\n",
              "      <th>2</th>\n",
              "      <td>100663</td>\n",
              "      <td>University of Alabama at Birmingham</td>\n",
              "      <td>AL</td>\n",
              "      <td>5.0</td>\n",
              "      <td>NaN</td>\n",
              "      <td>NaN</td>\n",
              "      <td>1996</td>\n",
              "    </tr>\n",
              "    <tr>\n",
              "      <th>3</th>\n",
              "      <td>100672</td>\n",
              "      <td>ALABAMA AVIATION AND TECHNICAL COLLEGE</td>\n",
              "      <td>AL</td>\n",
              "      <td>5.0</td>\n",
              "      <td>NaN</td>\n",
              "      <td>NaN</td>\n",
              "      <td>1996</td>\n",
              "    </tr>\n",
              "    <tr>\n",
              "      <th>4</th>\n",
              "      <td>100690</td>\n",
              "      <td>Amridge University</td>\n",
              "      <td>AL</td>\n",
              "      <td>5.0</td>\n",
              "      <td>NaN</td>\n",
              "      <td>NaN</td>\n",
              "      <td>1996</td>\n",
              "    </tr>\n",
              "  </tbody>\n",
              "</table>\n",
              "</div>"
            ],
            "text/plain": [
              "   UNITID                                  INSTNM  ... TUITIONFEE_IN  YEAR\n",
              "0  100636      Community College of the Air Force  ...           NaN  1996\n",
              "1  100654                Alabama A & M University  ...           NaN  1996\n",
              "2  100663     University of Alabama at Birmingham  ...           NaN  1996\n",
              "3  100672  ALABAMA AVIATION AND TECHNICAL COLLEGE  ...           NaN  1996\n",
              "4  100690                      Amridge University  ...           NaN  1996\n",
              "\n",
              "[5 rows x 7 columns]"
            ]
          },
          "metadata": {
            "tags": []
          },
          "execution_count": 4
        }
      ]
    },
    {
      "cell_type": "code",
      "metadata": {
        "id": "6Pihg5lUNJtN",
        "colab": {
          "base_uri": "https://localhost:8080/"
        },
        "outputId": "b297af54-e62b-46d2-c776-8f513b551b06"
      },
      "source": [
        "dfFinal.shape"
      ],
      "execution_count": null,
      "outputs": [
        {
          "output_type": "execute_result",
          "data": {
            "text/plain": [
              "(163331, 7)"
            ]
          },
          "metadata": {
            "tags": []
          },
          "execution_count": 8
        }
      ]
    },
    {
      "cell_type": "markdown",
      "metadata": {
        "id": "ZBFO3OvXyJl5"
      },
      "source": [
        "**Explore the new database (dfFinal)**"
      ]
    },
    {
      "cell_type": "code",
      "metadata": {
        "id": "LK4ECNt2x89X",
        "colab": {
          "base_uri": "https://localhost:8080/"
        },
        "outputId": "5da8778b-d65f-456b-8cf8-82590dabc346"
      },
      "source": [
        "dfFinal.tail()\n",
        "dfFinal.sample(10)\n",
        "dfFinal['TUITIONFEE_IN'].describe()"
      ],
      "execution_count": null,
      "outputs": [
        {
          "output_type": "execute_result",
          "data": {
            "text/plain": [
              "count    79194.000000\n",
              "mean     11665.505367\n",
              "std       9985.998016\n",
              "min          0.000000\n",
              "25%       3776.000000\n",
              "50%       9285.000000\n",
              "75%      16146.000000\n",
              "max      74787.000000\n",
              "Name: TUITIONFEE_IN, dtype: float64"
            ]
          },
          "metadata": {
            "tags": []
          },
          "execution_count": 9
        }
      ]
    },
    {
      "cell_type": "markdown",
      "metadata": {
        "id": "3H_8vQO20hE-"
      },
      "source": [
        "**The dataframe contains many years of data of all U.S. colleges.Let's just look at UMBC. Filter/query the dataframe to retrieve only rows that belong to UMBC. Save the UMBC data to a new data frame using a new variable so that the old big data frame is still available for later use.**"
      ]
    },
    {
      "cell_type": "code",
      "metadata": {
        "id": "3xMTPs711Gu_",
        "colab": {
          "base_uri": "https://localhost:8080/",
          "height": 197
        },
        "outputId": "00503eec-edd3-4572-90ec-f5c2445f7c51"
      },
      "source": [
        "Select_UMBC = dfFinal[dfFinal.INSTNM == 'University of Maryland-Baltimore County']\n",
        "Select_UMBC.head()"
      ],
      "execution_count": null,
      "outputs": [
        {
          "output_type": "execute_result",
          "data": {
            "text/html": [
              "<div>\n",
              "<style scoped>\n",
              "    .dataframe tbody tr th:only-of-type {\n",
              "        vertical-align: middle;\n",
              "    }\n",
              "\n",
              "    .dataframe tbody tr th {\n",
              "        vertical-align: top;\n",
              "    }\n",
              "\n",
              "    .dataframe thead th {\n",
              "        text-align: right;\n",
              "    }\n",
              "</style>\n",
              "<table border=\"1\" class=\"dataframe\">\n",
              "  <thead>\n",
              "    <tr style=\"text-align: right;\">\n",
              "      <th></th>\n",
              "      <th>UNITID</th>\n",
              "      <th>INSTNM</th>\n",
              "      <th>STABBR</th>\n",
              "      <th>REGION</th>\n",
              "      <th>ADM_RATE</th>\n",
              "      <th>TUITIONFEE_IN</th>\n",
              "      <th>YEAR</th>\n",
              "    </tr>\n",
              "  </thead>\n",
              "  <tbody>\n",
              "    <tr>\n",
              "      <th>2151</th>\n",
              "      <td>163268</td>\n",
              "      <td>University of Maryland-Baltimore County</td>\n",
              "      <td>MD</td>\n",
              "      <td>2.0</td>\n",
              "      <td>NaN</td>\n",
              "      <td>NaN</td>\n",
              "      <td>1996</td>\n",
              "    </tr>\n",
              "    <tr>\n",
              "      <th>2049</th>\n",
              "      <td>163268</td>\n",
              "      <td>University of Maryland-Baltimore County</td>\n",
              "      <td>MD</td>\n",
              "      <td>2.0</td>\n",
              "      <td>NaN</td>\n",
              "      <td>NaN</td>\n",
              "      <td>1997</td>\n",
              "    </tr>\n",
              "    <tr>\n",
              "      <th>1982</th>\n",
              "      <td>163268</td>\n",
              "      <td>University of Maryland-Baltimore County</td>\n",
              "      <td>MD</td>\n",
              "      <td>2.0</td>\n",
              "      <td>NaN</td>\n",
              "      <td>NaN</td>\n",
              "      <td>1998</td>\n",
              "    </tr>\n",
              "    <tr>\n",
              "      <th>1955</th>\n",
              "      <td>163268</td>\n",
              "      <td>University of Maryland-Baltimore County</td>\n",
              "      <td>MD</td>\n",
              "      <td>2.0</td>\n",
              "      <td>NaN</td>\n",
              "      <td>NaN</td>\n",
              "      <td>1999</td>\n",
              "    </tr>\n",
              "    <tr>\n",
              "      <th>1926</th>\n",
              "      <td>163268</td>\n",
              "      <td>University of Maryland-Baltimore County</td>\n",
              "      <td>MD</td>\n",
              "      <td>2.0</td>\n",
              "      <td>NaN</td>\n",
              "      <td>5490.0</td>\n",
              "      <td>2000</td>\n",
              "    </tr>\n",
              "  </tbody>\n",
              "</table>\n",
              "</div>"
            ],
            "text/plain": [
              "      UNITID                                   INSTNM  ... TUITIONFEE_IN  YEAR\n",
              "2151  163268  University of Maryland-Baltimore County  ...           NaN  1996\n",
              "2049  163268  University of Maryland-Baltimore County  ...           NaN  1997\n",
              "1982  163268  University of Maryland-Baltimore County  ...           NaN  1998\n",
              "1955  163268  University of Maryland-Baltimore County  ...           NaN  1999\n",
              "1926  163268  University of Maryland-Baltimore County  ...        5490.0  2000\n",
              "\n",
              "[5 rows x 7 columns]"
            ]
          },
          "metadata": {
            "tags": []
          },
          "execution_count": 5
        }
      ]
    },
    {
      "cell_type": "markdown",
      "metadata": {
        "id": "vtmvVUYj654N"
      },
      "source": [
        "**Explore this UMBC dataframe (# of observations, varibles, head, tail, sample, missing values, statistics,etc.)**"
      ]
    },
    {
      "cell_type": "code",
      "metadata": {
        "id": "LJjJAkk17QIo",
        "colab": {
          "base_uri": "https://localhost:8080/",
          "height": 287
        },
        "outputId": "8f9fefd1-a2c9-4a9b-edfb-c351c6948cf0"
      },
      "source": [
        "Select_UMBC[['ADM_RATE','TUITIONFEE_IN']].describe()"
      ],
      "execution_count": null,
      "outputs": [
        {
          "output_type": "execute_result",
          "data": {
            "text/html": [
              "<div>\n",
              "<style scoped>\n",
              "    .dataframe tbody tr th:only-of-type {\n",
              "        vertical-align: middle;\n",
              "    }\n",
              "\n",
              "    .dataframe tbody tr th {\n",
              "        vertical-align: top;\n",
              "    }\n",
              "\n",
              "    .dataframe thead th {\n",
              "        text-align: right;\n",
              "    }\n",
              "</style>\n",
              "<table border=\"1\" class=\"dataframe\">\n",
              "  <thead>\n",
              "    <tr style=\"text-align: right;\">\n",
              "      <th></th>\n",
              "      <th>ADM_RATE</th>\n",
              "      <th>TUITIONFEE_IN</th>\n",
              "    </tr>\n",
              "  </thead>\n",
              "  <tbody>\n",
              "    <tr>\n",
              "      <th>count</th>\n",
              "      <td>18.000000</td>\n",
              "      <td>19.000000</td>\n",
              "    </tr>\n",
              "    <tr>\n",
              "      <th>mean</th>\n",
              "      <td>0.640694</td>\n",
              "      <td>9004.842105</td>\n",
              "    </tr>\n",
              "    <tr>\n",
              "      <th>std</th>\n",
              "      <td>0.052728</td>\n",
              "      <td>1825.795421</td>\n",
              "    </tr>\n",
              "    <tr>\n",
              "      <th>min</th>\n",
              "      <td>0.568300</td>\n",
              "      <td>5490.000000</td>\n",
              "    </tr>\n",
              "    <tr>\n",
              "      <th>25%</th>\n",
              "      <td>0.597600</td>\n",
              "      <td>8270.000000</td>\n",
              "    </tr>\n",
              "    <tr>\n",
              "      <th>50%</th>\n",
              "      <td>0.632100</td>\n",
              "      <td>8872.000000</td>\n",
              "    </tr>\n",
              "    <tr>\n",
              "      <th>75%</th>\n",
              "      <td>0.689375</td>\n",
              "      <td>10226.000000</td>\n",
              "    </tr>\n",
              "    <tr>\n",
              "      <th>max</th>\n",
              "      <td>0.717400</td>\n",
              "      <td>11778.000000</td>\n",
              "    </tr>\n",
              "  </tbody>\n",
              "</table>\n",
              "</div>"
            ],
            "text/plain": [
              "        ADM_RATE  TUITIONFEE_IN\n",
              "count  18.000000      19.000000\n",
              "mean    0.640694    9004.842105\n",
              "std     0.052728    1825.795421\n",
              "min     0.568300    5490.000000\n",
              "25%     0.597600    8270.000000\n",
              "50%     0.632100    8872.000000\n",
              "75%     0.689375   10226.000000\n",
              "max     0.717400   11778.000000"
            ]
          },
          "metadata": {
            "tags": []
          },
          "execution_count": 6
        }
      ]
    },
    {
      "cell_type": "code",
      "metadata": {
        "id": "_yY9NBFx9PU9",
        "colab": {
          "base_uri": "https://localhost:8080/"
        },
        "outputId": "2553e842-3cd8-4303-d5fb-b6ae3c056f09"
      },
      "source": [
        "Select_UMBC.shape"
      ],
      "execution_count": null,
      "outputs": [
        {
          "output_type": "execute_result",
          "data": {
            "text/plain": [
              "(23, 7)"
            ]
          },
          "metadata": {
            "tags": []
          },
          "execution_count": 7
        }
      ]
    },
    {
      "cell_type": "code",
      "metadata": {
        "id": "gSzSypWe9bFF",
        "colab": {
          "base_uri": "https://localhost:8080/",
          "height": 197
        },
        "outputId": "e2eea33c-0039-4d18-ca54-7045af1ee99d"
      },
      "source": [
        "Select_UMBC.tail()"
      ],
      "execution_count": null,
      "outputs": [
        {
          "output_type": "execute_result",
          "data": {
            "text/html": [
              "<div>\n",
              "<style scoped>\n",
              "    .dataframe tbody tr th:only-of-type {\n",
              "        vertical-align: middle;\n",
              "    }\n",
              "\n",
              "    .dataframe tbody tr th {\n",
              "        vertical-align: top;\n",
              "    }\n",
              "\n",
              "    .dataframe thead th {\n",
              "        text-align: right;\n",
              "    }\n",
              "</style>\n",
              "<table border=\"1\" class=\"dataframe\">\n",
              "  <thead>\n",
              "    <tr style=\"text-align: right;\">\n",
              "      <th></th>\n",
              "      <th>UNITID</th>\n",
              "      <th>INSTNM</th>\n",
              "      <th>STABBR</th>\n",
              "      <th>REGION</th>\n",
              "      <th>ADM_RATE</th>\n",
              "      <th>TUITIONFEE_IN</th>\n",
              "      <th>YEAR</th>\n",
              "    </tr>\n",
              "  </thead>\n",
              "  <tbody>\n",
              "    <tr>\n",
              "      <th>1610</th>\n",
              "      <td>163268</td>\n",
              "      <td>University of Maryland-Baltimore County</td>\n",
              "      <td>MD</td>\n",
              "      <td>2.0</td>\n",
              "      <td>0.5961</td>\n",
              "      <td>10384.0</td>\n",
              "      <td>2014</td>\n",
              "    </tr>\n",
              "    <tr>\n",
              "      <th>1555</th>\n",
              "      <td>163268</td>\n",
              "      <td>University of Maryland-Baltimore County</td>\n",
              "      <td>MD</td>\n",
              "      <td>2.0</td>\n",
              "      <td>0.5942</td>\n",
              "      <td>11006.0</td>\n",
              "      <td>2015</td>\n",
              "    </tr>\n",
              "    <tr>\n",
              "      <th>1510</th>\n",
              "      <td>163268</td>\n",
              "      <td>University of Maryland-Baltimore County</td>\n",
              "      <td>MD</td>\n",
              "      <td>2.0</td>\n",
              "      <td>0.5683</td>\n",
              "      <td>11264.0</td>\n",
              "      <td>2016</td>\n",
              "    </tr>\n",
              "    <tr>\n",
              "      <th>1478</th>\n",
              "      <td>163268</td>\n",
              "      <td>University of Maryland-Baltimore County</td>\n",
              "      <td>MD</td>\n",
              "      <td>2.0</td>\n",
              "      <td>0.6021</td>\n",
              "      <td>11518.0</td>\n",
              "      <td>2017</td>\n",
              "    </tr>\n",
              "    <tr>\n",
              "      <th>1415</th>\n",
              "      <td>163268</td>\n",
              "      <td>University of Maryland-Baltimore County</td>\n",
              "      <td>MD</td>\n",
              "      <td>2.0</td>\n",
              "      <td>0.5794</td>\n",
              "      <td>11778.0</td>\n",
              "      <td>2018</td>\n",
              "    </tr>\n",
              "  </tbody>\n",
              "</table>\n",
              "</div>"
            ],
            "text/plain": [
              "      UNITID                                   INSTNM  ... TUITIONFEE_IN  YEAR\n",
              "1610  163268  University of Maryland-Baltimore County  ...       10384.0  2014\n",
              "1555  163268  University of Maryland-Baltimore County  ...       11006.0  2015\n",
              "1510  163268  University of Maryland-Baltimore County  ...       11264.0  2016\n",
              "1478  163268  University of Maryland-Baltimore County  ...       11518.0  2017\n",
              "1415  163268  University of Maryland-Baltimore County  ...       11778.0  2018\n",
              "\n",
              "[5 rows x 7 columns]"
            ]
          },
          "metadata": {
            "tags": []
          },
          "execution_count": 13
        }
      ]
    },
    {
      "cell_type": "code",
      "metadata": {
        "id": "LCxt_MVi9jKs",
        "colab": {
          "base_uri": "https://localhost:8080/",
          "height": 167
        },
        "outputId": "61519d7c-80c9-45de-d00d-5c079f0ef334"
      },
      "source": [
        "Select_UMBC.sample(4)"
      ],
      "execution_count": null,
      "outputs": [
        {
          "output_type": "execute_result",
          "data": {
            "text/html": [
              "<div>\n",
              "<style scoped>\n",
              "    .dataframe tbody tr th:only-of-type {\n",
              "        vertical-align: middle;\n",
              "    }\n",
              "\n",
              "    .dataframe tbody tr th {\n",
              "        vertical-align: top;\n",
              "    }\n",
              "\n",
              "    .dataframe thead th {\n",
              "        text-align: right;\n",
              "    }\n",
              "</style>\n",
              "<table border=\"1\" class=\"dataframe\">\n",
              "  <thead>\n",
              "    <tr style=\"text-align: right;\">\n",
              "      <th></th>\n",
              "      <th>UNITID</th>\n",
              "      <th>INSTNM</th>\n",
              "      <th>STABBR</th>\n",
              "      <th>REGION</th>\n",
              "      <th>ADM_RATE</th>\n",
              "      <th>TUITIONFEE_IN</th>\n",
              "      <th>YEAR</th>\n",
              "    </tr>\n",
              "  </thead>\n",
              "  <tbody>\n",
              "    <tr>\n",
              "      <th>1926</th>\n",
              "      <td>163268</td>\n",
              "      <td>University of Maryland-Baltimore County</td>\n",
              "      <td>MD</td>\n",
              "      <td>2.0</td>\n",
              "      <td>NaN</td>\n",
              "      <td>5490.0</td>\n",
              "      <td>2000</td>\n",
              "    </tr>\n",
              "    <tr>\n",
              "      <th>1767</th>\n",
              "      <td>163268</td>\n",
              "      <td>University of Maryland-Baltimore County</td>\n",
              "      <td>MD</td>\n",
              "      <td>2.0</td>\n",
              "      <td>0.7174</td>\n",
              "      <td>8780.0</td>\n",
              "      <td>2008</td>\n",
              "    </tr>\n",
              "    <tr>\n",
              "      <th>1982</th>\n",
              "      <td>163268</td>\n",
              "      <td>University of Maryland-Baltimore County</td>\n",
              "      <td>MD</td>\n",
              "      <td>2.0</td>\n",
              "      <td>NaN</td>\n",
              "      <td>NaN</td>\n",
              "      <td>1998</td>\n",
              "    </tr>\n",
              "    <tr>\n",
              "      <th>2151</th>\n",
              "      <td>163268</td>\n",
              "      <td>University of Maryland-Baltimore County</td>\n",
              "      <td>MD</td>\n",
              "      <td>2.0</td>\n",
              "      <td>NaN</td>\n",
              "      <td>NaN</td>\n",
              "      <td>1996</td>\n",
              "    </tr>\n",
              "  </tbody>\n",
              "</table>\n",
              "</div>"
            ],
            "text/plain": [
              "      UNITID                                   INSTNM  ... TUITIONFEE_IN  YEAR\n",
              "1926  163268  University of Maryland-Baltimore County  ...        5490.0  2000\n",
              "1767  163268  University of Maryland-Baltimore County  ...        8780.0  2008\n",
              "1982  163268  University of Maryland-Baltimore County  ...           NaN  1998\n",
              "2151  163268  University of Maryland-Baltimore County  ...           NaN  1996\n",
              "\n",
              "[4 rows x 7 columns]"
            ]
          },
          "metadata": {
            "tags": []
          },
          "execution_count": 14
        }
      ]
    },
    {
      "cell_type": "markdown",
      "metadata": {
        "id": "60LOQEvBEgs6"
      },
      "source": [
        "**Plot UMBC's in-state tution overtime from 1996 to 2019 using Bar Chart**"
      ]
    },
    {
      "cell_type": "code",
      "metadata": {
        "id": "RNWS42MAEtxi",
        "colab": {
          "base_uri": "https://localhost:8080/",
          "height": 600
        },
        "outputId": "1c1a7332-526b-4482-a58f-7743f612d388"
      },
      "source": [
        "plt.figure(figsize=(40,10))\n",
        "ax = Select_UMBC.plot.bar(x='YEAR', y='TUITIONFEE_IN', rot=0, figsize =(20,10))"
      ],
      "execution_count": null,
      "outputs": [
        {
          "output_type": "display_data",
          "data": {
            "text/plain": [
              "<Figure size 2880x720 with 0 Axes>"
            ]
          },
          "metadata": {
            "tags": []
          }
        },
        {
          "output_type": "display_data",
          "data": {
            "image/png": "[encoded data removed]",
            "text/plain": [
              "<Figure size 1440x720 with 1 Axes>"
            ]
          },
          "metadata": {
            "tags": [],
            "needs_background": "light"
          }
        }
      ]
    },
    {
      "cell_type": "markdown",
      "metadata": {
        "id": "nS2AGCW_HQy1"
      },
      "source": [
        "**Plot UMBC's in-state tution overtime from 1996 to 2019 using Line Chart**"
      ]
    },
    {
      "cell_type": "code",
      "metadata": {
        "id": "vpf7yBsyHw_B",
        "colab": {
          "base_uri": "https://localhost:8080/",
          "height": 1000
        },
        "outputId": "7cd039b6-dc1a-4c0f-a5c5-df9a6610ee38"
      },
      "source": [
        "ay = Select_UMBC.plot.line(x='YEAR', y='TUITIONFEE_IN', rot=0, figsize =(20,10))\n",
        "plt.xticks(np.arange(len(Select_UMBC.YEAR)), Select_UMBC.YEAR)"
      ],
      "execution_count": null,
      "outputs": [
        {
          "output_type": "execute_result",
          "data": {
            "text/plain": [
              "([<matplotlib.axis.XTick at 0x7fa29fd637f0>,\n",
              "  <matplotlib.axis.XTick at 0x7fa29fd637b8>,\n",
              "  <matplotlib.axis.XTick at 0x7fa29fea64e0>,\n",
              "  <matplotlib.axis.XTick at 0x7fa29f8c6a58>,\n",
              "  <matplotlib.axis.XTick at 0x7fa29f8d7198>,\n",
              "  <matplotlib.axis.XTick at 0x7fa29f8d75f8>,\n",
              "  <matplotlib.axis.XTick at 0x7fa29f8d7a90>,\n",
              "  <matplotlib.axis.XTick at 0x7fa29f8d7f28>,\n",
              "  <matplotlib.axis.XTick at 0x7fa29f8df400>,\n",
              "  <matplotlib.axis.XTick at 0x7fa29f8df898>,\n",
              "  <matplotlib.axis.XTick at 0x7fa29fdce1d0>,\n",
              "  <matplotlib.axis.XTick at 0x7fa29f8c6c88>,\n",
              "  <matplotlib.axis.XTick at 0x7fa29f8df588>,\n",
              "  <matplotlib.axis.XTick at 0x7fa29f8e8198>,\n",
              "  <matplotlib.axis.XTick at 0x7fa29f8e85f8>,\n",
              "  <matplotlib.axis.XTick at 0x7fa29f8e8a90>,\n",
              "  <matplotlib.axis.XTick at 0x7fa29f8e8f28>,\n",
              "  <matplotlib.axis.XTick at 0x7fa29f8ef400>,\n",
              "  <matplotlib.axis.XTick at 0x7fa29f8ef898>,\n",
              "  <matplotlib.axis.XTick at 0x7fa29f8efd30>,\n",
              "  <matplotlib.axis.XTick at 0x7fa29f8efe10>,\n",
              "  <matplotlib.axis.XTick at 0x7fa29f8e8b70>,\n",
              "  <matplotlib.axis.XTick at 0x7fa29f8dfbe0>],\n",
              " [Text(0, 0, '1996'),\n",
              "  Text(0, 0, '1997'),\n",
              "  Text(0, 0, '1998'),\n",
              "  Text(0, 0, '1999'),\n",
              "  Text(0, 0, '2000'),\n",
              "  Text(0, 0, '2001'),\n",
              "  Text(0, 0, '2002'),\n",
              "  Text(0, 0, '2003'),\n",
              "  Text(0, 0, '2004'),\n",
              "  Text(0, 0, '2005'),\n",
              "  Text(0, 0, '2006'),\n",
              "  Text(0, 0, '2007'),\n",
              "  Text(0, 0, '2008'),\n",
              "  Text(0, 0, '2009'),\n",
              "  Text(0, 0, '2010'),\n",
              "  Text(0, 0, '2011'),\n",
              "  Text(0, 0, '2012'),\n",
              "  Text(0, 0, '2013'),\n",
              "  Text(0, 0, '2014'),\n",
              "  Text(0, 0, '2015'),\n",
              "  Text(0, 0, '2016'),\n",
              "  Text(0, 0, '2017'),\n",
              "  Text(0, 0, '2018')])"
            ]
          },
          "metadata": {
            "tags": []
          },
          "execution_count": 16
        },
        {
          "output_type": "display_data",
          "data": {
            "image/png": "[encoded data removed]",
            "text/plain": [
              "<Figure size 1440x720 with 1 Axes>"
            ]
          },
          "metadata": {
            "tags": [],
            "needs_background": "light"
          }
        }
      ]
    },
    {
      "cell_type": "markdown",
      "metadata": {
        "id": "2YobrvBFHaJt"
      },
      "source": [
        "**Now let's look at the tuition growth rate year over year. We need to calculate UMBC tuition change percentage each year. First convert the TUITIONFEE_IN column to a Python List.**"
      ]
    },
    {
      "cell_type": "code",
      "metadata": {
        "id": "u9n9QMEzNb0j",
        "colab": {
          "base_uri": "https://localhost:8080/"
        },
        "outputId": "06a00d62-09a0-4870-b22e-9340820faf23"
      },
      "source": [
        "Select_UMBC['TUITIONFEE_IN'].dtypes"
      ],
      "execution_count": null,
      "outputs": [
        {
          "output_type": "execute_result",
          "data": {
            "text/plain": [
              "dtype('float64')"
            ]
          },
          "metadata": {
            "tags": []
          },
          "execution_count": 17
        }
      ]
    },
    {
      "cell_type": "code",
      "metadata": {
        "id": "xnrojG59J982",
        "colab": {
          "base_uri": "https://localhost:8080/"
        },
        "outputId": "4602bccf-98ee-4ea8-fb3d-6cdba86409a4"
      },
      "source": [
        "UMBC_tuition = Select_UMBC['TUITIONFEE_IN'].to_list()\n",
        "print(UMBC_tuition)\n"
      ],
      "execution_count": null,
      "outputs": [
        {
          "output_type": "stream",
          "text": [
            "[nan, nan, nan, nan, 5490.0, 5910.0, 6362.0, 7388.0, 8020.0, 8520.0, 8622.0, 8708.0, 8780.0, 8872.0, 9171.0, 9467.0, 9764.0, 10068.0, 10384.0, 11006.0, 11264.0, 11518.0, 11778.0]\n"
          ],
          "name": "stdout"
        }
      ]
    },
    {
      "cell_type": "markdown",
      "metadata": {
        "id": "niYHz2ihUEhm"
      },
      "source": [
        "**Loop through the list and calculate the % change each year over the prior year. Also round the numbers to 3 decimal places.**"
      ]
    },
    {
      "cell_type": "code",
      "metadata": {
        "id": "vBeqLY80UPzQ",
        "colab": {
          "base_uri": "https://localhost:8080/"
        },
        "outputId": "6834f354-2661-466f-8d8c-f0964b25a945"
      },
      "source": [
        "Percent_UMBC = []\n",
        "for val in range(len(UMBC_tuition)):\n",
        "  pc = (float((UMBC_tuition[val]-UMBC_tuition[val- int(1)])/UMBC_tuition[val-int(1)]))*100\n",
        "  pc_round = round(pc,3)\n",
        "  Percent_UMBC.append(pc_round)\n",
        "\n",
        "print(Percent_UMBC)\n",
        "\n",
        "  "
      ],
      "execution_count": null,
      "outputs": [
        {
          "output_type": "stream",
          "text": [
            "[nan, nan, nan, nan, nan, 7.65, 7.648, 16.127, 8.554, 6.234, 1.197, 0.997, 0.827, 1.048, 3.37, 3.228, 3.137, 3.113, 3.139, 5.99, 2.344, 2.255, 2.257]\n"
          ],
          "name": "stdout"
        }
      ]
    },
    {
      "cell_type": "markdown",
      "metadata": {
        "id": "jh3HochTapZh"
      },
      "source": [
        "**Add the list of the percentages to the dataframe as a new column (\"PCT_CHANGE\")**"
      ]
    },
    {
      "cell_type": "code",
      "metadata": {
        "id": "ElxAbvaoazBQ",
        "colab": {
          "base_uri": "https://localhost:8080/",
          "height": 864
        },
        "outputId": "46168089-c16d-4362-ce7c-f4270a4635dd"
      },
      "source": [
        "Select_UMBC['PCT_CHANGE'] = Percent_UMBC\n",
        "Select_UMBC"
      ],
      "execution_count": null,
      "outputs": [
        {
          "output_type": "stream",
          "text": [
            "/usr/local/lib/python3.6/dist-packages/ipykernel_launcher.py:1: SettingWithCopyWarning: \n",
            "A value is trying to be set on a copy of a slice from a DataFrame.\n",
            "Try using .loc[row_indexer,col_indexer] = value instead\n",
            "\n",
            "See the caveats in the documentation: https://pandas.pydata.org/pandas-docs/stable/user_guide/indexing.html#returning-a-view-versus-a-copy\n",
            "  \"\"\"Entry point for launching an IPython kernel.\n"
          ],
          "name": "stderr"
        },
        {
          "output_type": "execute_result",
          "data": {
            "text/html": [
              "<div>\n",
              "<style scoped>\n",
              "    .dataframe tbody tr th:only-of-type {\n",
              "        vertical-align: middle;\n",
              "    }\n",
              "\n",
              "    .dataframe tbody tr th {\n",
              "        vertical-align: top;\n",
              "    }\n",
              "\n",
              "    .dataframe thead th {\n",
              "        text-align: right;\n",
              "    }\n",
              "</style>\n",
              "<table border=\"1\" class=\"dataframe\">\n",
              "  <thead>\n",
              "    <tr style=\"text-align: right;\">\n",
              "      <th></th>\n",
              "      <th>UNITID</th>\n",
              "      <th>INSTNM</th>\n",
              "      <th>STABBR</th>\n",
              "      <th>REGION</th>\n",
              "      <th>ADM_RATE</th>\n",
              "      <th>TUITIONFEE_IN</th>\n",
              "      <th>YEAR</th>\n",
              "      <th>PCT_CHANGE</th>\n",
              "    </tr>\n",
              "  </thead>\n",
              "  <tbody>\n",
              "    <tr>\n",
              "      <th>2151</th>\n",
              "      <td>163268</td>\n",
              "      <td>University of Maryland-Baltimore County</td>\n",
              "      <td>MD</td>\n",
              "      <td>2.0</td>\n",
              "      <td>NaN</td>\n",
              "      <td>NaN</td>\n",
              "      <td>1996</td>\n",
              "      <td>NaN</td>\n",
              "    </tr>\n",
              "    <tr>\n",
              "      <th>2049</th>\n",
              "      <td>163268</td>\n",
              "      <td>University of Maryland-Baltimore County</td>\n",
              "      <td>MD</td>\n",
              "      <td>2.0</td>\n",
              "      <td>NaN</td>\n",
              "      <td>NaN</td>\n",
              "      <td>1997</td>\n",
              "      <td>NaN</td>\n",
              "    </tr>\n",
              "    <tr>\n",
              "      <th>1982</th>\n",
              "      <td>163268</td>\n",
              "      <td>University of Maryland-Baltimore County</td>\n",
              "      <td>MD</td>\n",
              "      <td>2.0</td>\n",
              "      <td>NaN</td>\n",
              "      <td>NaN</td>\n",
              "      <td>1998</td>\n",
              "      <td>NaN</td>\n",
              "    </tr>\n",
              "    <tr>\n",
              "      <th>1955</th>\n",
              "      <td>163268</td>\n",
              "      <td>University of Maryland-Baltimore County</td>\n",
              "      <td>MD</td>\n",
              "      <td>2.0</td>\n",
              "      <td>NaN</td>\n",
              "      <td>NaN</td>\n",
              "      <td>1999</td>\n",
              "      <td>NaN</td>\n",
              "    </tr>\n",
              "    <tr>\n",
              "      <th>1926</th>\n",
              "      <td>163268</td>\n",
              "      <td>University of Maryland-Baltimore County</td>\n",
              "      <td>MD</td>\n",
              "      <td>2.0</td>\n",
              "      <td>NaN</td>\n",
              "      <td>5490.0</td>\n",
              "      <td>2000</td>\n",
              "      <td>NaN</td>\n",
              "    </tr>\n",
              "    <tr>\n",
              "      <th>1915</th>\n",
              "      <td>163268</td>\n",
              "      <td>University of Maryland-Baltimore County</td>\n",
              "      <td>MD</td>\n",
              "      <td>2.0</td>\n",
              "      <td>0.6551</td>\n",
              "      <td>5910.0</td>\n",
              "      <td>2001</td>\n",
              "      <td>7.650</td>\n",
              "    </tr>\n",
              "    <tr>\n",
              "      <th>1893</th>\n",
              "      <td>163268</td>\n",
              "      <td>University of Maryland-Baltimore County</td>\n",
              "      <td>MD</td>\n",
              "      <td>2.0</td>\n",
              "      <td>0.6327</td>\n",
              "      <td>6362.0</td>\n",
              "      <td>2002</td>\n",
              "      <td>7.648</td>\n",
              "    </tr>\n",
              "    <tr>\n",
              "      <th>1873</th>\n",
              "      <td>163268</td>\n",
              "      <td>University of Maryland-Baltimore County</td>\n",
              "      <td>MD</td>\n",
              "      <td>2.0</td>\n",
              "      <td>0.5757</td>\n",
              "      <td>7388.0</td>\n",
              "      <td>2003</td>\n",
              "      <td>16.127</td>\n",
              "    </tr>\n",
              "    <tr>\n",
              "      <th>1830</th>\n",
              "      <td>163268</td>\n",
              "      <td>University of Maryland-Baltimore County</td>\n",
              "      <td>MD</td>\n",
              "      <td>2.0</td>\n",
              "      <td>0.7014</td>\n",
              "      <td>8020.0</td>\n",
              "      <td>2004</td>\n",
              "      <td>8.554</td>\n",
              "    </tr>\n",
              "    <tr>\n",
              "      <th>1819</th>\n",
              "      <td>163268</td>\n",
              "      <td>University of Maryland-Baltimore County</td>\n",
              "      <td>MD</td>\n",
              "      <td>2.0</td>\n",
              "      <td>0.7143</td>\n",
              "      <td>8520.0</td>\n",
              "      <td>2005</td>\n",
              "      <td>6.234</td>\n",
              "    </tr>\n",
              "    <tr>\n",
              "      <th>1799</th>\n",
              "      <td>163268</td>\n",
              "      <td>University of Maryland-Baltimore County</td>\n",
              "      <td>MD</td>\n",
              "      <td>2.0</td>\n",
              "      <td>0.7153</td>\n",
              "      <td>8622.0</td>\n",
              "      <td>2006</td>\n",
              "      <td>1.197</td>\n",
              "    </tr>\n",
              "    <tr>\n",
              "      <th>1779</th>\n",
              "      <td>163268</td>\n",
              "      <td>University of Maryland-Baltimore County</td>\n",
              "      <td>MD</td>\n",
              "      <td>2.0</td>\n",
              "      <td>0.6895</td>\n",
              "      <td>8708.0</td>\n",
              "      <td>2007</td>\n",
              "      <td>0.997</td>\n",
              "    </tr>\n",
              "    <tr>\n",
              "      <th>1767</th>\n",
              "      <td>163268</td>\n",
              "      <td>University of Maryland-Baltimore County</td>\n",
              "      <td>MD</td>\n",
              "      <td>2.0</td>\n",
              "      <td>0.7174</td>\n",
              "      <td>8780.0</td>\n",
              "      <td>2008</td>\n",
              "      <td>0.827</td>\n",
              "    </tr>\n",
              "    <tr>\n",
              "      <th>1745</th>\n",
              "      <td>163268</td>\n",
              "      <td>University of Maryland-Baltimore County</td>\n",
              "      <td>MD</td>\n",
              "      <td>2.0</td>\n",
              "      <td>0.6890</td>\n",
              "      <td>8872.0</td>\n",
              "      <td>2009</td>\n",
              "      <td>1.048</td>\n",
              "    </tr>\n",
              "    <tr>\n",
              "      <th>1710</th>\n",
              "      <td>163268</td>\n",
              "      <td>University of Maryland-Baltimore County</td>\n",
              "      <td>MD</td>\n",
              "      <td>2.0</td>\n",
              "      <td>0.6589</td>\n",
              "      <td>9171.0</td>\n",
              "      <td>2010</td>\n",
              "      <td>3.370</td>\n",
              "    </tr>\n",
              "    <tr>\n",
              "      <th>1694</th>\n",
              "      <td>163268</td>\n",
              "      <td>University of Maryland-Baltimore County</td>\n",
              "      <td>MD</td>\n",
              "      <td>2.0</td>\n",
              "      <td>0.6081</td>\n",
              "      <td>9467.0</td>\n",
              "      <td>2011</td>\n",
              "      <td>3.228</td>\n",
              "    </tr>\n",
              "    <tr>\n",
              "      <th>1660</th>\n",
              "      <td>163268</td>\n",
              "      <td>University of Maryland-Baltimore County</td>\n",
              "      <td>MD</td>\n",
              "      <td>2.0</td>\n",
              "      <td>0.6035</td>\n",
              "      <td>9764.0</td>\n",
              "      <td>2012</td>\n",
              "      <td>3.137</td>\n",
              "    </tr>\n",
              "    <tr>\n",
              "      <th>1629</th>\n",
              "      <td>163268</td>\n",
              "      <td>University of Maryland-Baltimore County</td>\n",
              "      <td>MD</td>\n",
              "      <td>2.0</td>\n",
              "      <td>0.6315</td>\n",
              "      <td>10068.0</td>\n",
              "      <td>2013</td>\n",
              "      <td>3.113</td>\n",
              "    </tr>\n",
              "    <tr>\n",
              "      <th>1610</th>\n",
              "      <td>163268</td>\n",
              "      <td>University of Maryland-Baltimore County</td>\n",
              "      <td>MD</td>\n",
              "      <td>2.0</td>\n",
              "      <td>0.5961</td>\n",
              "      <td>10384.0</td>\n",
              "      <td>2014</td>\n",
              "      <td>3.139</td>\n",
              "    </tr>\n",
              "    <tr>\n",
              "      <th>1555</th>\n",
              "      <td>163268</td>\n",
              "      <td>University of Maryland-Baltimore County</td>\n",
              "      <td>MD</td>\n",
              "      <td>2.0</td>\n",
              "      <td>0.5942</td>\n",
              "      <td>11006.0</td>\n",
              "      <td>2015</td>\n",
              "      <td>5.990</td>\n",
              "    </tr>\n",
              "    <tr>\n",
              "      <th>1510</th>\n",
              "      <td>163268</td>\n",
              "      <td>University of Maryland-Baltimore County</td>\n",
              "      <td>MD</td>\n",
              "      <td>2.0</td>\n",
              "      <td>0.5683</td>\n",
              "      <td>11264.0</td>\n",
              "      <td>2016</td>\n",
              "      <td>2.344</td>\n",
              "    </tr>\n",
              "    <tr>\n",
              "      <th>1478</th>\n",
              "      <td>163268</td>\n",
              "      <td>University of Maryland-Baltimore County</td>\n",
              "      <td>MD</td>\n",
              "      <td>2.0</td>\n",
              "      <td>0.6021</td>\n",
              "      <td>11518.0</td>\n",
              "      <td>2017</td>\n",
              "      <td>2.255</td>\n",
              "    </tr>\n",
              "    <tr>\n",
              "      <th>1415</th>\n",
              "      <td>163268</td>\n",
              "      <td>University of Maryland-Baltimore County</td>\n",
              "      <td>MD</td>\n",
              "      <td>2.0</td>\n",
              "      <td>0.5794</td>\n",
              "      <td>11778.0</td>\n",
              "      <td>2018</td>\n",
              "      <td>2.257</td>\n",
              "    </tr>\n",
              "  </tbody>\n",
              "</table>\n",
              "</div>"
            ],
            "text/plain": [
              "      UNITID                                   INSTNM  ...  YEAR  PCT_CHANGE\n",
              "2151  163268  University of Maryland-Baltimore County  ...  1996         NaN\n",
              "2049  163268  University of Maryland-Baltimore County  ...  1997         NaN\n",
              "1982  163268  University of Maryland-Baltimore County  ...  1998         NaN\n",
              "1955  163268  University of Maryland-Baltimore County  ...  1999         NaN\n",
              "1926  163268  University of Maryland-Baltimore County  ...  2000         NaN\n",
              "1915  163268  University of Maryland-Baltimore County  ...  2001       7.650\n",
              "1893  163268  University of Maryland-Baltimore County  ...  2002       7.648\n",
              "1873  163268  University of Maryland-Baltimore County  ...  2003      16.127\n",
              "1830  163268  University of Maryland-Baltimore County  ...  2004       8.554\n",
              "1819  163268  University of Maryland-Baltimore County  ...  2005       6.234\n",
              "1799  163268  University of Maryland-Baltimore County  ...  2006       1.197\n",
              "1779  163268  University of Maryland-Baltimore County  ...  2007       0.997\n",
              "1767  163268  University of Maryland-Baltimore County  ...  2008       0.827\n",
              "1745  163268  University of Maryland-Baltimore County  ...  2009       1.048\n",
              "1710  163268  University of Maryland-Baltimore County  ...  2010       3.370\n",
              "1694  163268  University of Maryland-Baltimore County  ...  2011       3.228\n",
              "1660  163268  University of Maryland-Baltimore County  ...  2012       3.137\n",
              "1629  163268  University of Maryland-Baltimore County  ...  2013       3.113\n",
              "1610  163268  University of Maryland-Baltimore County  ...  2014       3.139\n",
              "1555  163268  University of Maryland-Baltimore County  ...  2015       5.990\n",
              "1510  163268  University of Maryland-Baltimore County  ...  2016       2.344\n",
              "1478  163268  University of Maryland-Baltimore County  ...  2017       2.255\n",
              "1415  163268  University of Maryland-Baltimore County  ...  2018       2.257\n",
              "\n",
              "[23 rows x 8 columns]"
            ]
          },
          "metadata": {
            "tags": []
          },
          "execution_count": 10
        }
      ]
    },
    {
      "cell_type": "markdown",
      "metadata": {
        "id": "FquAihLgbYLJ"
      },
      "source": [
        "**Finaly, we can make the plot tuition growth rate year over year - bar first, then line chart**"
      ]
    },
    {
      "cell_type": "code",
      "metadata": {
        "id": "JimCD9eubybB",
        "colab": {
          "base_uri": "https://localhost:8080/",
          "height": 591
        },
        "outputId": "d981c6bf-c568-4c96-db46-5e0ff956cc94"
      },
      "source": [
        "ax_NEW = Select_UMBC.plot.bar(x='YEAR', y='PCT_CHANGE', rot=0, figsize =(20,10))"
      ],
      "execution_count": null,
      "outputs": [
        {
          "output_type": "display_data",
          "data": {
            "image/png": "[encoded data removed]",
            "text/plain": [
              "<Figure size 1440x720 with 1 Axes>"
            ]
          },
          "metadata": {
            "tags": [],
            "needs_background": "light"
          }
        }
      ]
    },
    {
      "cell_type": "markdown",
      "metadata": {
        "id": "yq4QwVSecOap"
      },
      "source": [
        "**LINE CHART**"
      ]
    },
    {
      "cell_type": "code",
      "metadata": {
        "id": "wVfJGVF-cUJD",
        "colab": {
          "base_uri": "https://localhost:8080/",
          "height": 591
        },
        "outputId": "bd65cebf-4482-4221-a67f-72783714d48c"
      },
      "source": [
        "ay_NEW = Select_UMBC.plot.line(x='YEAR', y='PCT_CHANGE', rot=0, figsize =(20,10))"
      ],
      "execution_count": null,
      "outputs": [
        {
          "output_type": "display_data",
          "data": {
            "image/png": "[encoded data removed]",
            "text/plain": [
              "<Figure size 1440x720 with 1 Axes>"
            ]
          },
          "metadata": {
            "tags": [],
            "needs_background": "light"
          }
        }
      ]
    },
    {
      "cell_type": "markdown",
      "metadata": {
        "id": "TpIlASyW5haC"
      },
      "source": [
        "**Since we want to do the same calculation for JHU. Instead of doing it piecemeal as we did for UMBC. Let's create a function which can be reused for any college. This function takes a list of tuitions and return a list of percentage changes year over year**"
      ]
    },
    {
      "cell_type": "code",
      "metadata": {
        "id": "5-SU5Qfx6yMJ"
      },
      "source": [
        "def square(Tuition_List):\n",
        "    result = []\n",
        "    for y in Tuition_List:\n",
        "      perc = \n",
        "        result.append(math.pow(y,2.0))\n",
        "    return result "
      ],
      "execution_count": null,
      "outputs": []
    },
    {
      "cell_type": "markdown",
      "metadata": {
        "id": "Mv72xJc2egh-"
      },
      "source": [
        "# <13>\n",
        "# The dataframe contains many years of data of all U.S. colleges. Let's just look at JHU.Filter/query the dataframe to retrieve only rows that belong to JHU. Save the JHU data to a new data frame. using a new variable so that the old big data frame is still available for later use."
      ]
    },
    {
      "cell_type": "code",
      "metadata": {
        "colab": {
          "base_uri": "https://localhost:8080/",
          "height": 864
        },
        "id": "vVLtCCHSefV-",
        "outputId": "48b62dd9-fb35-45a7-8fe0-77fadcd56920"
      },
      "source": [
        "Select_JHU = dfFinal[dfFinal.INSTNM == 'Johns Hopkins University']\n",
        "JHU_tuition = Select_JHU['TUITIONFEE_IN'].to_list()\n",
        "Percent_JHU = []\n",
        "for val in range(len(JHU_tuition)):\n",
        "  pc_JHU = (float((JHU_tuition[val]-JHU_tuition[val- int(1)])/JHU_tuition[val-int(1)]))*100\n",
        "  pc_JHU_round = round(pc_JHU,3)\n",
        "  Percent_JHU.append(pc_JHU_round)\n",
        "Select_JHU['PCT_CHANGE'] = Percent_JHU\n",
        "Select_JHU"
      ],
      "execution_count": 23,
      "outputs": [
        {
          "output_type": "stream",
          "text": [
            "/usr/local/lib/python3.6/dist-packages/ipykernel_launcher.py:8: SettingWithCopyWarning: \n",
            "A value is trying to be set on a copy of a slice from a DataFrame.\n",
            "Try using .loc[row_indexer,col_indexer] = value instead\n",
            "\n",
            "See the caveats in the documentation: https://pandas.pydata.org/pandas-docs/stable/user_guide/indexing.html#returning-a-view-versus-a-copy\n",
            "  \n"
          ],
          "name": "stderr"
        },
        {
          "output_type": "execute_result",
          "data": {
            "text/html": [
              "<div>\n",
              "<style scoped>\n",
              "    .dataframe tbody tr th:only-of-type {\n",
              "        vertical-align: middle;\n",
              "    }\n",
              "\n",
              "    .dataframe tbody tr th {\n",
              "        vertical-align: top;\n",
              "    }\n",
              "\n",
              "    .dataframe thead th {\n",
              "        text-align: right;\n",
              "    }\n",
              "</style>\n",
              "<table border=\"1\" class=\"dataframe\">\n",
              "  <thead>\n",
              "    <tr style=\"text-align: right;\">\n",
              "      <th></th>\n",
              "      <th>UNITID</th>\n",
              "      <th>INSTNM</th>\n",
              "      <th>STABBR</th>\n",
              "      <th>REGION</th>\n",
              "      <th>ADM_RATE</th>\n",
              "      <th>TUITIONFEE_IN</th>\n",
              "      <th>YEAR</th>\n",
              "      <th>PCT_CHANGE</th>\n",
              "    </tr>\n",
              "  </thead>\n",
              "  <tbody>\n",
              "    <tr>\n",
              "      <th>2139</th>\n",
              "      <td>162928</td>\n",
              "      <td>Johns Hopkins University</td>\n",
              "      <td>MD</td>\n",
              "      <td>2.0</td>\n",
              "      <td>NaN</td>\n",
              "      <td>NaN</td>\n",
              "      <td>1996</td>\n",
              "      <td>NaN</td>\n",
              "    </tr>\n",
              "    <tr>\n",
              "      <th>2039</th>\n",
              "      <td>162928</td>\n",
              "      <td>Johns Hopkins University</td>\n",
              "      <td>MD</td>\n",
              "      <td>2.0</td>\n",
              "      <td>NaN</td>\n",
              "      <td>NaN</td>\n",
              "      <td>1997</td>\n",
              "      <td>NaN</td>\n",
              "    </tr>\n",
              "    <tr>\n",
              "      <th>1973</th>\n",
              "      <td>162928</td>\n",
              "      <td>Johns Hopkins University</td>\n",
              "      <td>MD</td>\n",
              "      <td>2.0</td>\n",
              "      <td>NaN</td>\n",
              "      <td>NaN</td>\n",
              "      <td>1998</td>\n",
              "      <td>NaN</td>\n",
              "    </tr>\n",
              "    <tr>\n",
              "      <th>1946</th>\n",
              "      <td>162928</td>\n",
              "      <td>Johns Hopkins University</td>\n",
              "      <td>MD</td>\n",
              "      <td>2.0</td>\n",
              "      <td>NaN</td>\n",
              "      <td>NaN</td>\n",
              "      <td>1999</td>\n",
              "      <td>NaN</td>\n",
              "    </tr>\n",
              "    <tr>\n",
              "      <th>1917</th>\n",
              "      <td>162928</td>\n",
              "      <td>Johns Hopkins University</td>\n",
              "      <td>MD</td>\n",
              "      <td>2.0</td>\n",
              "      <td>NaN</td>\n",
              "      <td>24930.0</td>\n",
              "      <td>2000</td>\n",
              "      <td>NaN</td>\n",
              "    </tr>\n",
              "    <tr>\n",
              "      <th>1906</th>\n",
              "      <td>162928</td>\n",
              "      <td>Johns Hopkins University</td>\n",
              "      <td>MD</td>\n",
              "      <td>2.0</td>\n",
              "      <td>0.3431</td>\n",
              "      <td>26210.0</td>\n",
              "      <td>2001</td>\n",
              "      <td>5.134</td>\n",
              "    </tr>\n",
              "    <tr>\n",
              "      <th>1884</th>\n",
              "      <td>162928</td>\n",
              "      <td>Johns Hopkins University</td>\n",
              "      <td>MD</td>\n",
              "      <td>2.0</td>\n",
              "      <td>0.3506</td>\n",
              "      <td>27390.0</td>\n",
              "      <td>2002</td>\n",
              "      <td>4.502</td>\n",
              "    </tr>\n",
              "    <tr>\n",
              "      <th>1865</th>\n",
              "      <td>162928</td>\n",
              "      <td>Johns Hopkins University</td>\n",
              "      <td>MD</td>\n",
              "      <td>2.0</td>\n",
              "      <td>0.3060</td>\n",
              "      <td>28730.0</td>\n",
              "      <td>2003</td>\n",
              "      <td>4.892</td>\n",
              "    </tr>\n",
              "    <tr>\n",
              "      <th>1823</th>\n",
              "      <td>162928</td>\n",
              "      <td>Johns Hopkins University</td>\n",
              "      <td>MD</td>\n",
              "      <td>2.0</td>\n",
              "      <td>0.3071</td>\n",
              "      <td>30140.0</td>\n",
              "      <td>2004</td>\n",
              "      <td>4.908</td>\n",
              "    </tr>\n",
              "    <tr>\n",
              "      <th>1812</th>\n",
              "      <td>162928</td>\n",
              "      <td>Johns Hopkins University</td>\n",
              "      <td>MD</td>\n",
              "      <td>2.0</td>\n",
              "      <td>0.3509</td>\n",
              "      <td>31620.0</td>\n",
              "      <td>2005</td>\n",
              "      <td>4.910</td>\n",
              "    </tr>\n",
              "    <tr>\n",
              "      <th>1792</th>\n",
              "      <td>162928</td>\n",
              "      <td>Johns Hopkins University</td>\n",
              "      <td>MD</td>\n",
              "      <td>2.0</td>\n",
              "      <td>0.2792</td>\n",
              "      <td>33900.0</td>\n",
              "      <td>2006</td>\n",
              "      <td>7.211</td>\n",
              "    </tr>\n",
              "    <tr>\n",
              "      <th>1772</th>\n",
              "      <td>162928</td>\n",
              "      <td>Johns Hopkins University</td>\n",
              "      <td>MD</td>\n",
              "      <td>2.0</td>\n",
              "      <td>0.2571</td>\n",
              "      <td>35900.0</td>\n",
              "      <td>2007</td>\n",
              "      <td>5.900</td>\n",
              "    </tr>\n",
              "    <tr>\n",
              "      <th>1760</th>\n",
              "      <td>162928</td>\n",
              "      <td>Johns Hopkins University</td>\n",
              "      <td>MD</td>\n",
              "      <td>2.0</td>\n",
              "      <td>0.2609</td>\n",
              "      <td>37700.0</td>\n",
              "      <td>2008</td>\n",
              "      <td>5.014</td>\n",
              "    </tr>\n",
              "    <tr>\n",
              "      <th>1738</th>\n",
              "      <td>162928</td>\n",
              "      <td>Johns Hopkins University</td>\n",
              "      <td>MD</td>\n",
              "      <td>2.0</td>\n",
              "      <td>0.2782</td>\n",
              "      <td>39150.0</td>\n",
              "      <td>2009</td>\n",
              "      <td>3.846</td>\n",
              "    </tr>\n",
              "    <tr>\n",
              "      <th>1703</th>\n",
              "      <td>162928</td>\n",
              "      <td>Johns Hopkins University</td>\n",
              "      <td>MD</td>\n",
              "      <td>2.0</td>\n",
              "      <td>0.2225</td>\n",
              "      <td>40680.0</td>\n",
              "      <td>2010</td>\n",
              "      <td>3.908</td>\n",
              "    </tr>\n",
              "    <tr>\n",
              "      <th>1687</th>\n",
              "      <td>162928</td>\n",
              "      <td>Johns Hopkins University</td>\n",
              "      <td>MD</td>\n",
              "      <td>2.0</td>\n",
              "      <td>0.1940</td>\n",
              "      <td>42280.0</td>\n",
              "      <td>2011</td>\n",
              "      <td>3.933</td>\n",
              "    </tr>\n",
              "    <tr>\n",
              "      <th>1653</th>\n",
              "      <td>162928</td>\n",
              "      <td>Johns Hopkins University</td>\n",
              "      <td>MD</td>\n",
              "      <td>2.0</td>\n",
              "      <td>0.1843</td>\n",
              "      <td>43390.0</td>\n",
              "      <td>2012</td>\n",
              "      <td>2.625</td>\n",
              "    </tr>\n",
              "    <tr>\n",
              "      <th>1622</th>\n",
              "      <td>162928</td>\n",
              "      <td>Johns Hopkins University</td>\n",
              "      <td>MD</td>\n",
              "      <td>2.0</td>\n",
              "      <td>0.1813</td>\n",
              "      <td>45470.0</td>\n",
              "      <td>2013</td>\n",
              "      <td>4.794</td>\n",
              "    </tr>\n",
              "    <tr>\n",
              "      <th>1603</th>\n",
              "      <td>162928</td>\n",
              "      <td>Johns Hopkins University</td>\n",
              "      <td>MD</td>\n",
              "      <td>2.0</td>\n",
              "      <td>0.1608</td>\n",
              "      <td>47060.0</td>\n",
              "      <td>2014</td>\n",
              "      <td>3.497</td>\n",
              "    </tr>\n",
              "    <tr>\n",
              "      <th>1548</th>\n",
              "      <td>162928</td>\n",
              "      <td>Johns Hopkins University</td>\n",
              "      <td>MD</td>\n",
              "      <td>2.0</td>\n",
              "      <td>0.1412</td>\n",
              "      <td>48710.0</td>\n",
              "      <td>2015</td>\n",
              "      <td>3.506</td>\n",
              "    </tr>\n",
              "    <tr>\n",
              "      <th>1503</th>\n",
              "      <td>162928</td>\n",
              "      <td>Johns Hopkins University</td>\n",
              "      <td>MD</td>\n",
              "      <td>2.0</td>\n",
              "      <td>0.1284</td>\n",
              "      <td>50410.0</td>\n",
              "      <td>2016</td>\n",
              "      <td>3.490</td>\n",
              "    </tr>\n",
              "    <tr>\n",
              "      <th>1473</th>\n",
              "      <td>162928</td>\n",
              "      <td>Johns Hopkins University</td>\n",
              "      <td>MD</td>\n",
              "      <td>2.0</td>\n",
              "      <td>0.1254</td>\n",
              "      <td>52170.0</td>\n",
              "      <td>2017</td>\n",
              "      <td>3.491</td>\n",
              "    </tr>\n",
              "    <tr>\n",
              "      <th>1410</th>\n",
              "      <td>162928</td>\n",
              "      <td>Johns Hopkins University</td>\n",
              "      <td>MD</td>\n",
              "      <td>2.0</td>\n",
              "      <td>0.1148</td>\n",
              "      <td>53740.0</td>\n",
              "      <td>2018</td>\n",
              "      <td>3.009</td>\n",
              "    </tr>\n",
              "  </tbody>\n",
              "</table>\n",
              "</div>"
            ],
            "text/plain": [
              "      UNITID                    INSTNM STABBR  ...  TUITIONFEE_IN  YEAR  PCT_CHANGE\n",
              "2139  162928  Johns Hopkins University     MD  ...            NaN  1996         NaN\n",
              "2039  162928  Johns Hopkins University     MD  ...            NaN  1997         NaN\n",
              "1973  162928  Johns Hopkins University     MD  ...            NaN  1998         NaN\n",
              "1946  162928  Johns Hopkins University     MD  ...            NaN  1999         NaN\n",
              "1917  162928  Johns Hopkins University     MD  ...        24930.0  2000         NaN\n",
              "1906  162928  Johns Hopkins University     MD  ...        26210.0  2001       5.134\n",
              "1884  162928  Johns Hopkins University     MD  ...        27390.0  2002       4.502\n",
              "1865  162928  Johns Hopkins University     MD  ...        28730.0  2003       4.892\n",
              "1823  162928  Johns Hopkins University     MD  ...        30140.0  2004       4.908\n",
              "1812  162928  Johns Hopkins University     MD  ...        31620.0  2005       4.910\n",
              "1792  162928  Johns Hopkins University     MD  ...        33900.0  2006       7.211\n",
              "1772  162928  Johns Hopkins University     MD  ...        35900.0  2007       5.900\n",
              "1760  162928  Johns Hopkins University     MD  ...        37700.0  2008       5.014\n",
              "1738  162928  Johns Hopkins University     MD  ...        39150.0  2009       3.846\n",
              "1703  162928  Johns Hopkins University     MD  ...        40680.0  2010       3.908\n",
              "1687  162928  Johns Hopkins University     MD  ...        42280.0  2011       3.933\n",
              "1653  162928  Johns Hopkins University     MD  ...        43390.0  2012       2.625\n",
              "1622  162928  Johns Hopkins University     MD  ...        45470.0  2013       4.794\n",
              "1603  162928  Johns Hopkins University     MD  ...        47060.0  2014       3.497\n",
              "1548  162928  Johns Hopkins University     MD  ...        48710.0  2015       3.506\n",
              "1503  162928  Johns Hopkins University     MD  ...        50410.0  2016       3.490\n",
              "1473  162928  Johns Hopkins University     MD  ...        52170.0  2017       3.491\n",
              "1410  162928  Johns Hopkins University     MD  ...        53740.0  2018       3.009\n",
              "\n",
              "[23 rows x 8 columns]"
            ]
          },
          "metadata": {
            "tags": []
          },
          "execution_count": 23
        }
      ]
    },
    {
      "cell_type": "markdown",
      "metadata": {
        "id": "9gUigz1Tjq2A"
      },
      "source": [
        "# <14> \n",
        "# Plot JHU's in-state tuition overtime from 1996 to 2019. Let's plot bar and line chart together"
      ]
    },
    {
      "cell_type": "code",
      "metadata": {
        "colab": {
          "base_uri": "https://localhost:8080/",
          "height": 737
        },
        "id": "04aVOWm36v1X",
        "outputId": "eee4093c-1a9a-40e5-8217-61ab44b2c416"
      },
      "source": [
        "Select_JHU"
      ],
      "execution_count": 24,
      "outputs": [
        {
          "output_type": "execute_result",
          "data": {
            "text/html": [
              "<div>\n",
              "<style scoped>\n",
              "    .dataframe tbody tr th:only-of-type {\n",
              "        vertical-align: middle;\n",
              "    }\n",
              "\n",
              "    .dataframe tbody tr th {\n",
              "        vertical-align: top;\n",
              "    }\n",
              "\n",
              "    .dataframe thead th {\n",
              "        text-align: right;\n",
              "    }\n",
              "</style>\n",
              "<table border=\"1\" class=\"dataframe\">\n",
              "  <thead>\n",
              "    <tr style=\"text-align: right;\">\n",
              "      <th></th>\n",
              "      <th>UNITID</th>\n",
              "      <th>INSTNM</th>\n",
              "      <th>STABBR</th>\n",
              "      <th>REGION</th>\n",
              "      <th>ADM_RATE</th>\n",
              "      <th>TUITIONFEE_IN</th>\n",
              "      <th>YEAR</th>\n",
              "      <th>PCT_CHANGE</th>\n",
              "    </tr>\n",
              "  </thead>\n",
              "  <tbody>\n",
              "    <tr>\n",
              "      <th>2139</th>\n",
              "      <td>162928</td>\n",
              "      <td>Johns Hopkins University</td>\n",
              "      <td>MD</td>\n",
              "      <td>2.0</td>\n",
              "      <td>NaN</td>\n",
              "      <td>NaN</td>\n",
              "      <td>1996</td>\n",
              "      <td>NaN</td>\n",
              "    </tr>\n",
              "    <tr>\n",
              "      <th>2039</th>\n",
              "      <td>162928</td>\n",
              "      <td>Johns Hopkins University</td>\n",
              "      <td>MD</td>\n",
              "      <td>2.0</td>\n",
              "      <td>NaN</td>\n",
              "      <td>NaN</td>\n",
              "      <td>1997</td>\n",
              "      <td>NaN</td>\n",
              "    </tr>\n",
              "    <tr>\n",
              "      <th>1973</th>\n",
              "      <td>162928</td>\n",
              "      <td>Johns Hopkins University</td>\n",
              "      <td>MD</td>\n",
              "      <td>2.0</td>\n",
              "      <td>NaN</td>\n",
              "      <td>NaN</td>\n",
              "      <td>1998</td>\n",
              "      <td>NaN</td>\n",
              "    </tr>\n",
              "    <tr>\n",
              "      <th>1946</th>\n",
              "      <td>162928</td>\n",
              "      <td>Johns Hopkins University</td>\n",
              "      <td>MD</td>\n",
              "      <td>2.0</td>\n",
              "      <td>NaN</td>\n",
              "      <td>NaN</td>\n",
              "      <td>1999</td>\n",
              "      <td>NaN</td>\n",
              "    </tr>\n",
              "    <tr>\n",
              "      <th>1917</th>\n",
              "      <td>162928</td>\n",
              "      <td>Johns Hopkins University</td>\n",
              "      <td>MD</td>\n",
              "      <td>2.0</td>\n",
              "      <td>NaN</td>\n",
              "      <td>24930.0</td>\n",
              "      <td>2000</td>\n",
              "      <td>NaN</td>\n",
              "    </tr>\n",
              "    <tr>\n",
              "      <th>1906</th>\n",
              "      <td>162928</td>\n",
              "      <td>Johns Hopkins University</td>\n",
              "      <td>MD</td>\n",
              "      <td>2.0</td>\n",
              "      <td>0.3431</td>\n",
              "      <td>26210.0</td>\n",
              "      <td>2001</td>\n",
              "      <td>5.134</td>\n",
              "    </tr>\n",
              "    <tr>\n",
              "      <th>1884</th>\n",
              "      <td>162928</td>\n",
              "      <td>Johns Hopkins University</td>\n",
              "      <td>MD</td>\n",
              "      <td>2.0</td>\n",
              "      <td>0.3506</td>\n",
              "      <td>27390.0</td>\n",
              "      <td>2002</td>\n",
              "      <td>4.502</td>\n",
              "    </tr>\n",
              "    <tr>\n",
              "      <th>1865</th>\n",
              "      <td>162928</td>\n",
              "      <td>Johns Hopkins University</td>\n",
              "      <td>MD</td>\n",
              "      <td>2.0</td>\n",
              "      <td>0.3060</td>\n",
              "      <td>28730.0</td>\n",
              "      <td>2003</td>\n",
              "      <td>4.892</td>\n",
              "    </tr>\n",
              "    <tr>\n",
              "      <th>1823</th>\n",
              "      <td>162928</td>\n",
              "      <td>Johns Hopkins University</td>\n",
              "      <td>MD</td>\n",
              "      <td>2.0</td>\n",
              "      <td>0.3071</td>\n",
              "      <td>30140.0</td>\n",
              "      <td>2004</td>\n",
              "      <td>4.908</td>\n",
              "    </tr>\n",
              "    <tr>\n",
              "      <th>1812</th>\n",
              "      <td>162928</td>\n",
              "      <td>Johns Hopkins University</td>\n",
              "      <td>MD</td>\n",
              "      <td>2.0</td>\n",
              "      <td>0.3509</td>\n",
              "      <td>31620.0</td>\n",
              "      <td>2005</td>\n",
              "      <td>4.910</td>\n",
              "    </tr>\n",
              "    <tr>\n",
              "      <th>1792</th>\n",
              "      <td>162928</td>\n",
              "      <td>Johns Hopkins University</td>\n",
              "      <td>MD</td>\n",
              "      <td>2.0</td>\n",
              "      <td>0.2792</td>\n",
              "      <td>33900.0</td>\n",
              "      <td>2006</td>\n",
              "      <td>7.211</td>\n",
              "    </tr>\n",
              "    <tr>\n",
              "      <th>1772</th>\n",
              "      <td>162928</td>\n",
              "      <td>Johns Hopkins University</td>\n",
              "      <td>MD</td>\n",
              "      <td>2.0</td>\n",
              "      <td>0.2571</td>\n",
              "      <td>35900.0</td>\n",
              "      <td>2007</td>\n",
              "      <td>5.900</td>\n",
              "    </tr>\n",
              "    <tr>\n",
              "      <th>1760</th>\n",
              "      <td>162928</td>\n",
              "      <td>Johns Hopkins University</td>\n",
              "      <td>MD</td>\n",
              "      <td>2.0</td>\n",
              "      <td>0.2609</td>\n",
              "      <td>37700.0</td>\n",
              "      <td>2008</td>\n",
              "      <td>5.014</td>\n",
              "    </tr>\n",
              "    <tr>\n",
              "      <th>1738</th>\n",
              "      <td>162928</td>\n",
              "      <td>Johns Hopkins University</td>\n",
              "      <td>MD</td>\n",
              "      <td>2.0</td>\n",
              "      <td>0.2782</td>\n",
              "      <td>39150.0</td>\n",
              "      <td>2009</td>\n",
              "      <td>3.846</td>\n",
              "    </tr>\n",
              "    <tr>\n",
              "      <th>1703</th>\n",
              "      <td>162928</td>\n",
              "      <td>Johns Hopkins University</td>\n",
              "      <td>MD</td>\n",
              "      <td>2.0</td>\n",
              "      <td>0.2225</td>\n",
              "      <td>40680.0</td>\n",
              "      <td>2010</td>\n",
              "      <td>3.908</td>\n",
              "    </tr>\n",
              "    <tr>\n",
              "      <th>1687</th>\n",
              "      <td>162928</td>\n",
              "      <td>Johns Hopkins University</td>\n",
              "      <td>MD</td>\n",
              "      <td>2.0</td>\n",
              "      <td>0.1940</td>\n",
              "      <td>42280.0</td>\n",
              "      <td>2011</td>\n",
              "      <td>3.933</td>\n",
              "    </tr>\n",
              "    <tr>\n",
              "      <th>1653</th>\n",
              "      <td>162928</td>\n",
              "      <td>Johns Hopkins University</td>\n",
              "      <td>MD</td>\n",
              "      <td>2.0</td>\n",
              "      <td>0.1843</td>\n",
              "      <td>43390.0</td>\n",
              "      <td>2012</td>\n",
              "      <td>2.625</td>\n",
              "    </tr>\n",
              "    <tr>\n",
              "      <th>1622</th>\n",
              "      <td>162928</td>\n",
              "      <td>Johns Hopkins University</td>\n",
              "      <td>MD</td>\n",
              "      <td>2.0</td>\n",
              "      <td>0.1813</td>\n",
              "      <td>45470.0</td>\n",
              "      <td>2013</td>\n",
              "      <td>4.794</td>\n",
              "    </tr>\n",
              "    <tr>\n",
              "      <th>1603</th>\n",
              "      <td>162928</td>\n",
              "      <td>Johns Hopkins University</td>\n",
              "      <td>MD</td>\n",
              "      <td>2.0</td>\n",
              "      <td>0.1608</td>\n",
              "      <td>47060.0</td>\n",
              "      <td>2014</td>\n",
              "      <td>3.497</td>\n",
              "    </tr>\n",
              "    <tr>\n",
              "      <th>1548</th>\n",
              "      <td>162928</td>\n",
              "      <td>Johns Hopkins University</td>\n",
              "      <td>MD</td>\n",
              "      <td>2.0</td>\n",
              "      <td>0.1412</td>\n",
              "      <td>48710.0</td>\n",
              "      <td>2015</td>\n",
              "      <td>3.506</td>\n",
              "    </tr>\n",
              "    <tr>\n",
              "      <th>1503</th>\n",
              "      <td>162928</td>\n",
              "      <td>Johns Hopkins University</td>\n",
              "      <td>MD</td>\n",
              "      <td>2.0</td>\n",
              "      <td>0.1284</td>\n",
              "      <td>50410.0</td>\n",
              "      <td>2016</td>\n",
              "      <td>3.490</td>\n",
              "    </tr>\n",
              "    <tr>\n",
              "      <th>1473</th>\n",
              "      <td>162928</td>\n",
              "      <td>Johns Hopkins University</td>\n",
              "      <td>MD</td>\n",
              "      <td>2.0</td>\n",
              "      <td>0.1254</td>\n",
              "      <td>52170.0</td>\n",
              "      <td>2017</td>\n",
              "      <td>3.491</td>\n",
              "    </tr>\n",
              "    <tr>\n",
              "      <th>1410</th>\n",
              "      <td>162928</td>\n",
              "      <td>Johns Hopkins University</td>\n",
              "      <td>MD</td>\n",
              "      <td>2.0</td>\n",
              "      <td>0.1148</td>\n",
              "      <td>53740.0</td>\n",
              "      <td>2018</td>\n",
              "      <td>3.009</td>\n",
              "    </tr>\n",
              "  </tbody>\n",
              "</table>\n",
              "</div>"
            ],
            "text/plain": [
              "      UNITID                    INSTNM STABBR  ...  TUITIONFEE_IN  YEAR  PCT_CHANGE\n",
              "2139  162928  Johns Hopkins University     MD  ...            NaN  1996         NaN\n",
              "2039  162928  Johns Hopkins University     MD  ...            NaN  1997         NaN\n",
              "1973  162928  Johns Hopkins University     MD  ...            NaN  1998         NaN\n",
              "1946  162928  Johns Hopkins University     MD  ...            NaN  1999         NaN\n",
              "1917  162928  Johns Hopkins University     MD  ...        24930.0  2000         NaN\n",
              "1906  162928  Johns Hopkins University     MD  ...        26210.0  2001       5.134\n",
              "1884  162928  Johns Hopkins University     MD  ...        27390.0  2002       4.502\n",
              "1865  162928  Johns Hopkins University     MD  ...        28730.0  2003       4.892\n",
              "1823  162928  Johns Hopkins University     MD  ...        30140.0  2004       4.908\n",
              "1812  162928  Johns Hopkins University     MD  ...        31620.0  2005       4.910\n",
              "1792  162928  Johns Hopkins University     MD  ...        33900.0  2006       7.211\n",
              "1772  162928  Johns Hopkins University     MD  ...        35900.0  2007       5.900\n",
              "1760  162928  Johns Hopkins University     MD  ...        37700.0  2008       5.014\n",
              "1738  162928  Johns Hopkins University     MD  ...        39150.0  2009       3.846\n",
              "1703  162928  Johns Hopkins University     MD  ...        40680.0  2010       3.908\n",
              "1687  162928  Johns Hopkins University     MD  ...        42280.0  2011       3.933\n",
              "1653  162928  Johns Hopkins University     MD  ...        43390.0  2012       2.625\n",
              "1622  162928  Johns Hopkins University     MD  ...        45470.0  2013       4.794\n",
              "1603  162928  Johns Hopkins University     MD  ...        47060.0  2014       3.497\n",
              "1548  162928  Johns Hopkins University     MD  ...        48710.0  2015       3.506\n",
              "1503  162928  Johns Hopkins University     MD  ...        50410.0  2016       3.490\n",
              "1473  162928  Johns Hopkins University     MD  ...        52170.0  2017       3.491\n",
              "1410  162928  Johns Hopkins University     MD  ...        53740.0  2018       3.009\n",
              "\n",
              "[23 rows x 8 columns]"
            ]
          },
          "metadata": {
            "tags": []
          },
          "execution_count": 24
        }
      ]
    },
    {
      "cell_type": "code",
      "metadata": {
        "id": "IhAUAOgQL998"
      },
      "source": [
        "import seaborn as sns"
      ],
      "execution_count": 29,
      "outputs": []
    },
    {
      "cell_type": "code",
      "metadata": {
        "colab": {
          "base_uri": "https://localhost:8080/",
          "height": 577
        },
        "id": "PxyYijGFjzaI",
        "outputId": "d681d20e-34f1-440c-822e-8f627961c49a"
      },
      "source": [
        "#Create combo chart\n",
        "fig, ax1 = plt.subplots(figsize=(20,10))\n",
        "color = 'tab:green'\n",
        "#bar plot creation\n",
        "ax1.set_title('Average Tuition by Year', fontsize=16)\n",
        "ax1.set_xlabel('Year', fontsize=16)\n",
        "ax1.set_ylabel('Tuition Cost', fontsize=16)\n",
        "ax1 = sns.barplot(x='YEAR', y='TUITIONFEE_IN', data = Select_JHU, palette='summer')\n",
        "ax1.tick_params(axis='y')\n",
        "#specify we want to share the same x-axis\n",
        "ax2 = ax1.twinx()\n",
        "color = 'tab:red'\n",
        "#line plot creation\n",
        "ax2.set_ylabel('Avg Tuition increase %', fontsize=16)\n",
        "ax2 = sns.lineplot(x='YEAR', y='PCT_CHANGE', data = Select_JHU, sort=False, color=color)\n",
        "ax2.tick_params(axis='y', color=color)\n",
        "#show plot\n",
        "plt.show()\n",
        "\n",
        "\n",
        "#ax2 = Select_JHU.plot.line(x='YEAR',y='PCT_CHANGE')"
      ],
      "execution_count": 31,
      "outputs": [
        {
          "output_type": "display_data",
          "data": {
            "image/png": "[encoded data removed]",
            "text/plain": [
              "<Figure size 1440x720 with 2 Axes>"
            ]
          },
          "metadata": {
            "tags": [],
            "needs_background": "light"
          }
        }
      ]
    },
    {
      "cell_type": "markdown",
      "metadata": {
        "id": "R7E7sTADOdh7"
      },
      "source": [
        "# <17> \n",
        "#Make a bar plot of the JHU percentage changes tuitions over time"
      ]
    },
    {
      "cell_type": "code",
      "metadata": {
        "colab": {
          "base_uri": "https://localhost:8080/",
          "height": 594
        },
        "id": "-SPPt-azPifX",
        "outputId": "80b0f972-8284-425a-a3d1-53c768e6fba6"
      },
      "source": [
        "ax1 = Select_JHU.plot.bar(x='YEAR',y='PCT_CHANGE', rot=0, color = 'red', figsize =(20,10))"
      ],
      "execution_count": 32,
      "outputs": [
        {
          "output_type": "display_data",
          "data": {
            "image/png": "[encoded data removed]",
            "text/plain": [
              "<Figure size 1440x720 with 1 Axes>"
            ]
          },
          "metadata": {
            "tags": [],
            "needs_background": "light"
          }
        }
      ]
    },
    {
      "cell_type": "markdown",
      "metadata": {
        "id": "OcldslZyQW8o"
      },
      "source": [
        "# <18>\n",
        "# In order to plot both UMBC and JHU tuition change over time in the same plot,we need to combine the two datasets using the common key of YEAR. First make a umbc2 dataframe with only two columns needed. WE don't need other columns. Also change the column name from \"PCT_CHANGE\" to \"UMBC_PCT\" in preparation for the merge. This is because both umbc and jhu dataframe have the same column name \"PCT_CHANGE\".We rename them to there is no collision during the merge. "
      ]
    },
    {
      "cell_type": "code",
      "metadata": {
        "colab": {
          "base_uri": "https://localhost:8080/",
          "height": 737
        },
        "id": "EisaLG6lQwK9",
        "outputId": "bdd9c8d6-04f2-4d68-b81a-84641fe0558c"
      },
      "source": [
        "UMBC2 = Select_UMBC[['YEAR', 'INSTNM', 'PCT_CHANGE']].copy()\n",
        "UMBC2.rename(columns={'PCT_CHANGE':'UMBC_PCT'}, inplace = True)\n",
        "UMBC2"
      ],
      "execution_count": 33,
      "outputs": [
        {
          "output_type": "execute_result",
          "data": {
            "text/html": [
              "<div>\n",
              "<style scoped>\n",
              "    .dataframe tbody tr th:only-of-type {\n",
              "        vertical-align: middle;\n",
              "    }\n",
              "\n",
              "    .dataframe tbody tr th {\n",
              "        vertical-align: top;\n",
              "    }\n",
              "\n",
              "    .dataframe thead th {\n",
              "        text-align: right;\n",
              "    }\n",
              "</style>\n",
              "<table border=\"1\" class=\"dataframe\">\n",
              "  <thead>\n",
              "    <tr style=\"text-align: right;\">\n",
              "      <th></th>\n",
              "      <th>YEAR</th>\n",
              "      <th>INSTNM</th>\n",
              "      <th>UMBC_PCT</th>\n",
              "    </tr>\n",
              "  </thead>\n",
              "  <tbody>\n",
              "    <tr>\n",
              "      <th>2151</th>\n",
              "      <td>1996</td>\n",
              "      <td>University of Maryland-Baltimore County</td>\n",
              "      <td>NaN</td>\n",
              "    </tr>\n",
              "    <tr>\n",
              "      <th>2049</th>\n",
              "      <td>1997</td>\n",
              "      <td>University of Maryland-Baltimore County</td>\n",
              "      <td>NaN</td>\n",
              "    </tr>\n",
              "    <tr>\n",
              "      <th>1982</th>\n",
              "      <td>1998</td>\n",
              "      <td>University of Maryland-Baltimore County</td>\n",
              "      <td>NaN</td>\n",
              "    </tr>\n",
              "    <tr>\n",
              "      <th>1955</th>\n",
              "      <td>1999</td>\n",
              "      <td>University of Maryland-Baltimore County</td>\n",
              "      <td>NaN</td>\n",
              "    </tr>\n",
              "    <tr>\n",
              "      <th>1926</th>\n",
              "      <td>2000</td>\n",
              "      <td>University of Maryland-Baltimore County</td>\n",
              "      <td>NaN</td>\n",
              "    </tr>\n",
              "    <tr>\n",
              "      <th>1915</th>\n",
              "      <td>2001</td>\n",
              "      <td>University of Maryland-Baltimore County</td>\n",
              "      <td>7.650</td>\n",
              "    </tr>\n",
              "    <tr>\n",
              "      <th>1893</th>\n",
              "      <td>2002</td>\n",
              "      <td>University of Maryland-Baltimore County</td>\n",
              "      <td>7.648</td>\n",
              "    </tr>\n",
              "    <tr>\n",
              "      <th>1873</th>\n",
              "      <td>2003</td>\n",
              "      <td>University of Maryland-Baltimore County</td>\n",
              "      <td>16.127</td>\n",
              "    </tr>\n",
              "    <tr>\n",
              "      <th>1830</th>\n",
              "      <td>2004</td>\n",
              "      <td>University of Maryland-Baltimore County</td>\n",
              "      <td>8.554</td>\n",
              "    </tr>\n",
              "    <tr>\n",
              "      <th>1819</th>\n",
              "      <td>2005</td>\n",
              "      <td>University of Maryland-Baltimore County</td>\n",
              "      <td>6.234</td>\n",
              "    </tr>\n",
              "    <tr>\n",
              "      <th>1799</th>\n",
              "      <td>2006</td>\n",
              "      <td>University of Maryland-Baltimore County</td>\n",
              "      <td>1.197</td>\n",
              "    </tr>\n",
              "    <tr>\n",
              "      <th>1779</th>\n",
              "      <td>2007</td>\n",
              "      <td>University of Maryland-Baltimore County</td>\n",
              "      <td>0.997</td>\n",
              "    </tr>\n",
              "    <tr>\n",
              "      <th>1767</th>\n",
              "      <td>2008</td>\n",
              "      <td>University of Maryland-Baltimore County</td>\n",
              "      <td>0.827</td>\n",
              "    </tr>\n",
              "    <tr>\n",
              "      <th>1745</th>\n",
              "      <td>2009</td>\n",
              "      <td>University of Maryland-Baltimore County</td>\n",
              "      <td>1.048</td>\n",
              "    </tr>\n",
              "    <tr>\n",
              "      <th>1710</th>\n",
              "      <td>2010</td>\n",
              "      <td>University of Maryland-Baltimore County</td>\n",
              "      <td>3.370</td>\n",
              "    </tr>\n",
              "    <tr>\n",
              "      <th>1694</th>\n",
              "      <td>2011</td>\n",
              "      <td>University of Maryland-Baltimore County</td>\n",
              "      <td>3.228</td>\n",
              "    </tr>\n",
              "    <tr>\n",
              "      <th>1660</th>\n",
              "      <td>2012</td>\n",
              "      <td>University of Maryland-Baltimore County</td>\n",
              "      <td>3.137</td>\n",
              "    </tr>\n",
              "    <tr>\n",
              "      <th>1629</th>\n",
              "      <td>2013</td>\n",
              "      <td>University of Maryland-Baltimore County</td>\n",
              "      <td>3.113</td>\n",
              "    </tr>\n",
              "    <tr>\n",
              "      <th>1610</th>\n",
              "      <td>2014</td>\n",
              "      <td>University of Maryland-Baltimore County</td>\n",
              "      <td>3.139</td>\n",
              "    </tr>\n",
              "    <tr>\n",
              "      <th>1555</th>\n",
              "      <td>2015</td>\n",
              "      <td>University of Maryland-Baltimore County</td>\n",
              "      <td>5.990</td>\n",
              "    </tr>\n",
              "    <tr>\n",
              "      <th>1510</th>\n",
              "      <td>2016</td>\n",
              "      <td>University of Maryland-Baltimore County</td>\n",
              "      <td>2.344</td>\n",
              "    </tr>\n",
              "    <tr>\n",
              "      <th>1478</th>\n",
              "      <td>2017</td>\n",
              "      <td>University of Maryland-Baltimore County</td>\n",
              "      <td>2.255</td>\n",
              "    </tr>\n",
              "    <tr>\n",
              "      <th>1415</th>\n",
              "      <td>2018</td>\n",
              "      <td>University of Maryland-Baltimore County</td>\n",
              "      <td>2.257</td>\n",
              "    </tr>\n",
              "  </tbody>\n",
              "</table>\n",
              "</div>"
            ],
            "text/plain": [
              "      YEAR                                   INSTNM  UMBC_PCT\n",
              "2151  1996  University of Maryland-Baltimore County       NaN\n",
              "2049  1997  University of Maryland-Baltimore County       NaN\n",
              "1982  1998  University of Maryland-Baltimore County       NaN\n",
              "1955  1999  University of Maryland-Baltimore County       NaN\n",
              "1926  2000  University of Maryland-Baltimore County       NaN\n",
              "1915  2001  University of Maryland-Baltimore County     7.650\n",
              "1893  2002  University of Maryland-Baltimore County     7.648\n",
              "1873  2003  University of Maryland-Baltimore County    16.127\n",
              "1830  2004  University of Maryland-Baltimore County     8.554\n",
              "1819  2005  University of Maryland-Baltimore County     6.234\n",
              "1799  2006  University of Maryland-Baltimore County     1.197\n",
              "1779  2007  University of Maryland-Baltimore County     0.997\n",
              "1767  2008  University of Maryland-Baltimore County     0.827\n",
              "1745  2009  University of Maryland-Baltimore County     1.048\n",
              "1710  2010  University of Maryland-Baltimore County     3.370\n",
              "1694  2011  University of Maryland-Baltimore County     3.228\n",
              "1660  2012  University of Maryland-Baltimore County     3.137\n",
              "1629  2013  University of Maryland-Baltimore County     3.113\n",
              "1610  2014  University of Maryland-Baltimore County     3.139\n",
              "1555  2015  University of Maryland-Baltimore County     5.990\n",
              "1510  2016  University of Maryland-Baltimore County     2.344\n",
              "1478  2017  University of Maryland-Baltimore County     2.255\n",
              "1415  2018  University of Maryland-Baltimore County     2.257"
            ]
          },
          "metadata": {
            "tags": []
          },
          "execution_count": 33
        }
      ]
    },
    {
      "cell_type": "markdown",
      "metadata": {
        "id": "tpbHIZcNS4ma"
      },
      "source": [
        "# Then make a jhu2 dataframe with only two columns needed. WE don't need other columns.Also change the column name from \"PCT_CHANGE\" to \"JHU_PCT\"  in preparation for the merge."
      ]
    },
    {
      "cell_type": "code",
      "metadata": {
        "colab": {
          "base_uri": "https://localhost:8080/",
          "height": 737
        },
        "id": "kYfx3K0cTHFi",
        "outputId": "406b167c-5f60-4d35-8626-553db37580fd"
      },
      "source": [
        "JHU2 = Select_JHU[['YEAR', 'INSTNM', 'PCT_CHANGE']].copy()\n",
        "JHU2.rename(columns={'PCT_CHANGE':'JHU_PCT'}, inplace = True)\n",
        "JHU2"
      ],
      "execution_count": 34,
      "outputs": [
        {
          "output_type": "execute_result",
          "data": {
            "text/html": [
              "<div>\n",
              "<style scoped>\n",
              "    .dataframe tbody tr th:only-of-type {\n",
              "        vertical-align: middle;\n",
              "    }\n",
              "\n",
              "    .dataframe tbody tr th {\n",
              "        vertical-align: top;\n",
              "    }\n",
              "\n",
              "    .dataframe thead th {\n",
              "        text-align: right;\n",
              "    }\n",
              "</style>\n",
              "<table border=\"1\" class=\"dataframe\">\n",
              "  <thead>\n",
              "    <tr style=\"text-align: right;\">\n",
              "      <th></th>\n",
              "      <th>YEAR</th>\n",
              "      <th>INSTNM</th>\n",
              "      <th>JHU_PCT</th>\n",
              "    </tr>\n",
              "  </thead>\n",
              "  <tbody>\n",
              "    <tr>\n",
              "      <th>2139</th>\n",
              "      <td>1996</td>\n",
              "      <td>Johns Hopkins University</td>\n",
              "      <td>NaN</td>\n",
              "    </tr>\n",
              "    <tr>\n",
              "      <th>2039</th>\n",
              "      <td>1997</td>\n",
              "      <td>Johns Hopkins University</td>\n",
              "      <td>NaN</td>\n",
              "    </tr>\n",
              "    <tr>\n",
              "      <th>1973</th>\n",
              "      <td>1998</td>\n",
              "      <td>Johns Hopkins University</td>\n",
              "      <td>NaN</td>\n",
              "    </tr>\n",
              "    <tr>\n",
              "      <th>1946</th>\n",
              "      <td>1999</td>\n",
              "      <td>Johns Hopkins University</td>\n",
              "      <td>NaN</td>\n",
              "    </tr>\n",
              "    <tr>\n",
              "      <th>1917</th>\n",
              "      <td>2000</td>\n",
              "      <td>Johns Hopkins University</td>\n",
              "      <td>NaN</td>\n",
              "    </tr>\n",
              "    <tr>\n",
              "      <th>1906</th>\n",
              "      <td>2001</td>\n",
              "      <td>Johns Hopkins University</td>\n",
              "      <td>5.134</td>\n",
              "    </tr>\n",
              "    <tr>\n",
              "      <th>1884</th>\n",
              "      <td>2002</td>\n",
              "      <td>Johns Hopkins University</td>\n",
              "      <td>4.502</td>\n",
              "    </tr>\n",
              "    <tr>\n",
              "      <th>1865</th>\n",
              "      <td>2003</td>\n",
              "      <td>Johns Hopkins University</td>\n",
              "      <td>4.892</td>\n",
              "    </tr>\n",
              "    <tr>\n",
              "      <th>1823</th>\n",
              "      <td>2004</td>\n",
              "      <td>Johns Hopkins University</td>\n",
              "      <td>4.908</td>\n",
              "    </tr>\n",
              "    <tr>\n",
              "      <th>1812</th>\n",
              "      <td>2005</td>\n",
              "      <td>Johns Hopkins University</td>\n",
              "      <td>4.910</td>\n",
              "    </tr>\n",
              "    <tr>\n",
              "      <th>1792</th>\n",
              "      <td>2006</td>\n",
              "      <td>Johns Hopkins University</td>\n",
              "      <td>7.211</td>\n",
              "    </tr>\n",
              "    <tr>\n",
              "      <th>1772</th>\n",
              "      <td>2007</td>\n",
              "      <td>Johns Hopkins University</td>\n",
              "      <td>5.900</td>\n",
              "    </tr>\n",
              "    <tr>\n",
              "      <th>1760</th>\n",
              "      <td>2008</td>\n",
              "      <td>Johns Hopkins University</td>\n",
              "      <td>5.014</td>\n",
              "    </tr>\n",
              "    <tr>\n",
              "      <th>1738</th>\n",
              "      <td>2009</td>\n",
              "      <td>Johns Hopkins University</td>\n",
              "      <td>3.846</td>\n",
              "    </tr>\n",
              "    <tr>\n",
              "      <th>1703</th>\n",
              "      <td>2010</td>\n",
              "      <td>Johns Hopkins University</td>\n",
              "      <td>3.908</td>\n",
              "    </tr>\n",
              "    <tr>\n",
              "      <th>1687</th>\n",
              "      <td>2011</td>\n",
              "      <td>Johns Hopkins University</td>\n",
              "      <td>3.933</td>\n",
              "    </tr>\n",
              "    <tr>\n",
              "      <th>1653</th>\n",
              "      <td>2012</td>\n",
              "      <td>Johns Hopkins University</td>\n",
              "      <td>2.625</td>\n",
              "    </tr>\n",
              "    <tr>\n",
              "      <th>1622</th>\n",
              "      <td>2013</td>\n",
              "      <td>Johns Hopkins University</td>\n",
              "      <td>4.794</td>\n",
              "    </tr>\n",
              "    <tr>\n",
              "      <th>1603</th>\n",
              "      <td>2014</td>\n",
              "      <td>Johns Hopkins University</td>\n",
              "      <td>3.497</td>\n",
              "    </tr>\n",
              "    <tr>\n",
              "      <th>1548</th>\n",
              "      <td>2015</td>\n",
              "      <td>Johns Hopkins University</td>\n",
              "      <td>3.506</td>\n",
              "    </tr>\n",
              "    <tr>\n",
              "      <th>1503</th>\n",
              "      <td>2016</td>\n",
              "      <td>Johns Hopkins University</td>\n",
              "      <td>3.490</td>\n",
              "    </tr>\n",
              "    <tr>\n",
              "      <th>1473</th>\n",
              "      <td>2017</td>\n",
              "      <td>Johns Hopkins University</td>\n",
              "      <td>3.491</td>\n",
              "    </tr>\n",
              "    <tr>\n",
              "      <th>1410</th>\n",
              "      <td>2018</td>\n",
              "      <td>Johns Hopkins University</td>\n",
              "      <td>3.009</td>\n",
              "    </tr>\n",
              "  </tbody>\n",
              "</table>\n",
              "</div>"
            ],
            "text/plain": [
              "      YEAR                    INSTNM  JHU_PCT\n",
              "2139  1996  Johns Hopkins University      NaN\n",
              "2039  1997  Johns Hopkins University      NaN\n",
              "1973  1998  Johns Hopkins University      NaN\n",
              "1946  1999  Johns Hopkins University      NaN\n",
              "1917  2000  Johns Hopkins University      NaN\n",
              "1906  2001  Johns Hopkins University    5.134\n",
              "1884  2002  Johns Hopkins University    4.502\n",
              "1865  2003  Johns Hopkins University    4.892\n",
              "1823  2004  Johns Hopkins University    4.908\n",
              "1812  2005  Johns Hopkins University    4.910\n",
              "1792  2006  Johns Hopkins University    7.211\n",
              "1772  2007  Johns Hopkins University    5.900\n",
              "1760  2008  Johns Hopkins University    5.014\n",
              "1738  2009  Johns Hopkins University    3.846\n",
              "1703  2010  Johns Hopkins University    3.908\n",
              "1687  2011  Johns Hopkins University    3.933\n",
              "1653  2012  Johns Hopkins University    2.625\n",
              "1622  2013  Johns Hopkins University    4.794\n",
              "1603  2014  Johns Hopkins University    3.497\n",
              "1548  2015  Johns Hopkins University    3.506\n",
              "1503  2016  Johns Hopkins University    3.490\n",
              "1473  2017  Johns Hopkins University    3.491\n",
              "1410  2018  Johns Hopkins University    3.009"
            ]
          },
          "metadata": {
            "tags": []
          },
          "execution_count": 34
        }
      ]
    },
    {
      "cell_type": "markdown",
      "metadata": {
        "id": "Id2kWi6kTefr"
      },
      "source": [
        "# Now, merger the two data frames and display the new dataframe."
      ]
    },
    {
      "cell_type": "code",
      "metadata": {
        "colab": {
          "base_uri": "https://localhost:8080/",
          "height": 767
        },
        "id": "REKmrL6STygA",
        "outputId": "6de130d3-5c5e-4c71-a06d-ba0d0a98bde5"
      },
      "source": [
        "NewDF = pd.merge(UMBC2, JHU2, on='YEAR')\n",
        "NewDF = NewDF.set_index('YEAR')\n",
        "NewDF"
      ],
      "execution_count": 37,
      "outputs": [
        {
          "output_type": "execute_result",
          "data": {
            "text/html": [
              "<div>\n",
              "<style scoped>\n",
              "    .dataframe tbody tr th:only-of-type {\n",
              "        vertical-align: middle;\n",
              "    }\n",
              "\n",
              "    .dataframe tbody tr th {\n",
              "        vertical-align: top;\n",
              "    }\n",
              "\n",
              "    .dataframe thead th {\n",
              "        text-align: right;\n",
              "    }\n",
              "</style>\n",
              "<table border=\"1\" class=\"dataframe\">\n",
              "  <thead>\n",
              "    <tr style=\"text-align: right;\">\n",
              "      <th></th>\n",
              "      <th>INSTNM_x</th>\n",
              "      <th>UMBC_PCT</th>\n",
              "      <th>INSTNM_y</th>\n",
              "      <th>JHU_PCT</th>\n",
              "    </tr>\n",
              "    <tr>\n",
              "      <th>YEAR</th>\n",
              "      <th></th>\n",
              "      <th></th>\n",
              "      <th></th>\n",
              "      <th></th>\n",
              "    </tr>\n",
              "  </thead>\n",
              "  <tbody>\n",
              "    <tr>\n",
              "      <th>1996</th>\n",
              "      <td>University of Maryland-Baltimore County</td>\n",
              "      <td>NaN</td>\n",
              "      <td>Johns Hopkins University</td>\n",
              "      <td>NaN</td>\n",
              "    </tr>\n",
              "    <tr>\n",
              "      <th>1997</th>\n",
              "      <td>University of Maryland-Baltimore County</td>\n",
              "      <td>NaN</td>\n",
              "      <td>Johns Hopkins University</td>\n",
              "      <td>NaN</td>\n",
              "    </tr>\n",
              "    <tr>\n",
              "      <th>1998</th>\n",
              "      <td>University of Maryland-Baltimore County</td>\n",
              "      <td>NaN</td>\n",
              "      <td>Johns Hopkins University</td>\n",
              "      <td>NaN</td>\n",
              "    </tr>\n",
              "    <tr>\n",
              "      <th>1999</th>\n",
              "      <td>University of Maryland-Baltimore County</td>\n",
              "      <td>NaN</td>\n",
              "      <td>Johns Hopkins University</td>\n",
              "      <td>NaN</td>\n",
              "    </tr>\n",
              "    <tr>\n",
              "      <th>2000</th>\n",
              "      <td>University of Maryland-Baltimore County</td>\n",
              "      <td>NaN</td>\n",
              "      <td>Johns Hopkins University</td>\n",
              "      <td>NaN</td>\n",
              "    </tr>\n",
              "    <tr>\n",
              "      <th>2001</th>\n",
              "      <td>University of Maryland-Baltimore County</td>\n",
              "      <td>7.650</td>\n",
              "      <td>Johns Hopkins University</td>\n",
              "      <td>5.134</td>\n",
              "    </tr>\n",
              "    <tr>\n",
              "      <th>2002</th>\n",
              "      <td>University of Maryland-Baltimore County</td>\n",
              "      <td>7.648</td>\n",
              "      <td>Johns Hopkins University</td>\n",
              "      <td>4.502</td>\n",
              "    </tr>\n",
              "    <tr>\n",
              "      <th>2003</th>\n",
              "      <td>University of Maryland-Baltimore County</td>\n",
              "      <td>16.127</td>\n",
              "      <td>Johns Hopkins University</td>\n",
              "      <td>4.892</td>\n",
              "    </tr>\n",
              "    <tr>\n",
              "      <th>2004</th>\n",
              "      <td>University of Maryland-Baltimore County</td>\n",
              "      <td>8.554</td>\n",
              "      <td>Johns Hopkins University</td>\n",
              "      <td>4.908</td>\n",
              "    </tr>\n",
              "    <tr>\n",
              "      <th>2005</th>\n",
              "      <td>University of Maryland-Baltimore County</td>\n",
              "      <td>6.234</td>\n",
              "      <td>Johns Hopkins University</td>\n",
              "      <td>4.910</td>\n",
              "    </tr>\n",
              "    <tr>\n",
              "      <th>2006</th>\n",
              "      <td>University of Maryland-Baltimore County</td>\n",
              "      <td>1.197</td>\n",
              "      <td>Johns Hopkins University</td>\n",
              "      <td>7.211</td>\n",
              "    </tr>\n",
              "    <tr>\n",
              "      <th>2007</th>\n",
              "      <td>University of Maryland-Baltimore County</td>\n",
              "      <td>0.997</td>\n",
              "      <td>Johns Hopkins University</td>\n",
              "      <td>5.900</td>\n",
              "    </tr>\n",
              "    <tr>\n",
              "      <th>2008</th>\n",
              "      <td>University of Maryland-Baltimore County</td>\n",
              "      <td>0.827</td>\n",
              "      <td>Johns Hopkins University</td>\n",
              "      <td>5.014</td>\n",
              "    </tr>\n",
              "    <tr>\n",
              "      <th>2009</th>\n",
              "      <td>University of Maryland-Baltimore County</td>\n",
              "      <td>1.048</td>\n",
              "      <td>Johns Hopkins University</td>\n",
              "      <td>3.846</td>\n",
              "    </tr>\n",
              "    <tr>\n",
              "      <th>2010</th>\n",
              "      <td>University of Maryland-Baltimore County</td>\n",
              "      <td>3.370</td>\n",
              "      <td>Johns Hopkins University</td>\n",
              "      <td>3.908</td>\n",
              "    </tr>\n",
              "    <tr>\n",
              "      <th>2011</th>\n",
              "      <td>University of Maryland-Baltimore County</td>\n",
              "      <td>3.228</td>\n",
              "      <td>Johns Hopkins University</td>\n",
              "      <td>3.933</td>\n",
              "    </tr>\n",
              "    <tr>\n",
              "      <th>2012</th>\n",
              "      <td>University of Maryland-Baltimore County</td>\n",
              "      <td>3.137</td>\n",
              "      <td>Johns Hopkins University</td>\n",
              "      <td>2.625</td>\n",
              "    </tr>\n",
              "    <tr>\n",
              "      <th>2013</th>\n",
              "      <td>University of Maryland-Baltimore County</td>\n",
              "      <td>3.113</td>\n",
              "      <td>Johns Hopkins University</td>\n",
              "      <td>4.794</td>\n",
              "    </tr>\n",
              "    <tr>\n",
              "      <th>2014</th>\n",
              "      <td>University of Maryland-Baltimore County</td>\n",
              "      <td>3.139</td>\n",
              "      <td>Johns Hopkins University</td>\n",
              "      <td>3.497</td>\n",
              "    </tr>\n",
              "    <tr>\n",
              "      <th>2015</th>\n",
              "      <td>University of Maryland-Baltimore County</td>\n",
              "      <td>5.990</td>\n",
              "      <td>Johns Hopkins University</td>\n",
              "      <td>3.506</td>\n",
              "    </tr>\n",
              "    <tr>\n",
              "      <th>2016</th>\n",
              "      <td>University of Maryland-Baltimore County</td>\n",
              "      <td>2.344</td>\n",
              "      <td>Johns Hopkins University</td>\n",
              "      <td>3.490</td>\n",
              "    </tr>\n",
              "    <tr>\n",
              "      <th>2017</th>\n",
              "      <td>University of Maryland-Baltimore County</td>\n",
              "      <td>2.255</td>\n",
              "      <td>Johns Hopkins University</td>\n",
              "      <td>3.491</td>\n",
              "    </tr>\n",
              "    <tr>\n",
              "      <th>2018</th>\n",
              "      <td>University of Maryland-Baltimore County</td>\n",
              "      <td>2.257</td>\n",
              "      <td>Johns Hopkins University</td>\n",
              "      <td>3.009</td>\n",
              "    </tr>\n",
              "  </tbody>\n",
              "</table>\n",
              "</div>"
            ],
            "text/plain": [
              "                                     INSTNM_x  ...  JHU_PCT\n",
              "YEAR                                           ...         \n",
              "1996  University of Maryland-Baltimore County  ...      NaN\n",
              "1997  University of Maryland-Baltimore County  ...      NaN\n",
              "1998  University of Maryland-Baltimore County  ...      NaN\n",
              "1999  University of Maryland-Baltimore County  ...      NaN\n",
              "2000  University of Maryland-Baltimore County  ...      NaN\n",
              "2001  University of Maryland-Baltimore County  ...    5.134\n",
              "2002  University of Maryland-Baltimore County  ...    4.502\n",
              "2003  University of Maryland-Baltimore County  ...    4.892\n",
              "2004  University of Maryland-Baltimore County  ...    4.908\n",
              "2005  University of Maryland-Baltimore County  ...    4.910\n",
              "2006  University of Maryland-Baltimore County  ...    7.211\n",
              "2007  University of Maryland-Baltimore County  ...    5.900\n",
              "2008  University of Maryland-Baltimore County  ...    5.014\n",
              "2009  University of Maryland-Baltimore County  ...    3.846\n",
              "2010  University of Maryland-Baltimore County  ...    3.908\n",
              "2011  University of Maryland-Baltimore County  ...    3.933\n",
              "2012  University of Maryland-Baltimore County  ...    2.625\n",
              "2013  University of Maryland-Baltimore County  ...    4.794\n",
              "2014  University of Maryland-Baltimore County  ...    3.497\n",
              "2015  University of Maryland-Baltimore County  ...    3.506\n",
              "2016  University of Maryland-Baltimore County  ...    3.490\n",
              "2017  University of Maryland-Baltimore County  ...    3.491\n",
              "2018  University of Maryland-Baltimore County  ...    3.009\n",
              "\n",
              "[23 rows x 4 columns]"
            ]
          },
          "metadata": {
            "tags": []
          },
          "execution_count": 37
        }
      ]
    },
    {
      "cell_type": "markdown",
      "metadata": {
        "id": "LbjCW3sSXIWp"
      },
      "source": [
        "# Plot UMBC and JHU separately on the same plot. However, this does not work since the bars overlap."
      ]
    },
    {
      "cell_type": "code",
      "metadata": {
        "colab": {
          "base_uri": "https://localhost:8080/",
          "height": 585
        },
        "id": "NIf6H9yYXXGu",
        "outputId": "31a1c0cf-ef79-472e-ea14-c5a81f72d57b"
      },
      "source": [
        "fig = plt.figure(figsize=(20,10)) # Create matplotlib figure\n",
        "\n",
        "ax = fig.add_subplot(111) # Create matplotlib axes\n",
        "ax2 = ax.twinx() # Create another axes that shares the same x-axis as ax.\n",
        "\n",
        "width = 0.4\n",
        "\n",
        "NewDF.UMBC_PCT.plot(kind='bar', color='red', ax=ax, width=width, position=1)\n",
        "NewDF.JHU_PCT.plot(kind='bar', color='blue', ax=ax2, width=width, position=0)\n",
        "\n",
        "ax.set_ylabel('Percent Change UMBC')\n",
        "ax.yaxis.label.set_color('red')\n",
        "ax2.set_ylabel('Percent Change JHU')\n",
        "ax2.yaxis.label.set_color('blue')\n",
        "\n",
        "plt.show()"
      ],
      "execution_count": 47,
      "outputs": [
        {
          "output_type": "display_data",
          "data": {
            "image/png": "[encoded data removed]",
            "text/plain": [
              "<Figure size 1440x720 with 2 Axes>"
            ]
          },
          "metadata": {
            "tags": [],
            "needs_background": "light"
          }
        }
      ]
    },
    {
      "cell_type": "markdown",
      "metadata": {
        "id": "_09nAYXCaun0"
      },
      "source": [
        "# Plot them together using y=[\"UMBC_PCT\",\"JHU_PCT\"] option of bar plot."
      ]
    },
    {
      "cell_type": "code",
      "metadata": {
        "colab": {
          "base_uri": "https://localhost:8080/",
          "height": 591
        },
        "id": "7JfBvZYJayvS",
        "outputId": "aedb6e6c-f95d-4d10-ea21-d059a656d36b"
      },
      "source": [
        "ax1 = NewDF.plot.bar(y=['UMBC_PCT','JHU_PCT'], rot=0, figsize =(20,10))"
      ],
      "execution_count": 45,
      "outputs": [
        {
          "output_type": "display_data",
          "data": {
            "image/png": "[encoded data removed]",
            "text/plain": [
              "<Figure size 1440x720 with 1 Axes>"
            ]
          },
          "metadata": {
            "tags": [],
            "needs_background": "light"
          }
        }
      ]
    },
    {
      "cell_type": "markdown",
      "metadata": {
        "id": "yCPSd88Lc-WS"
      },
      "source": [
        "# Plot them together using y=[\"UMBC_PCT\",\"JHU_PCT\"] option of line plot."
      ]
    },
    {
      "cell_type": "code",
      "metadata": {
        "colab": {
          "base_uri": "https://localhost:8080/",
          "height": 591
        },
        "id": "G_UUyMxFdIaS",
        "outputId": "6f6ef54c-e26d-46d9-93e9-d0d9d254d25b"
      },
      "source": [
        "ax3 = NewDF.plot.line(y=['UMBC_PCT','JHU_PCT'], rot=0, figsize =(20,10))"
      ],
      "execution_count": 46,
      "outputs": [
        {
          "output_type": "display_data",
          "data": {
            "image/png": "[encoded data removed]",
            "text/plain": [
              "<Figure size 1440x720 with 1 Axes>"
            ]
          },
          "metadata": {
            "tags": [],
            "needs_background": "light"
          }
        }
      ]
    },
    {
      "cell_type": "code",
      "metadata": {
        "id": "kirEdE7NeEnN"
      },
      "source": [
        "s"
      ],
      "execution_count": null,
      "outputs": []
    },
    {
      "cell_type": "markdown",
      "metadata": {
        "id": "BaaBxW-ReBWT"
      },
      "source": [
        "*Based on the plots it can be concluded that while tuition has been steadily increasing on both institutions, the pattern of increase is different. UMBC being a state institution, the increase was noticed to be fairly varying from year to year. There is a large percent increase in the year 2003 with UMBC probably corresponding with some outside factors (new construction, new accredations...) that was not noticable in case of JHU. The change in tuition with JHU ranged between 2-6% while UMBC tuition has a fairly wide change range (1-16%). We can also notice that during the economic slowdown time (2006-2009) UMBC tuition was very low as compared with the one from JHU.*"
      ]
    },
    {
      "cell_type": "code",
      "metadata": {
        "colab": {
          "base_uri": "https://localhost:8080/",
          "height": 287
        },
        "id": "YUxUoiqqfzsJ",
        "outputId": "0e3d3568-851d-4197-8274-a630a2d95517"
      },
      "source": [
        "NewDF.describe()"
      ],
      "execution_count": 48,
      "outputs": [
        {
          "output_type": "execute_result",
          "data": {
            "text/html": [
              "<div>\n",
              "<style scoped>\n",
              "    .dataframe tbody tr th:only-of-type {\n",
              "        vertical-align: middle;\n",
              "    }\n",
              "\n",
              "    .dataframe tbody tr th {\n",
              "        vertical-align: top;\n",
              "    }\n",
              "\n",
              "    .dataframe thead th {\n",
              "        text-align: right;\n",
              "    }\n",
              "</style>\n",
              "<table border=\"1\" class=\"dataframe\">\n",
              "  <thead>\n",
              "    <tr style=\"text-align: right;\">\n",
              "      <th></th>\n",
              "      <th>UMBC_PCT</th>\n",
              "      <th>JHU_PCT</th>\n",
              "    </tr>\n",
              "  </thead>\n",
              "  <tbody>\n",
              "    <tr>\n",
              "      <th>count</th>\n",
              "      <td>18.000000</td>\n",
              "      <td>18.000000</td>\n",
              "    </tr>\n",
              "    <tr>\n",
              "      <th>mean</th>\n",
              "      <td>4.395278</td>\n",
              "      <td>4.365000</td>\n",
              "    </tr>\n",
              "    <tr>\n",
              "      <th>std</th>\n",
              "      <td>3.821919</td>\n",
              "      <td>1.113893</td>\n",
              "    </tr>\n",
              "    <tr>\n",
              "      <th>min</th>\n",
              "      <td>0.827000</td>\n",
              "      <td>2.625000</td>\n",
              "    </tr>\n",
              "    <tr>\n",
              "      <th>25%</th>\n",
              "      <td>2.255500</td>\n",
              "      <td>3.499250</td>\n",
              "    </tr>\n",
              "    <tr>\n",
              "      <th>50%</th>\n",
              "      <td>3.138000</td>\n",
              "      <td>4.217500</td>\n",
              "    </tr>\n",
              "    <tr>\n",
              "      <th>75%</th>\n",
              "      <td>6.173000</td>\n",
              "      <td>4.909500</td>\n",
              "    </tr>\n",
              "    <tr>\n",
              "      <th>max</th>\n",
              "      <td>16.127000</td>\n",
              "      <td>7.211000</td>\n",
              "    </tr>\n",
              "  </tbody>\n",
              "</table>\n",
              "</div>"
            ],
            "text/plain": [
              "        UMBC_PCT    JHU_PCT\n",
              "count  18.000000  18.000000\n",
              "mean    4.395278   4.365000\n",
              "std     3.821919   1.113893\n",
              "min     0.827000   2.625000\n",
              "25%     2.255500   3.499250\n",
              "50%     3.138000   4.217500\n",
              "75%     6.173000   4.909500\n",
              "max    16.127000   7.211000"
            ]
          },
          "metadata": {
            "tags": []
          },
          "execution_count": 48
        }
      ]
    }
  ]
}