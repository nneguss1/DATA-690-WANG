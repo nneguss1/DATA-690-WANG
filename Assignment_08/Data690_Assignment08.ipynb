{
  "nbformat": 4,
  "nbformat_minor": 0,
  "metadata": {
    "colab": {
      "name": "Data690_Assignment08.ipynb",
      "provenance": [],
      "collapsed_sections": [],
      "toc_visible": true,
      "mount_file_id": "1Ea13lB5ZARNeBZ_NfLbD9di_9135hfiH",
      "authorship_tag": "ABX9TyOHKX7ig53G7xcA1bFMjjST",
      "include_colab_link": true
    },
    "kernelspec": {
      "name": "python3",
      "display_name": "Python 3"
    }
  },
  "cells": [
    {
      "cell_type": "markdown",
      "metadata": {
        "id": "view-in-github",
        "colab_type": "text"
      },
      "source": [
        "<a href=\"https://colab.research.google.com/github/nneguss1/DATA-690-WANG/blob/master/Assignment_08/Data690_Assignment08.ipynb\" target=\"_parent\"><img src=\"https://colab.research.google.com/assets/colab-badge.svg\" alt=\"Open In Colab\"/></a>"
      ]
    },
    {
      "cell_type": "markdown",
      "metadata": {
        "id": "sK6hrdJ0tt4K"
      },
      "source": [
        "# 1 - Import necessary libraries"
      ]
    },
    {
      "cell_type": "code",
      "metadata": {
        "id": "iR1guE2UFqL9"
      },
      "source": [
        "# <1> \n",
        "# Import libraries\n",
        "\n",
        "#(Write code here)\n",
        "import pandas as pd\n",
        "import matplotlib.pyplot as plt\n",
        "import numpy as np\n",
        "import os \n",
        "import fnmatch\n",
        "import re\n",
        "import random"
      ],
      "execution_count": 3,
      "outputs": []
    },
    {
      "cell_type": "markdown",
      "metadata": {
        "id": "68c7CTuzuDHp"
      },
      "source": [
        "# 2 - Retrieve the names of the 22 files and assign them to a List variable. You would need to filter out other files and display the names of these 22 files."
      ]
    },
    {
      "cell_type": "code",
      "metadata": {
        "id": "NovhqX8Twp1f"
      },
      "source": [
        "use_columns = ['INSTNM','TUITIONFEE_IN']"
      ],
      "execution_count": 4,
      "outputs": []
    },
    {
      "cell_type": "code",
      "metadata": {
        "id": "bEG3AVsjGPRi",
        "colab": {
          "base_uri": "https://localhost:8080/"
        },
        "outputId": "ab41f2bd-4092-49b3-9cc7-23f3dc54e571"
      },
      "source": [
        "path = '/content/drive/My Drive/Colab Notebooks'\n",
        "data_files = os.listdir(path)\n",
        "# List of files in complete directory\n",
        "file_list = []\n",
        " \n",
        "for path, folders, files in os.walk(path):\n",
        "    for file in files:\n",
        "        if fnmatch.fnmatch(file, '*MERGED*'):\n",
        "            file_list.append(os.path.join(path, file))\n",
        " \n",
        "# Loop to print each filename separately\n",
        "#for filename in file_list:\n",
        "#   print(filename)\n",
        "print(file_list)\n",
        "np.size(file_list)\n"
      ],
      "execution_count": 5,
      "outputs": [
        {
          "output_type": "stream",
          "text": [
            "['/content/drive/My Drive/Colab Notebooks/MERGED1996_97_PP.csv', '/content/drive/My Drive/Colab Notebooks/MERGED1997_98_PP.csv', '/content/drive/My Drive/Colab Notebooks/MERGED1998_99_PP.csv', '/content/drive/My Drive/Colab Notebooks/MERGED1999_00_PP.csv', '/content/drive/My Drive/Colab Notebooks/MERGED2000_01_PP.csv', '/content/drive/My Drive/Colab Notebooks/MERGED2001_02_PP.csv', '/content/drive/My Drive/Colab Notebooks/MERGED2002_03_PP.csv', '/content/drive/My Drive/Colab Notebooks/MERGED2003_04_PP.csv', '/content/drive/My Drive/Colab Notebooks/MERGED2004_05_PP.csv', '/content/drive/My Drive/Colab Notebooks/MERGED2005_06_PP.csv', '/content/drive/My Drive/Colab Notebooks/MERGED2006_07_PP.csv', '/content/drive/My Drive/Colab Notebooks/MERGED2007_08_PP.csv', '/content/drive/My Drive/Colab Notebooks/MERGED2008_09_PP.csv', '/content/drive/My Drive/Colab Notebooks/MERGED2009_10_PP.csv', '/content/drive/My Drive/Colab Notebooks/MERGED2010_11_PP.csv', '/content/drive/My Drive/Colab Notebooks/MERGED2011_12_PP.csv', '/content/drive/My Drive/Colab Notebooks/MERGED2012_13_PP.csv', '/content/drive/My Drive/Colab Notebooks/MERGED2013_14_PP.csv', '/content/drive/My Drive/Colab Notebooks/MERGED2014_15_PP.csv', '/content/drive/My Drive/Colab Notebooks/MERGED2015_16_PP.csv', '/content/drive/My Drive/Colab Notebooks/MERGED2016_17_PP.csv', '/content/drive/My Drive/Colab Notebooks/MERGED2017_18_PP.csv', '/content/drive/My Drive/Colab Notebooks/MERGED2018_19_PP.csv']\n"
          ],
          "name": "stdout"
        },
        {
          "output_type": "execute_result",
          "data": {
            "text/plain": [
              "23"
            ]
          },
          "metadata": {
            "tags": []
          },
          "execution_count": 5
        }
      ]
    },
    {
      "cell_type": "markdown",
      "metadata": {
        "id": "bpniUE4TuVSF"
      },
      "source": [
        "# 3 - Write code to randomly select one file name out of the 22 files names.Hint: generate a random integer between 0 and 21 first. Display the file name."
      ]
    },
    {
      "cell_type": "code",
      "metadata": {
        "colab": {
          "base_uri": "https://localhost:8080/"
        },
        "id": "JPBhTIk1xyRb",
        "outputId": "676885e8-7347-4497-8825-e56258c00302"
      },
      "source": [
        "file_name = random.choice(file_list)\n",
        "print(file_name)"
      ],
      "execution_count": 8,
      "outputs": [
        {
          "output_type": "stream",
          "text": [
            "/content/drive/My Drive/Colab Notebooks/MERGED2006_07_PP.csv\n"
          ],
          "name": "stdout"
        }
      ]
    },
    {
      "cell_type": "markdown",
      "metadata": {
        "id": "_nJGNykqulBZ"
      },
      "source": [
        "# 4 - Only read the two columns: college name (INSTNM) and in state tution (\"TUITIONFEE_IN\") from this file into a data frame aand display use info() function to display a summary information."
      ]
    },
    {
      "cell_type": "code",
      "metadata": {
        "colab": {
          "base_uri": "https://localhost:8080/",
          "height": 197
        },
        "id": "0jVTlh18ytLk",
        "outputId": "d7392dab-1105-4270-bae8-6ab0dab70525"
      },
      "source": [
        "DF_rand = pd.read_csv(file_name, usecols= use_columns)\n",
        "DF_rand.head()"
      ],
      "execution_count": 10,
      "outputs": [
        {
          "output_type": "execute_result",
          "data": {
            "text/html": [
              "<div>\n",
              "<style scoped>\n",
              "    .dataframe tbody tr th:only-of-type {\n",
              "        vertical-align: middle;\n",
              "    }\n",
              "\n",
              "    .dataframe tbody tr th {\n",
              "        vertical-align: top;\n",
              "    }\n",
              "\n",
              "    .dataframe thead th {\n",
              "        text-align: right;\n",
              "    }\n",
              "</style>\n",
              "<table border=\"1\" class=\"dataframe\">\n",
              "  <thead>\n",
              "    <tr style=\"text-align: right;\">\n",
              "      <th></th>\n",
              "      <th>INSTNM</th>\n",
              "      <th>TUITIONFEE_IN</th>\n",
              "    </tr>\n",
              "  </thead>\n",
              "  <tbody>\n",
              "    <tr>\n",
              "      <th>0</th>\n",
              "      <td>Community College of the Air Force</td>\n",
              "      <td>NaN</td>\n",
              "    </tr>\n",
              "    <tr>\n",
              "      <th>1</th>\n",
              "      <td>Alabama A &amp; M University</td>\n",
              "      <td>3640.0</td>\n",
              "    </tr>\n",
              "    <tr>\n",
              "      <th>2</th>\n",
              "      <td>University of Alabama at Birmingham</td>\n",
              "      <td>4792.0</td>\n",
              "    </tr>\n",
              "    <tr>\n",
              "      <th>3</th>\n",
              "      <td>Amridge University</td>\n",
              "      <td>6000.0</td>\n",
              "    </tr>\n",
              "    <tr>\n",
              "      <th>4</th>\n",
              "      <td>University of Alabama in Huntsville</td>\n",
              "      <td>4848.0</td>\n",
              "    </tr>\n",
              "  </tbody>\n",
              "</table>\n",
              "</div>"
            ],
            "text/plain": [
              "                                INSTNM  TUITIONFEE_IN\n",
              "0   Community College of the Air Force            NaN\n",
              "1             Alabama A & M University         3640.0\n",
              "2  University of Alabama at Birmingham         4792.0\n",
              "3                   Amridge University         6000.0\n",
              "4  University of Alabama in Huntsville         4848.0"
            ]
          },
          "metadata": {
            "tags": []
          },
          "execution_count": 10
        }
      ]
    },
    {
      "cell_type": "markdown",
      "metadata": {
        "id": "jr_aHk43vmLJ"
      },
      "source": [
        "# 5 - Find out how many observations have missing value."
      ]
    },
    {
      "cell_type": "code",
      "metadata": {
        "colab": {
          "base_uri": "https://localhost:8080/"
        },
        "id": "iyNztzaO1QEg",
        "outputId": "26f7fbb2-5654-4b58-a719-52132404222a"
      },
      "source": [
        "DF_rand.info()"
      ],
      "execution_count": 11,
      "outputs": [
        {
          "output_type": "stream",
          "text": [
            "<class 'pandas.core.frame.DataFrame'>\n",
            "RangeIndex: 6951 entries, 0 to 6950\n",
            "Data columns (total 2 columns):\n",
            " #   Column         Non-Null Count  Dtype  \n",
            "---  ------         --------------  -----  \n",
            " 0   INSTNM         6951 non-null   object \n",
            " 1   TUITIONFEE_IN  4201 non-null   float64\n",
            "dtypes: float64(1), object(1)\n",
            "memory usage: 108.7+ KB\n"
          ],
          "name": "stdout"
        }
      ]
    },
    {
      "cell_type": "markdown",
      "metadata": {
        "id": "BbqW08dMwSej"
      },
      "source": [
        "\n",
        "# 6 - 8 - Drop those observations with missing value .Disaply the number of observations afterward. Find out how many observations have 0 tution. Drop those observations with 0 tuition. Disaply the number of observations afterward."
      ]
    },
    {
      "cell_type": "code",
      "metadata": {
        "colab": {
          "base_uri": "https://localhost:8080/"
        },
        "id": "zvV7yTbX63SB",
        "outputId": "82bed551-279d-4042-f38b-cbd931afacab"
      },
      "source": [
        "DF_rand = DF_rand.dropna()\n",
        "DF_rand.info()"
      ],
      "execution_count": 12,
      "outputs": [
        {
          "output_type": "stream",
          "text": [
            "<class 'pandas.core.frame.DataFrame'>\n",
            "Int64Index: 4201 entries, 1 to 6945\n",
            "Data columns (total 2 columns):\n",
            " #   Column         Non-Null Count  Dtype  \n",
            "---  ------         --------------  -----  \n",
            " 0   INSTNM         4201 non-null   object \n",
            " 1   TUITIONFEE_IN  4201 non-null   float64\n",
            "dtypes: float64(1), object(1)\n",
            "memory usage: 98.5+ KB\n"
          ],
          "name": "stdout"
        }
      ]
    },
    {
      "cell_type": "code",
      "metadata": {
        "colab": {
          "base_uri": "https://localhost:8080/",
          "height": 197
        },
        "id": "CIA8Rzie-bDx",
        "outputId": "56840b33-8f14-4dd1-a809-bee1bdd5bc1f"
      },
      "source": [
        "DF_rand.head(5)"
      ],
      "execution_count": 13,
      "outputs": [
        {
          "output_type": "execute_result",
          "data": {
            "text/html": [
              "<div>\n",
              "<style scoped>\n",
              "    .dataframe tbody tr th:only-of-type {\n",
              "        vertical-align: middle;\n",
              "    }\n",
              "\n",
              "    .dataframe tbody tr th {\n",
              "        vertical-align: top;\n",
              "    }\n",
              "\n",
              "    .dataframe thead th {\n",
              "        text-align: right;\n",
              "    }\n",
              "</style>\n",
              "<table border=\"1\" class=\"dataframe\">\n",
              "  <thead>\n",
              "    <tr style=\"text-align: right;\">\n",
              "      <th></th>\n",
              "      <th>INSTNM</th>\n",
              "      <th>TUITIONFEE_IN</th>\n",
              "    </tr>\n",
              "  </thead>\n",
              "  <tbody>\n",
              "    <tr>\n",
              "      <th>1</th>\n",
              "      <td>Alabama A &amp; M University</td>\n",
              "      <td>3640.0</td>\n",
              "    </tr>\n",
              "    <tr>\n",
              "      <th>2</th>\n",
              "      <td>University of Alabama at Birmingham</td>\n",
              "      <td>4792.0</td>\n",
              "    </tr>\n",
              "    <tr>\n",
              "      <th>3</th>\n",
              "      <td>Amridge University</td>\n",
              "      <td>6000.0</td>\n",
              "    </tr>\n",
              "    <tr>\n",
              "      <th>4</th>\n",
              "      <td>University of Alabama in Huntsville</td>\n",
              "      <td>4848.0</td>\n",
              "    </tr>\n",
              "    <tr>\n",
              "      <th>5</th>\n",
              "      <td>Alabama State University</td>\n",
              "      <td>4008.0</td>\n",
              "    </tr>\n",
              "  </tbody>\n",
              "</table>\n",
              "</div>"
            ],
            "text/plain": [
              "                                INSTNM  TUITIONFEE_IN\n",
              "1             Alabama A & M University         3640.0\n",
              "2  University of Alabama at Birmingham         4792.0\n",
              "3                   Amridge University         6000.0\n",
              "4  University of Alabama in Huntsville         4848.0\n",
              "5             Alabama State University         4008.0"
            ]
          },
          "metadata": {
            "tags": []
          },
          "execution_count": 13
        }
      ]
    },
    {
      "cell_type": "code",
      "metadata": {
        "colab": {
          "base_uri": "https://localhost:8080/",
          "height": 287
        },
        "id": "388RZAk7AsSu",
        "outputId": "f1726309-0660-475f-eb05-a7ac4e6be994"
      },
      "source": [
        "DF_rand.describe()"
      ],
      "execution_count": 14,
      "outputs": [
        {
          "output_type": "execute_result",
          "data": {
            "text/html": [
              "<div>\n",
              "<style scoped>\n",
              "    .dataframe tbody tr th:only-of-type {\n",
              "        vertical-align: middle;\n",
              "    }\n",
              "\n",
              "    .dataframe tbody tr th {\n",
              "        vertical-align: top;\n",
              "    }\n",
              "\n",
              "    .dataframe thead th {\n",
              "        text-align: right;\n",
              "    }\n",
              "</style>\n",
              "<table border=\"1\" class=\"dataframe\">\n",
              "  <thead>\n",
              "    <tr style=\"text-align: right;\">\n",
              "      <th></th>\n",
              "      <th>TUITIONFEE_IN</th>\n",
              "    </tr>\n",
              "  </thead>\n",
              "  <tbody>\n",
              "    <tr>\n",
              "      <th>count</th>\n",
              "      <td>4201.000000</td>\n",
              "    </tr>\n",
              "    <tr>\n",
              "      <th>mean</th>\n",
              "      <td>10115.045941</td>\n",
              "    </tr>\n",
              "    <tr>\n",
              "      <th>std</th>\n",
              "      <td>8161.240987</td>\n",
              "    </tr>\n",
              "    <tr>\n",
              "      <th>min</th>\n",
              "      <td>0.000000</td>\n",
              "    </tr>\n",
              "    <tr>\n",
              "      <th>25%</th>\n",
              "      <td>3190.000000</td>\n",
              "    </tr>\n",
              "    <tr>\n",
              "      <th>50%</th>\n",
              "      <td>8277.000000</td>\n",
              "    </tr>\n",
              "    <tr>\n",
              "      <th>75%</th>\n",
              "      <td>14880.000000</td>\n",
              "    </tr>\n",
              "    <tr>\n",
              "      <th>max</th>\n",
              "      <td>44865.000000</td>\n",
              "    </tr>\n",
              "  </tbody>\n",
              "</table>\n",
              "</div>"
            ],
            "text/plain": [
              "       TUITIONFEE_IN\n",
              "count    4201.000000\n",
              "mean    10115.045941\n",
              "std      8161.240987\n",
              "min         0.000000\n",
              "25%      3190.000000\n",
              "50%      8277.000000\n",
              "75%     14880.000000\n",
              "max     44865.000000"
            ]
          },
          "metadata": {
            "tags": []
          },
          "execution_count": 14
        }
      ]
    },
    {
      "cell_type": "code",
      "metadata": {
        "colab": {
          "base_uri": "https://localhost:8080/",
          "height": 287
        },
        "id": "0vjA4rQd_62l",
        "outputId": "a15543ad-f1c1-4372-ae47-fd55e709b1b3"
      },
      "source": [
        "DF_new = DF_rand[DF_rand.TUITIONFEE_IN != 0]\n",
        "DF_new.describe()"
      ],
      "execution_count": 15,
      "outputs": [
        {
          "output_type": "execute_result",
          "data": {
            "text/html": [
              "<div>\n",
              "<style scoped>\n",
              "    .dataframe tbody tr th:only-of-type {\n",
              "        vertical-align: middle;\n",
              "    }\n",
              "\n",
              "    .dataframe tbody tr th {\n",
              "        vertical-align: top;\n",
              "    }\n",
              "\n",
              "    .dataframe thead th {\n",
              "        text-align: right;\n",
              "    }\n",
              "</style>\n",
              "<table border=\"1\" class=\"dataframe\">\n",
              "  <thead>\n",
              "    <tr style=\"text-align: right;\">\n",
              "      <th></th>\n",
              "      <th>TUITIONFEE_IN</th>\n",
              "    </tr>\n",
              "  </thead>\n",
              "  <tbody>\n",
              "    <tr>\n",
              "      <th>count</th>\n",
              "      <td>4196.000000</td>\n",
              "    </tr>\n",
              "    <tr>\n",
              "      <th>mean</th>\n",
              "      <td>10127.099142</td>\n",
              "    </tr>\n",
              "    <tr>\n",
              "      <th>std</th>\n",
              "      <td>8158.624185</td>\n",
              "    </tr>\n",
              "    <tr>\n",
              "      <th>min</th>\n",
              "      <td>430.000000</td>\n",
              "    </tr>\n",
              "    <tr>\n",
              "      <th>25%</th>\n",
              "      <td>3206.000000</td>\n",
              "    </tr>\n",
              "    <tr>\n",
              "      <th>50%</th>\n",
              "      <td>8300.000000</td>\n",
              "    </tr>\n",
              "    <tr>\n",
              "      <th>75%</th>\n",
              "      <td>14880.000000</td>\n",
              "    </tr>\n",
              "    <tr>\n",
              "      <th>max</th>\n",
              "      <td>44865.000000</td>\n",
              "    </tr>\n",
              "  </tbody>\n",
              "</table>\n",
              "</div>"
            ],
            "text/plain": [
              "       TUITIONFEE_IN\n",
              "count    4196.000000\n",
              "mean    10127.099142\n",
              "std      8158.624185\n",
              "min       430.000000\n",
              "25%      3206.000000\n",
              "50%      8300.000000\n",
              "75%     14880.000000\n",
              "max     44865.000000"
            ]
          },
          "metadata": {
            "tags": []
          },
          "execution_count": 15
        }
      ]
    },
    {
      "cell_type": "code",
      "metadata": {
        "colab": {
          "base_uri": "https://localhost:8080/"
        },
        "id": "iFCEKZtNBvTy",
        "outputId": "287b0a2f-4dac-466a-a2b3-f0b3cdac1715"
      },
      "source": [
        "DF_new.info()"
      ],
      "execution_count": 16,
      "outputs": [
        {
          "output_type": "stream",
          "text": [
            "<class 'pandas.core.frame.DataFrame'>\n",
            "Int64Index: 4196 entries, 1 to 6945\n",
            "Data columns (total 2 columns):\n",
            " #   Column         Non-Null Count  Dtype  \n",
            "---  ------         --------------  -----  \n",
            " 0   INSTNM         4196 non-null   object \n",
            " 1   TUITIONFEE_IN  4196 non-null   float64\n",
            "dtypes: float64(1), object(1)\n",
            "memory usage: 98.3+ KB\n"
          ],
          "name": "stdout"
        }
      ]
    },
    {
      "cell_type": "markdown",
      "metadata": {
        "id": "4C7jPNxAxA9O"
      },
      "source": [
        "# 9 - Calculate and display the mean (average) of the tuitions of all the remaining observations."
      ]
    },
    {
      "cell_type": "code",
      "metadata": {
        "colab": {
          "base_uri": "https://localhost:8080/"
        },
        "id": "df_0JFH7E3oU",
        "outputId": "0023606e-5a0c-4967-e030-70b8dcdb6a6d"
      },
      "source": [
        "DF_mean = DF_new[\"TUITIONFEE_IN\"].mean()\n",
        "DF_mean"
      ],
      "execution_count": 17,
      "outputs": [
        {
          "output_type": "execute_result",
          "data": {
            "text/plain": [
              "10127.099142040039"
            ]
          },
          "metadata": {
            "tags": []
          },
          "execution_count": 17
        }
      ]
    },
    {
      "cell_type": "markdown",
      "metadata": {
        "id": "UrdbOZa9xShE"
      },
      "source": [
        "# 10 - Randomly select just 1 observation from the data frame. Display the tuition of that observation."
      ]
    },
    {
      "cell_type": "code",
      "metadata": {
        "colab": {
          "base_uri": "https://localhost:8080/"
        },
        "id": "9jdFg4fcECWZ",
        "outputId": "2a349207-ae7d-414f-8e3f-fd54424bb45d"
      },
      "source": [
        "col_one_list = DF_new['TUITIONFEE_IN'].tolist()\n",
        "random_choice = random.choice(col_one_list)\n",
        "random_choice"
      ],
      "execution_count": 18,
      "outputs": [
        {
          "output_type": "execute_result",
          "data": {
            "text/plain": [
              "9620.0"
            ]
          },
          "metadata": {
            "tags": []
          },
          "execution_count": 18
        }
      ]
    },
    {
      "cell_type": "markdown",
      "metadata": {
        "id": "Dy8op4rbxb8z"
      },
      "source": [
        "# 11 - Calculate the different between the tuition of this observation and the mean tuition off all observations calculated earlier. Display the difference."
      ]
    },
    {
      "cell_type": "code",
      "metadata": {
        "colab": {
          "base_uri": "https://localhost:8080/"
        },
        "id": "ExHMNmslTw_S",
        "outputId": "f51ea558-2852-4a9d-cf1a-b0f656529257"
      },
      "source": [
        "diff_1 = random_choice - DF_mean\n",
        "diff_1"
      ],
      "execution_count": 19,
      "outputs": [
        {
          "output_type": "execute_result",
          "data": {
            "text/plain": [
              "-507.0991420400387"
            ]
          },
          "metadata": {
            "tags": []
          },
          "execution_count": 19
        }
      ]
    },
    {
      "cell_type": "markdown",
      "metadata": {
        "id": "oxXJjJEJxj2W"
      },
      "source": [
        "# 12 - Repeat 10 to 11 several times get the feel of the size of the difference in means."
      ]
    },
    {
      "cell_type": "code",
      "metadata": {
        "colab": {
          "base_uri": "https://localhost:8080/"
        },
        "id": "d8jpoNmFUgTP",
        "outputId": "4a71ec6d-f9f0-4767-ca3f-5699df09887c"
      },
      "source": [
        "diff_2 = random.choice(col_one_list)- DF_mean\n",
        "diff_2"
      ],
      "execution_count": 20,
      "outputs": [
        {
          "output_type": "execute_result",
          "data": {
            "text/plain": [
              "77.90085795996129"
            ]
          },
          "metadata": {
            "tags": []
          },
          "execution_count": 20
        }
      ]
    },
    {
      "cell_type": "code",
      "metadata": {
        "colab": {
          "base_uri": "https://localhost:8080/"
        },
        "id": "Gf_b_-poU4Ct",
        "outputId": "9fb3e152-6796-420a-da12-81accdef35e7"
      },
      "source": [
        "diff_3 = random.choice(col_one_list)- DF_mean\n",
        "diff_3"
      ],
      "execution_count": 21,
      "outputs": [
        {
          "output_type": "execute_result",
          "data": {
            "text/plain": [
              "6095.900857959961"
            ]
          },
          "metadata": {
            "tags": []
          },
          "execution_count": 21
        }
      ]
    },
    {
      "cell_type": "code",
      "metadata": {
        "colab": {
          "base_uri": "https://localhost:8080/"
        },
        "id": "UT53zNI6VOKF",
        "outputId": "21db4d1f-50ac-436f-c44f-2cc9f7a9081b"
      },
      "source": [
        "diff_4 = random.choice(col_one_list)- DF_mean\n",
        "diff_4"
      ],
      "execution_count": 22,
      "outputs": [
        {
          "output_type": "execute_result",
          "data": {
            "text/plain": [
              "14022.900857959961"
            ]
          },
          "metadata": {
            "tags": []
          },
          "execution_count": 22
        }
      ]
    },
    {
      "cell_type": "code",
      "metadata": {
        "colab": {
          "base_uri": "https://localhost:8080/"
        },
        "id": "2_kkLDTnVZ1p",
        "outputId": "2795ff5f-2445-4c4f-eda3-bb006e8dc4f9"
      },
      "source": [
        "diff_5 = random.choice(col_one_list)- DF_mean\n",
        "diff_5"
      ],
      "execution_count": 23,
      "outputs": [
        {
          "output_type": "execute_result",
          "data": {
            "text/plain": [
              "-3527.0991420400387"
            ]
          },
          "metadata": {
            "tags": []
          },
          "execution_count": 23
        }
      ]
    },
    {
      "cell_type": "code",
      "metadata": {
        "colab": {
          "base_uri": "https://localhost:8080/"
        },
        "id": "bVbDD1OHVeIz",
        "outputId": "a42e9bf9-a91d-44f1-a948-ce0edfbc0375"
      },
      "source": [
        "diff_6 = random.choice(col_one_list)- DF_mean\n",
        "diff_6"
      ],
      "execution_count": 24,
      "outputs": [
        {
          "output_type": "execute_result",
          "data": {
            "text/plain": [
              "3028.9008579599613"
            ]
          },
          "metadata": {
            "tags": []
          },
          "execution_count": 24
        }
      ]
    },
    {
      "cell_type": "code",
      "metadata": {
        "colab": {
          "base_uri": "https://localhost:8080/"
        },
        "id": "6CuE0K2IVmTp",
        "outputId": "23f681a0-6492-468c-b785-ce2bed1d797f"
      },
      "source": [
        "diff_7 = random.choice(col_one_list)- DF_mean\n",
        "diff_7"
      ],
      "execution_count": 25,
      "outputs": [
        {
          "output_type": "execute_result",
          "data": {
            "text/plain": [
              "2046.9008579599613"
            ]
          },
          "metadata": {
            "tags": []
          },
          "execution_count": 25
        }
      ]
    },
    {
      "cell_type": "code",
      "metadata": {
        "colab": {
          "base_uri": "https://localhost:8080/"
        },
        "id": "RiLzwwFbVqrM",
        "outputId": "e9a818d5-5cbb-407d-cb35-42903faf587f"
      },
      "source": [
        "diff_8 = random.choice(col_one_list)- DF_mean\n",
        "diff_8"
      ],
      "execution_count": 26,
      "outputs": [
        {
          "output_type": "execute_result",
          "data": {
            "text/plain": [
              "-3017.0991420400387"
            ]
          },
          "metadata": {
            "tags": []
          },
          "execution_count": 26
        }
      ]
    },
    {
      "cell_type": "code",
      "metadata": {
        "colab": {
          "base_uri": "https://localhost:8080/"
        },
        "id": "4kYCJlPcVvcx",
        "outputId": "e97d49c7-96bf-46f5-ad9a-a82c402eced7"
      },
      "source": [
        "diff_9 = random.choice(col_one_list)- DF_mean\n",
        "diff_9"
      ],
      "execution_count": 27,
      "outputs": [
        {
          "output_type": "execute_result",
          "data": {
            "text/plain": [
              "3072.9008579599613"
            ]
          },
          "metadata": {
            "tags": []
          },
          "execution_count": 27
        }
      ]
    },
    {
      "cell_type": "code",
      "metadata": {
        "colab": {
          "base_uri": "https://localhost:8080/"
        },
        "id": "wjkMmN-rV03U",
        "outputId": "ac6f671b-86ab-42bf-ad97-7239abc71a8c"
      },
      "source": [
        "diff_10 = random.choice(col_one_list)- DF_mean\n",
        "diff_10"
      ],
      "execution_count": 28,
      "outputs": [
        {
          "output_type": "execute_result",
          "data": {
            "text/plain": [
              "-5547.099142040039"
            ]
          },
          "metadata": {
            "tags": []
          },
          "execution_count": 28
        }
      ]
    },
    {
      "cell_type": "markdown",
      "metadata": {
        "id": "gNffL4guzcO4"
      },
      "source": [
        "# 13 - Randomly select 20 observations, display the tuition of these observation."
      ]
    },
    {
      "cell_type": "code",
      "metadata": {
        "colab": {
          "base_uri": "https://localhost:8080/"
        },
        "id": "LHq4hcjlWs0S",
        "outputId": "984289d6-e3cb-49a6-fa6b-320041d45dce"
      },
      "source": [
        "UpdatedList = random.sample(col_one_list, 20)\n",
        "UpdatedList"
      ],
      "execution_count": 29,
      "outputs": [
        {
          "output_type": "execute_result",
          "data": {
            "text/plain": [
              "[1425.0,\n",
              " 2700.0,\n",
              " 10935.0,\n",
              " 7325.0,\n",
              " 13644.0,\n",
              " 921.0,\n",
              " 7469.0,\n",
              " 4050.0,\n",
              " 6522.0,\n",
              " 1920.0,\n",
              " 4182.0,\n",
              " 8140.0,\n",
              " 11650.0,\n",
              " 2713.0,\n",
              " 10140.0,\n",
              " 5439.0,\n",
              " 2205.0,\n",
              " 13970.0,\n",
              " 26220.0,\n",
              " 9850.0]"
            ]
          },
          "metadata": {
            "tags": []
          },
          "execution_count": 29
        }
      ]
    },
    {
      "cell_type": "markdown",
      "metadata": {
        "id": "53Xi6nAk0W5H"
      },
      "source": [
        "# 14 - Calculate and displat the mean tuition of these 20 observations."
      ]
    },
    {
      "cell_type": "code",
      "metadata": {
        "colab": {
          "base_uri": "https://localhost:8080/"
        },
        "id": "THd_mPzCXEmu",
        "outputId": "88f924cd-acf3-4bcd-921f-b171c2a4c732"
      },
      "source": [
        "Updated_Mean = np.mean(UpdatedList)\n",
        "Updated_Mean"
      ],
      "execution_count": 30,
      "outputs": [
        {
          "output_type": "execute_result",
          "data": {
            "text/plain": [
              "7571.0"
            ]
          },
          "metadata": {
            "tags": []
          },
          "execution_count": 30
        }
      ]
    },
    {
      "cell_type": "markdown",
      "metadata": {
        "id": "fUJLP-lh2QgD"
      },
      "source": [
        "# 15 - Calculate  the different between the average tuition of these 20 observations and the mean tuition off all observations calculated earlier. Display the difference."
      ]
    },
    {
      "cell_type": "code",
      "metadata": {
        "colab": {
          "base_uri": "https://localhost:8080/"
        },
        "id": "aiVl3m8NYfh9",
        "outputId": "edbadddd-9e85-46d1-d979-3955455c5175"
      },
      "source": [
        "Updated_diff = UpdatedList - Updated_Mean\n",
        "Updated_diff"
      ],
      "execution_count": 31,
      "outputs": [
        {
          "output_type": "execute_result",
          "data": {
            "text/plain": [
              "array([-6146., -4871.,  3364.,  -246.,  6073., -6650.,  -102., -3521.,\n",
              "       -1049., -5651., -3389.,   569.,  4079., -4858.,  2569., -2132.,\n",
              "       -5366.,  6399., 18649.,  2279.])"
            ]
          },
          "metadata": {
            "tags": []
          },
          "execution_count": 31
        }
      ]
    },
    {
      "cell_type": "markdown",
      "metadata": {
        "id": "Du17dUGZ2loA"
      },
      "source": [
        "# 16 - Repeat 13 to 15 several times and get the feel of the size of the difference in means. Compare these differences with the differences calculated earlier with just 1 observation. Describe your hunch/conclusion."
      ]
    },
    {
      "cell_type": "markdown",
      "metadata": {
        "id": "ZxjLi4173zuh"
      },
      "source": [
        "*Since we are only comparing individual values, the difference between individual sample values and the population mean will vary largly. This shows that the data has a very large variance and can be noted from the general data description and the mean.*"
      ]
    },
    {
      "cell_type": "markdown",
      "metadata": {
        "id": "tvKHzdrj5a10"
      },
      "source": [
        "# 19 - Create a list of sequence numbers from 1 to 50, name it \"sample_sizes\"; display it to make sure its members are from 1 to 50."
      ]
    },
    {
      "cell_type": "code",
      "metadata": {
        "colab": {
          "base_uri": "https://localhost:8080/"
        },
        "id": "BLO2TbnMjfFO",
        "outputId": "576818b8-e440-4bdd-e51d-65210bf066eb"
      },
      "source": [
        "sample_size =list(range(1,51))\n",
        "sample_size"
      ],
      "execution_count": 42,
      "outputs": [
        {
          "output_type": "execute_result",
          "data": {
            "text/plain": [
              "[1,\n",
              " 2,\n",
              " 3,\n",
              " 4,\n",
              " 5,\n",
              " 6,\n",
              " 7,\n",
              " 8,\n",
              " 9,\n",
              " 10,\n",
              " 11,\n",
              " 12,\n",
              " 13,\n",
              " 14,\n",
              " 15,\n",
              " 16,\n",
              " 17,\n",
              " 18,\n",
              " 19,\n",
              " 20,\n",
              " 21,\n",
              " 22,\n",
              " 23,\n",
              " 24,\n",
              " 25,\n",
              " 26,\n",
              " 27,\n",
              " 28,\n",
              " 29,\n",
              " 30,\n",
              " 31,\n",
              " 32,\n",
              " 33,\n",
              " 34,\n",
              " 35,\n",
              " 36,\n",
              " 37,\n",
              " 38,\n",
              " 39,\n",
              " 40,\n",
              " 41,\n",
              " 42,\n",
              " 43,\n",
              " 44,\n",
              " 45,\n",
              " 46,\n",
              " 47,\n",
              " 48,\n",
              " 49,\n",
              " 50]"
            ]
          },
          "metadata": {
            "tags": []
          },
          "execution_count": 42
        }
      ]
    },
    {
      "cell_type": "markdown",
      "metadata": {
        "id": "-Ag6Znzn59H9"
      },
      "source": [
        "# 20 - Create an empty list and name it \"means_diff\" for differences of population mean and sample means; Loop through the list sample_sizes. For each element in the sample size list obtain a random sample of that size from the data frame.Calculate the sample mean and calculate the difference between the population mean and the sample mean. Append the difference to the list \"means_diff\". Display the list \"means_diff\" after the loop is completed."
      ]
    },
    {
      "cell_type": "code",
      "metadata": {
        "colab": {
          "base_uri": "https://localhost:8080/"
        },
        "id": "FVThcTLdkbOd",
        "outputId": "88ffbdee-4917-4610-ec8c-e48b7a2b2840"
      },
      "source": [
        "means_diff= []\n",
        "for i in range(len(sample_size)):\n",
        "  sample_rand = random.sample(col_one_list, sample_size[i])\n",
        "  sample_mean = np.mean(sample_rand)\n",
        "  mean_difference = DF_mean-sample_mean\n",
        "\n",
        "  means_diff.append(mean_difference)\n",
        "\n",
        "print(means_diff)"
      ],
      "execution_count": 44,
      "outputs": [
        {
          "output_type": "stream",
          "text": [
            "[7952.099142040039, 1398.5991420400387, -1064.2341912932952, -3691.4008579599613, -5717.900857959961, 6994.599142040039, -3430.9008579599613, -4536.525857959961, -2573.234191293295, 2459.5991420400387, 68.64459658549276, -1218.9841912932952, 748.4068343477302, 1683.5991420400387, 1677.8324753733723, 203.1616420400387, 150.5109067459216, 651.5991420400387, 97.25703677688034, 2149.2991420400385, 796.0991420400387, -277.62813068723335, 1873.5774029096046, -196.56752462662735, -582.6208579599606, -1048.7854733445765, 35.099142040038714, 1310.3848563257525, -1390.418099339271, 1666.6658087067062, -860.7073095728647, 1760.2241420400387, -1135.9311609902652, -865.4890932540784, 1119.813427754325, 620.1546975955935, 1099.342385283282, -2352.4271737494346, -2731.977781036885, 688.024142040038, 2476.0747517961363, 185.69438013527724, 928.8433280865502, 611.6445965854928, -1857.3675246266284, -128.20520578604737, -436.98596434294086, -529.3383579599613, 969.7317951012628, -1166.3608579599604]\n"
          ],
          "name": "stdout"
        }
      ]
    },
    {
      "cell_type": "markdown",
      "metadata": {
        "id": "qRqbDgfO8scS"
      },
      "source": [
        "# 21 - Make a scatter plot with sample size on the x-axs and mean difference on the y-axis. Observe as the sample size increases the sample means converge to the population mean. Make sure you make the plot large enough."
      ]
    },
    {
      "cell_type": "code",
      "metadata": {
        "colab": {
          "base_uri": "https://localhost:8080/",
          "height": 1000
        },
        "id": "mNq4usFMp0HX",
        "outputId": "b00f0432-bbd6-405d-8595-2f14ba88c2a5"
      },
      "source": [
        "plt.figure(figsize=(20,20))\n",
        "plt.scatter(sample_size, means_diff)\n",
        "plt.title(\"Sample size vs mean difference\")\n",
        "\n",
        "plt.xlabel(\"Sample Size\")\n",
        "plt.ylabel(\"Population mean - Sample mean\")\n",
        "plt.show()"
      ],
      "execution_count": 49,
      "outputs": [
        {
          "output_type": "display_data",
          "data": {
            "image/png": "[encoded data removed]",
            "text/plain": [
              "<Figure size 1440x1440 with 1 Axes>"
            ]
          },
          "metadata": {
            "tags": [],
            "needs_background": "light"
          }
        }
      ]
    },
    {
      "cell_type": "markdown",
      "metadata": {
        "id": "YHfPGsFF9Fhd"
      },
      "source": [
        "# 22 - repeat 18 to 21 by replacing 50 with a larger number. For example, 300, or even 1000 and see how the plot looks."
      ]
    },
    {
      "cell_type": "code",
      "metadata": {
        "colab": {
          "base_uri": "https://localhost:8080/",
          "height": 1000
        },
        "id": "ff7hNlgFsJz3",
        "outputId": "279cfbf0-6be4-41c3-efad-6fcbd4cbe5ba"
      },
      "source": [
        "sample_size300 =list(range(1,301))\n",
        "means_diff300= []\n",
        "for i in range(len(sample_size300)):\n",
        "  sample_rand300 = random.sample(col_one_list, sample_size300[i])\n",
        "  sample_mean300 = np.mean(sample_rand300)\n",
        "  mean_difference300 = DF_mean-sample_mean300\n",
        "\n",
        "  means_diff300.append(mean_difference300)\n",
        "\n",
        "\n",
        "plt.figure(figsize=(20,20))\n",
        "plt.scatter(sample_size300, means_diff300)\n",
        "plt.title(\"Sample size vs mean difference\")\n",
        "\n",
        "plt.xlabel(\"Sample Size\")\n",
        "plt.ylabel(\"Population mean - Sample mean\")\n",
        "plt.show()"
      ],
      "execution_count": 50,
      "outputs": [
        {
          "output_type": "display_data",
          "data": {
            "image/png": "[encoded data removed]",
            "text/plain": [
              "<Figure size 1440x1440 with 1 Axes>"
            ]
          },
          "metadata": {
            "tags": [],
            "needs_background": "light"
          }
        }
      ]
    },
    {
      "cell_type": "markdown",
      "metadata": {
        "id": "yVGdV4pZ9QVe"
      },
      "source": [
        "*As we can verify from the plots, when we increase the sample size, our sample mean is approaching the population mean. The scatter plot of the difference shows that as we have more samples, the difference will be nearing 0.*"
      ]
    }
  ]
}