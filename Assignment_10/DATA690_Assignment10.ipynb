{
  "nbformat": 4,
  "nbformat_minor": 0,
  "metadata": {
    "colab": {
      "name": "DATA690_Assignment10.ipynb",
      "provenance": [],
      "collapsed_sections": [],
      "authorship_tag": "ABX9TyPZpaKGxrJ/0PQcHxQWZakP",
      "include_colab_link": true
    },
    "kernelspec": {
      "name": "python3",
      "display_name": "Python 3"
    }
  },
  "cells": [
    {
      "cell_type": "markdown",
      "metadata": {
        "id": "view-in-github",
        "colab_type": "text"
      },
      "source": [
        "<a href=\"https://colab.research.google.com/github/nneguss1/DATA-690-WANG/blob/master/Assignment_10/DATA690_Assignment10.ipynb\" target=\"_parent\"><img src=\"https://colab.research.google.com/assets/colab-badge.svg\" alt=\"Open In Colab\"/></a>"
      ]
    },
    {
      "cell_type": "markdown",
      "metadata": {
        "id": "GRzY97kVIlSZ"
      },
      "source": [
        "**Assignment# 10 - Point Estimate and Interval Estimate (Confidence Interval)**"
      ]
    },
    {
      "cell_type": "code",
      "metadata": {
        "id": "NmQltFoLiyJU"
      },
      "source": [
        "import math\n",
        "import scipy.stats as stats\n",
        "import numpy as np"
      ],
      "execution_count": 1,
      "outputs": []
    },
    {
      "cell_type": "markdown",
      "metadata": {
        "id": "GLwsyH5jIyDG"
      },
      "source": [
        "##Step 0 - Data Preprocessing##\n",
        "**Process the raw data to make a list of integers. In order to calculate descriptive statistic, Python needs to work with a list of numbers.**"
      ]
    },
    {
      "cell_type": "code",
      "metadata": {
        "id": "Vkrkl6_mC6e4"
      },
      "source": [
        "data_1 = \"6,414; 1,550; 2,109; 9,350; 21,828; 4,300; 5,944; 5,722; 2,825; 2,044;\" \n",
        "data_2 = \"5,481; 5,200; 5,853; 2,750; 10,012; 6,357; 27,000; 9,414; 7,681; 3,200; \"\n",
        "data_3 = \"17,500; 9,200; 7,380; 18,314; 6,557; 13,713; 17,768; 7,493; 2,771; 2,861; \"\n",
        "data_4 = \"1,263; 7,285; 28,165; 5,080; 11,622\""
      ],
      "execution_count": 2,
      "outputs": []
    },
    {
      "cell_type": "code",
      "metadata": {
        "colab": {
          "base_uri": "https://localhost:8080/"
        },
        "id": "ys15jcZIJJW8",
        "outputId": "15de574c-099d-4e9d-f203-ad38227f25b1"
      },
      "source": [
        "data = data_1 + data_2 + data_3 + data_4\n",
        "print(data)"
      ],
      "execution_count": 3,
      "outputs": [
        {
          "output_type": "stream",
          "text": [
            "6,414; 1,550; 2,109; 9,350; 21,828; 4,300; 5,944; 5,722; 2,825; 2,044;5,481; 5,200; 5,853; 2,750; 10,012; 6,357; 27,000; 9,414; 7,681; 3,200; 17,500; 9,200; 7,380; 18,314; 6,557; 13,713; 17,768; 7,493; 2,771; 2,861; 1,263; 7,285; 28,165; 5,080; 11,622\n"
          ],
          "name": "stdout"
        }
      ]
    },
    {
      "cell_type": "markdown",
      "metadata": {
        "id": "pgTz3kKxJmpA"
      },
      "source": [
        "**Convert the single string to a list of strings using split() function. Make sure to specify a delimter or separator.**"
      ]
    },
    {
      "cell_type": "code",
      "metadata": {
        "colab": {
          "base_uri": "https://localhost:8080/"
        },
        "id": "BpuI1zztJv9T",
        "outputId": "3a866fe8-d50a-44c9-f33b-0e80eb2c3f50"
      },
      "source": [
        "x = data.split(\";\")\n",
        "print(x)"
      ],
      "execution_count": 4,
      "outputs": [
        {
          "output_type": "stream",
          "text": [
            "['6,414', ' 1,550', ' 2,109', ' 9,350', ' 21,828', ' 4,300', ' 5,944', ' 5,722', ' 2,825', ' 2,044', '5,481', ' 5,200', ' 5,853', ' 2,750', ' 10,012', ' 6,357', ' 27,000', ' 9,414', ' 7,681', ' 3,200', ' 17,500', ' 9,200', ' 7,380', ' 18,314', ' 6,557', ' 13,713', ' 17,768', ' 7,493', ' 2,771', ' 2,861', ' 1,263', ' 7,285', ' 28,165', ' 5,080', ' 11,622']\n"
          ],
          "name": "stdout"
        }
      ]
    },
    {
      "cell_type": "markdown",
      "metadata": {
        "id": "M_bqs5rpKPiL"
      },
      "source": [
        "**Create a list of integers from the list of strings using List Comprehension or a function. Make sure to remove the \",\" first and then convert the strings to integers**"
      ]
    },
    {
      "cell_type": "code",
      "metadata": {
        "colab": {
          "base_uri": "https://localhost:8080/"
        },
        "id": "MV5nP_LYKGeL",
        "outputId": "6ab576d8-be65-4076-eab7-de1039df058d"
      },
      "source": [
        "e = [int(i.replace(\",\", \"\")) for i in x]\n",
        "print(e)"
      ],
      "execution_count": 5,
      "outputs": [
        {
          "output_type": "stream",
          "text": [
            "[6414, 1550, 2109, 9350, 21828, 4300, 5944, 5722, 2825, 2044, 5481, 5200, 5853, 2750, 10012, 6357, 27000, 9414, 7681, 3200, 17500, 9200, 7380, 18314, 6557, 13713, 17768, 7493, 2771, 2861, 1263, 7285, 28165, 5080, 11622]\n"
          ],
          "name": "stdout"
        }
      ]
    },
    {
      "cell_type": "markdown",
      "metadata": {
        "id": "X93yjYRREwZJ"
      },
      "source": [
        "**#Step 1 - Calculate and Display the Sample Size and Sample Mean**"
      ]
    },
    {
      "cell_type": "code",
      "metadata": {
        "id": "wERwxz1oKdL-",
        "colab": {
          "base_uri": "https://localhost:8080/"
        },
        "outputId": "8c6c341d-a347-4810-a2f2-4f2999a6c040"
      },
      "source": [
        "sample_size = len(e)\n",
        "print(\"Sample size =\", sample_size)"
      ],
      "execution_count": 7,
      "outputs": [
        {
          "output_type": "stream",
          "text": [
            "Sample size = 35\n"
          ],
          "name": "stdout"
        }
      ]
    },
    {
      "cell_type": "code",
      "metadata": {
        "colab": {
          "base_uri": "https://localhost:8080/"
        },
        "id": "9qm5CbMJFYLx",
        "outputId": "d0528c7f-2b4d-45c9-bd2b-0458beecec96"
      },
      "source": [
        "sample_mean = round(np.mean(e),2)\n",
        "print(\"Sample mean =\", sample_mean)"
      ],
      "execution_count": 9,
      "outputs": [
        {
          "output_type": "stream",
          "text": [
            "Sample mean = 8628.74\n"
          ],
          "name": "stdout"
        }
      ]
    },
    {
      "cell_type": "markdown",
      "metadata": {
        "id": "J0MdKWQwFvHp"
      },
      "source": [
        "**#Step 2 - Calculate and Display the Sample Standard Deviation & Sample Standard Error**"
      ]
    },
    {
      "cell_type": "code",
      "metadata": {
        "colab": {
          "base_uri": "https://localhost:8080/"
        },
        "id": "YR1DrQKqF7N3",
        "outputId": "7bfa09e2-bb5a-400e-d9ac-99b3522bbe06"
      },
      "source": [
        "sample_std = np.std(e, ddof=1) \n",
        "sample_std = round(sample_std, 2)         \n",
        "print(\"Sample Standard Deviation =\", sample_std)"
      ],
      "execution_count": 10,
      "outputs": [
        {
          "output_type": "stream",
          "text": [
            "Sample Standard Deviation = 6943.88\n"
          ],
          "name": "stdout"
        }
      ]
    },
    {
      "cell_type": "code",
      "metadata": {
        "colab": {
          "base_uri": "https://localhost:8080/"
        },
        "id": "yGqTzHA4GVBz",
        "outputId": "60de588c-7ba4-4e6d-9b53-30676cb65495"
      },
      "source": [
        "# Calculate Sample Standard Error\n",
        "\n",
        "sample_std_err = sample_std / math.sqrt(sample_size)\n",
        "sample_std_err = round(sample_std_err,2)\n",
        "print(\"Sample Standard Error is\", sample_std_err)"
      ],
      "execution_count": 11,
      "outputs": [
        {
          "output_type": "stream",
          "text": [
            "Sample Standard Error is 1173.73\n"
          ],
          "name": "stdout"
        }
      ]
    },
    {
      "cell_type": "markdown",
      "metadata": {
        "id": "BrplAPz_Gkxo"
      },
      "source": [
        "**# Step 3 - Calculate t Critical Value using t-Distribution**"
      ]
    },
    {
      "cell_type": "code",
      "metadata": {
        "colab": {
          "base_uri": "https://localhost:8080/"
        },
        "id": "pApD_ya9GsTI",
        "outputId": "5b9ea00a-511c-456e-fb5b-c1ac86ce01a2"
      },
      "source": [
        "t_value = stats.t.ppf(0.975, 34)\n",
        "print(\"t critical value or t statistics = \", round(t_value,2))"
      ],
      "execution_count": 14,
      "outputs": [
        {
          "output_type": "stream",
          "text": [
            "t critical value or t statistics =  2.03\n"
          ],
          "name": "stdout"
        }
      ]
    },
    {
      "cell_type": "markdown",
      "metadata": {
        "id": "yEJbMFyaHj-a"
      },
      "source": [
        "**#Step 4 - Calculate the Margin of Error**"
      ]
    },
    {
      "cell_type": "code",
      "metadata": {
        "colab": {
          "base_uri": "https://localhost:8080/"
        },
        "id": "NQIFsnaYH1tK",
        "outputId": "82be7f2d-970b-4a14-e408-8b62ffbef410"
      },
      "source": [
        "margin_of_error = round(t_value * sample_std_err,2) \n",
        "print(\"Margin of Error =\", margin_of_error)"
      ],
      "execution_count": 15,
      "outputs": [
        {
          "output_type": "stream",
          "text": [
            "Margin of Error = 2385.31\n"
          ],
          "name": "stdout"
        }
      ]
    },
    {
      "cell_type": "markdown",
      "metadata": {
        "id": "Y2xaXDkhIIqI"
      },
      "source": [
        "**# Step 5 - Calculate Lower and Upper Limit of the Confidence Interval**"
      ]
    },
    {
      "cell_type": "code",
      "metadata": {
        "colab": {
          "base_uri": "https://localhost:8080/"
        },
        "id": "OWng56L3IOot",
        "outputId": "70b85ee0-de08-4db9-8092-e1afa5cde235"
      },
      "source": [
        "lower_limit = sample_mean - margin_of_error\n",
        "print (\"Lower Limit = \", lower_limit)"
      ],
      "execution_count": 16,
      "outputs": [
        {
          "output_type": "stream",
          "text": [
            "Lower Limit =  6243.43\n"
          ],
          "name": "stdout"
        }
      ]
    },
    {
      "cell_type": "code",
      "metadata": {
        "colab": {
          "base_uri": "https://localhost:8080/"
        },
        "id": "agWieIcXIWy-",
        "outputId": "acea4f55-8fd6-4506-db6a-f2427fa08be2"
      },
      "source": [
        "upper_limit = sample_mean + margin_of_error\n",
        "print (\"Upper Limit = \", upper_limit)"
      ],
      "execution_count": 17,
      "outputs": [
        {
          "output_type": "stream",
          "text": [
            "Upper Limit =  11014.05\n"
          ],
          "name": "stdout"
        }
      ]
    },
    {
      "cell_type": "markdown",
      "metadata": {
        "id": "QoAtq4NsIgZx"
      },
      "source": [
        "**# Step 6 - Now We have the 95% Confidence Interval**"
      ]
    },
    {
      "cell_type": "code",
      "metadata": {
        "colab": {
          "base_uri": "https://localhost:8080/"
        },
        "id": "oUz-qNe7Ik7U",
        "outputId": "07ce6fb9-fde3-471f-82bc-b43aba88ca90"
      },
      "source": [
        "print(\"The 95% Confidence Interval = (\", lower_limit, \",\", upper_limit, \")\")"
      ],
      "execution_count": 18,
      "outputs": [
        {
          "output_type": "stream",
          "text": [
            "The 95% Confidence Interval = ( 6243.43 , 11014.05 )\n"
          ],
          "name": "stdout"
        }
      ]
    }
  ]
}