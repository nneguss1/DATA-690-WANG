{
  "nbformat": 4,
  "nbformat_minor": 0,
  "metadata": {
    "colab": {
      "name": "Individual_Project_Deliverable #1.ipynb",
      "provenance": [],
      "collapsed_sections": [],
      "include_colab_link": true
    },
    "kernelspec": {
      "name": "python3",
      "display_name": "Python 3"
    }
  },
  "cells": [
    {
      "cell_type": "markdown",
      "metadata": {
        "id": "view-in-github",
        "colab_type": "text"
      },
      "source": [
        "<a href=\"https://colab.research.google.com/github/nneguss1/DATA-690-WANG/blob/master/Final_Project/Individual_Project_Deliverable_1.ipynb\" target=\"_parent\"><img src=\"https://colab.research.google.com/assets/colab-badge.svg\" alt=\"Open In Colab\"/></a>"
      ]
    },
    {
      "cell_type": "code",
      "metadata": {
        "id": "P-UNxOf4PnmK"
      },
      "source": [
        ""
      ],
      "execution_count": null,
      "outputs": []
    },
    {
      "cell_type": "markdown",
      "metadata": {
        "id": "74iJkrLKQRWI"
      },
      "source": [
        "**Project Description:**\n",
        "USGS owns and operates about 53 stream gages in state of Maryland. The gages collect daily infomation  and provide realtime information measuring stream discharge, turbidity, temperature, PH, dissolved oxygen level and nutrient content (Nitrate). The gages will provide information to users information on the stream health  and flow conditon. Of the 53 stream gages in Maryland, three gages are located within the Prince Georges County, Maryland. Although this gages have been operational collecting discharge information from as early as 1970's, the waterquality measurements for the gages did not start in the late 2000s. The project will study water quality data for three measuring stations in Prince George's County, Maryland. The water quality data that will be assessed includes sediment measurements, PH, Temperature and turbidity for the given stream. The time frame for the data will be from 2007 to the present. I am planning on getting the population data for the county as well for the correspoinding year to match the downloaded water quality data. \n",
        "\n",
        "**Why we are studying the the data:**\n",
        "The purpose of the analysis will be to invistigate the effect of the changing population in the water quality for the region. The analysis will also look at some key timeframes (wet season, hurricane/high snow melt) in order to investigate how the increasing discharges would impact the change in observed water quality. Some of the questions that will be answered will include:\n",
        "1.   How has the change in population impacted the stream health\n",
        "2.   Can we coorelate increasing stream discharge to the stream health\n",
        "\n",
        "**Source of data and techniques:**\n",
        "The stream data is maintained by the USGS Water Data Services. The gage information contains location of the gage, operating times, measurement provided through the gage, summary duration (instanteous, daily average, and more). For this analysis, the daily measurements will be used as one source of data. In addition to the information from the gages, yearly county population infromation will be obtained from the census bureau for the years 2007 - present. The source for the three gages is included below:\n",
        "\n",
        "\n",
        "*   https://waterdata.usgs.gov/md/nwis/uv/?site_no=01649500&PARAmeter_cd=00010,00095,00400,63680,00300,99133\n",
        "*   https://waterdata.usgs.gov/md/nwis/uv/?site_no=01651730&PARAmeter_cd=00010,00095,00400,63680,00300,99133\n",
        "*   https://waterdata.usgs.gov/md/nwis/uv/?site_no=01649500&PARAmeter_cd=00010,00095,00400,63680,00300,99133\n",
        "\n",
        "Since most of the analysis will involve on pattern observation and study, the focal part of the analysis will involve bar graphs and trend analysis. However individual statstical summary for all the input data will also be provided. \n",
        "\n",
        "\n"
      ]
    }
  ]
}