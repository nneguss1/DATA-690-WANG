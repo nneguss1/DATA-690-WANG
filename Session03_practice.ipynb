{
  "nbformat": 4,
  "nbformat_minor": 0,
  "metadata": {
    "colab": {
      "name": "Session03_practice.ipynb",
      "provenance": [],
      "collapsed_sections": [],
      "authorship_tag": "ABX9TyPuI67Auc0Mlkvp8gYzLUgu",
      "include_colab_link": true
    },
    "kernelspec": {
      "name": "python3",
      "display_name": "Python 3"
    }
  },
  "cells": [
    {
      "cell_type": "markdown",
      "metadata": {
        "id": "view-in-github",
        "colab_type": "text"
      },
      "source": [
        "<a href=\"https://colab.research.google.com/github/nneguss1/DATA-690-WANG/blob/master/Session03_practice.ipynb\" target=\"_parent\"><img src=\"https://colab.research.google.com/assets/colab-badge.svg\" alt=\"Open In Colab\"/></a>"
      ]
    },
    {
      "cell_type": "code",
      "metadata": {
        "id": "Vk0-rCyFagQT",
        "colab_type": "code",
        "colab": {
          "base_uri": "https://localhost:8080/",
          "height": 87
        },
        "outputId": "b5fbddc6-274c-4cb4-f032-e09a49808c72"
      },
      "source": [
        "class_list = 'Wang, Chaojie; Seelam, Arjun Reddy; Rius, Jonathan; Liang, Jinqing; Chowdhury, Debanjan; Maszkiewicz, Lori; Negussie, Neftalem; Steinruck, Michaella; Phogat, Shreshta; Fatima, Misha; Hirabayashi, Scott; Soroush, Masoud; Bolz, Jessica; Mbu Nyamsi, Tchuissi; Dokuzoglu, Yuksel; Gogineni, Shailesh; Pabbisetty, Sai Vinay; Preis, Liam; Jyesta, Vishnu Priya; Narne, Yoshita; Boban, Shruthi; Oberoi, Ashreen Kaur; Cohens, Nashika; Noppinger, Ken; Kakani, Goutham; Hayo, Alyssa'\n",
        "print(class_list)\n",
        "print(class_list.split(';'))\n",
        "new_list = class_list.split(';')\n",
        "first_list = []\n",
        "for person in new_list:\n",
        "  first_name = person.split(\",\")[1]\n",
        "  first_list.append(first_name)\n",
        "print(first_list)\n"
      ],
      "execution_count": 14,
      "outputs": [
        {
          "output_type": "stream",
          "text": [
            "Wang, Chaojie; Seelam, Arjun Reddy; Rius, Jonathan; Liang, Jinqing; Chowdhury, Debanjan; Maszkiewicz, Lori; Negussie, Neftalem; Steinruck, Michaella; Phogat, Shreshta; Fatima, Misha; Hirabayashi, Scott; Soroush, Masoud; Bolz, Jessica; Mbu Nyamsi, Tchuissi; Dokuzoglu, Yuksel; Gogineni, Shailesh; Pabbisetty, Sai Vinay; Preis, Liam; Jyesta, Vishnu Priya; Narne, Yoshita; Boban, Shruthi; Oberoi, Ashreen Kaur; Cohens, Nashika; Noppinger, Ken; Kakani, Goutham; Hayo, Alyssa\n",
            "['Wang, Chaojie', ' Seelam, Arjun Reddy', ' Rius, Jonathan', ' Liang, Jinqing', ' Chowdhury, Debanjan', ' Maszkiewicz, Lori', ' Negussie, Neftalem', ' Steinruck, Michaella', ' Phogat, Shreshta', ' Fatima, Misha', ' Hirabayashi, Scott', ' Soroush, Masoud', ' Bolz, Jessica', ' Mbu Nyamsi, Tchuissi', ' Dokuzoglu, Yuksel', ' Gogineni, Shailesh', ' Pabbisetty, Sai Vinay', ' Preis, Liam', ' Jyesta, Vishnu Priya', ' Narne, Yoshita', ' Boban, Shruthi', ' Oberoi, Ashreen Kaur', ' Cohens, Nashika', ' Noppinger, Ken', ' Kakani, Goutham', ' Hayo, Alyssa']\n",
            "[' Chaojie', ' Arjun Reddy', ' Jonathan', ' Jinqing', ' Debanjan', ' Lori', ' Neftalem', ' Michaella', ' Shreshta', ' Misha', ' Scott', ' Masoud', ' Jessica', ' Tchuissi', ' Yuksel', ' Shailesh', ' Sai Vinay', ' Liam', ' Vishnu Priya', ' Yoshita', ' Shruthi', ' Ashreen Kaur', ' Nashika', ' Ken', ' Goutham', ' Alyssa']\n"
          ],
          "name": "stdout"
        }
      ]
    }
  ]
}