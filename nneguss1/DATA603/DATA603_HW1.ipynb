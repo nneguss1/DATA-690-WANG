{
  "nbformat": 4,
  "nbformat_minor": 0,
  "metadata": {
    "colab": {
      "name": " DATA603_HW1.ipynb",
      "provenance": [],
      "collapsed_sections": [],
      "authorship_tag": "ABX9TyPj2jadW68e80XBpwSDrkyF",
      "include_colab_link": true
    },
    "kernelspec": {
      "name": "python3",
      "display_name": "Python 3"
    },
    "language_info": {
      "name": "python"
    }
  },
  "cells": [
    {
      "cell_type": "markdown",
      "metadata": {
        "id": "view-in-github",
        "colab_type": "text"
      },
      "source": [
        "<a href=\"https://colab.research.google.com/github/nneguss1/DATA-690-WANG/blob/master/nneguss1/DATA603/DATA603_HW1.ipynb\" target=\"_parent\"><img src=\"https://colab.research.google.com/assets/colab-badge.svg\" alt=\"Open In Colab\"/></a>"
      ]
    },
    {
      "cell_type": "markdown",
      "metadata": {
        "id": "HHBgk3wJwhLL"
      },
      "source": [
        "Import the required libraries and define the file location for the book."
      ]
    },
    {
      "cell_type": "code",
      "metadata": {
        "id": "Ut5Smp8vuBd_"
      },
      "source": [
        "import pandas as pd\n",
        "import urllib.request\n",
        "import string\n",
        "book_url = \"https://www.gutenberg.org/files/2600/2600-0.txt\""
      ],
      "execution_count": null,
      "outputs": []
    },
    {
      "cell_type": "markdown",
      "metadata": {
        "id": "Us3Z_UkZw8iO"
      },
      "source": [
        "Clean up the text so that we can remove punctation marks and remove capatalizations. I tried to remove any punctuations that exist in the lines but can not get that to work. "
      ]
    },
    {
      "cell_type": "code",
      "metadata": {
        "colab": {
          "base_uri": "https://localhost:8080/"
        },
        "id": "sD6Rv-WZw4sM",
        "outputId": "7616c524-771d-47b9-a41a-ca087bb22784"
      },
      "source": [
        "book = urllib.request.urlopen(book_url)\n",
        "lined = book.readlines()\n",
        "lines = book.readline()[833:]\n",
        "exclist = string.punctuation\n",
        "#punc ='!()-[]{};:'\"\\,<>./?@#$%^&*_~'\n",
        "uni_wrd =[]\n",
        "print(type(lines))\n",
        "print(type(exclist))\n",
        "\n",
        "for l in lines:\n",
        "  l = l.strip() #remove the spaces before each statement\n",
        "  l = l.lower() #remove capitalization so that the word mismatch will not occure from capitalization\n",
        "  words = l.split()\n",
        "  for word in words:\n",
        "    if word not in uni_wrd:\n",
        "      uni_wrd.append(word)\n",
        "\n",
        "len(uni_wrd)\n",
        "\n",
        "number_of_elements = len(uni_wrd)\n",
        "print(\"The number of unique words in the book is: \", number_of_elements)\n",
        "#len(words)\n",
        "print(lined[0:5])"
      ],
      "execution_count": null,
      "outputs": [
        {
          "output_type": "stream",
          "name": "stdout",
          "text": [
            "<class 'bytes'>\n",
            "<class 'str'>\n",
            "The number of unique words in the book is:  0\n",
            "[b'\\xef\\xbb\\xbfThe Project Gutenberg eBook of War and Peace, by Leo Tolstoy\\r\\n', b'\\r\\n', b'This eBook is for the use of anyone anywhere in the United States and\\r\\n', b'most other parts of the world at no cost and with almost no restrictions\\r\\n', b'whatsoever. You may copy it, give it away or re-use it under the terms\\r\\n']\n"
          ]
        }
      ]
    }
  ]
}